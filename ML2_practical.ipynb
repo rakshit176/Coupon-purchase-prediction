{
 "cells": [
  {
   "cell_type": "markdown",
   "id": "d0527801-4924-40b1-a405-dc71398bcae1",
   "metadata": {
    "tags": []
   },
   "source": [
    "### Coupon Purchase Prediction :\n",
    "\n",
    "In E-commerce contexts, issuing discount shopping coupons is a common approach to encourage sales. However, it is unknown whether a client will utilise the voucher.It is perspective to increase the coupon usage ratio in order to boost the coupon usage ratio. It is important to estimate the likelihood of a user redeeming a discount weather the person is gonna use coupon / weather the customer is gonna buy coupon.\n",
    "We'll look into coupon utilisation likelihood prediction in this section.We treat the problem as a binary classification problem and utilise machine learning to solve it.Methods for analysing consumers' coupon usage behaviour are being learned. Wecarry out a thorough research of coupon usage patterns among consumers\n",
    "\n",
    "Coupon Purchase Prediction's data is available on the Kaggle platform. \n",
    "link : https://www.kaggle.com/c/coupon-purchase-prediction\n",
    "\n",
    "#### Summary :\n",
    "\n",
    "E-commerce platform vendors may provide major promotions (e.g., discounts or cash coupons) on specified days or during specific vacations in order to attract a high number of new consumers.\n",
    "Discount marketing and couponing are common promotional strategies for recruiting new consumers as well as keeping and strengthening existing customer loyalty. The ability to measure a consumer's propensity to use coupons and estimate redemption behaviour are crucial factors in determining the success of a marketing campaign.\n",
    "Promotions for the client are sent out via a range of channels, including email, notifications, and social media. In a number of these promotions, coupons are issued for a single product or a range of items. The retailer's marketing team would like to be able to predict whether customers would redeem coupons received across channels, allowing them to design more precise and focused coupon structures and generate more accurate and targeted marketing techniques.\n",
    "\n",
    "#### Goals :\n",
    "\n",
    "Primary goal: Predict which coupons a consumer will buy in a particular period of time based on previous purchase and browsing activity. From July 2011 to June 2012, the data comprises a year's worth of transactional data for 22873 users. Over the next week, predictions will be made on 310 additional coupons, each with its own set of qualities. The goal is to guess which of these 310 coupons will be purchased by each of the 22873 people.\n",
    "\n",
    "Conduct exploratory analysis on transactional data for 22,873 Ponpare users as a secondary aim.\n",
    "\n",
    "Motivation: The generated models will be utilised to increase the ability to predict which coupons a consumer will purchase, ensuring that they do not miss out on their next favourite item.\n",
    "\n",
    "#### Team Members :\n",
    "\n",
    "Abraham G.K(20BDA20)\n",
    "\n",
    "Rakshith Kumar K N(20BDA47)\n",
    "\n",
    "Chandan J.R(20BDA51)"
   ]
  },
  {
   "cell_type": "code",
   "execution_count": 1,
   "id": "b60b415e-707e-44ad-a910-0cc297c98ce3",
   "metadata": {},
   "outputs": [],
   "source": [
    "import pandas as pd\n",
    "import os\n",
    "import numpy as np\n",
    "pd.set_option('display.max_columns', None)\n",
    "import itertools\n",
    "from zipfile import ZipFile          \n",
    "import time\n",
    "from matplotlib import pyplot as plt\n",
    "import seaborn as sns\n",
    "import datetime as dt\n",
    "import warnings\n",
    "warnings.filterwarnings('ignore')\n",
    "import math\n",
    "import datetime as dt\n",
    "import sklearn as sk\n",
    "from sklearn.preprocessing import *\n",
    "from scipy import spatial"
   ]
  },
  {
   "cell_type": "code",
   "execution_count": 2,
   "id": "8f24d77a-bff5-4c16-8b60-efbbfd42087d",
   "metadata": {},
   "outputs": [],
   "source": [
    "ds_dir = 'D:/aml2/'"
   ]
  },
  {
   "cell_type": "code",
   "execution_count": 3,
   "id": "09a81a60-99d7-4ee9-92fd-6398333156b6",
   "metadata": {},
   "outputs": [],
   "source": [
    "#unzip dataset\n",
    "with ZipFile(os.path.join(ds_dir,\"coupon_detail_train.csv.zip\"), 'r') as zipObj:\n",
    "    zipObj.extractall()\n",
    "with ZipFile(os.path.join(ds_dir,\"coupon_list_test.csv.zip\"), 'r') as zipObj:\n",
    "    zipObj.extractall()\n",
    "with ZipFile(os.path.join(ds_dir,\"coupon_list_train.csv.zip\"), 'r') as zipObj:\n",
    "    zipObj.extractall()\n",
    "with ZipFile(os.path.join(ds_dir,\"coupon_area_train.csv.zip\"), 'r') as zipObj:\n",
    "    zipObj.extractall()\n",
    "with ZipFile(os.path.join(ds_dir,\"coupon_area_test.csv.zip\"), 'r') as zipObj:\n",
    "    zipObj.extractall()\n",
    "with ZipFile(os.path.join(ds_dir,\"coupon_visit_train.csv.zip\"), 'r') as zipObj:\n",
    "    zipObj.extractall()\n",
    "with ZipFile(os.path.join(ds_dir,\"sample_submission.csv.zip\"), 'r') as zipObj:\n",
    "    zipObj.extractall()\n",
    "with ZipFile(os.path.join(ds_dir,\"user_list.csv.zip\"), 'r') as zipObj:\n",
    "    zipObj.extractall()"
   ]
  },
  {
   "cell_type": "markdown",
   "id": "65cf8f44-563f-48d9-80e8-b5e014509de0",
   "metadata": {},
   "source": [
    "### Datasets\n",
    "Ponpare, a coupoun site that we found through Kaggle, provided us with user transactional data. From July 1, 2011 through June 23, 2012, the training set comprises 359 days of consumer activity. The test set runs from June 24 to June 30, 2012, one week following the training set, and comprises seven days of client engagement.\n",
    "\n",
    "### Variables in datasets\n",
    "\n",
    "#### User list.csv \\User list.\n",
    "The master list of users in the dataset is called csv. In user list.csv, there are a total of 22,873 records.\n",
    "\n",
    "#### Coupon list train.csv and Coupon list test.csv.\n",
    "Coupon list train.csv is a master list of coupons that make up the training set.Coupon list train.csv has a total of 19,413 entries.\n",
    "The master list of coupons that are considered part of the test set is coupon list test.csv.\n",
    "Coupon list test.csv has a total of 310 records. The 310 coupons will be used to make predictions for this project.\n",
    "\n",
    "#### Coupn visit train.csv.\n",
    "The viewing log of users browsing coupons throughout the training period is contained in the file coupon visit train.csv.\n",
    "There are 2,833,180 records in coupon visit train.csv.\n",
    "\n",
    "#### Coupon detail train.csv.\n",
    "The coupon detail train.csv file contains a purchase record of users who purchased coupons throughout the training session. Coupon detail train has a total of 168,996 records.\n",
    "\n",
    "#### Coupon area train.csv and Coupon area test.csv are two different types of spreadsheets.\n",
    "The file coupon area train.csv contains a list of coupons and area locations that make up the training set.\n",
    "Coupon list train.csv has a total of 13,8,185 entries in it.\n",
    "The file coupon area test.csv contains a list of coupons and their locations in the test set.\n",
    "The coupon area test.csv file has a total of 2142 entries. The 2142 coupons will be used to generate predictions for this project."
   ]
  },
  {
   "cell_type": "code",
   "execution_count": 4,
   "id": "510e5d28-f68a-4036-a752-0128cd5d49c7",
   "metadata": {},
   "outputs": [],
   "source": [
    "cd_train = pd.read_csv('coupon_detail_train.csv',parse_dates=['I_DATE'])\n",
    "cl_test = pd.read_csv('coupon_list_test.csv', parse_dates=['DISPFROM', 'DISPEND', 'VALIDFROM', 'VALIDEND'])\n",
    "cl_train = pd.read_csv('coupon_list_train.csv', parse_dates=['DISPFROM', 'DISPEND', 'VALIDFROM', 'VALIDEND'])\n",
    "cv_train = pd.read_csv('coupon_visit_train.csv', parse_dates=['I_DATE'])\n",
    "pref_loc = pd.read_csv(os.path.join(ds_dir,'prefecture_locations.csv'))\n",
    "sample_sub = pd.read_csv('sample_submission.csv')\n",
    "ar_train = pd.read_csv('coupon_area_train.csv')\n",
    "ar_test =  pd.read_csv('coupon_area_test.csv')\n",
    "user_list = pd.read_csv('user_list.csv',parse_dates=['WITHDRAW_DATE', 'REG_DATE'])"
   ]
  },
  {
   "cell_type": "markdown",
   "id": "29eeec88-5abd-472d-a2fd-2b6486ff6493",
   "metadata": {},
   "source": [
    "### Load Dataset"
   ]
  },
  {
   "cell_type": "code",
   "execution_count": 5,
   "id": "8987ca1d-bd1e-480a-95f5-dd9ea6d4b294",
   "metadata": {},
   "outputs": [
    {
     "data": {
      "text/html": [
       "<div>\n",
       "<style scoped>\n",
       "    .dataframe tbody tr th:only-of-type {\n",
       "        vertical-align: middle;\n",
       "    }\n",
       "\n",
       "    .dataframe tbody tr th {\n",
       "        vertical-align: top;\n",
       "    }\n",
       "\n",
       "    .dataframe thead th {\n",
       "        text-align: right;\n",
       "    }\n",
       "</style>\n",
       "<table border=\"1\" class=\"dataframe\">\n",
       "  <thead>\n",
       "    <tr style=\"text-align: right;\">\n",
       "      <th></th>\n",
       "      <th>CAPSULE_TEXT</th>\n",
       "      <th>GENRE_NAME</th>\n",
       "      <th>PRICE_RATE</th>\n",
       "      <th>CATALOG_PRICE</th>\n",
       "      <th>DISCOUNT_PRICE</th>\n",
       "      <th>DISPFROM</th>\n",
       "      <th>DISPEND</th>\n",
       "      <th>DISPPERIOD</th>\n",
       "      <th>VALIDFROM</th>\n",
       "      <th>VALIDEND</th>\n",
       "      <th>VALIDPERIOD</th>\n",
       "      <th>USABLE_DATE_MON</th>\n",
       "      <th>USABLE_DATE_TUE</th>\n",
       "      <th>USABLE_DATE_WED</th>\n",
       "      <th>USABLE_DATE_THU</th>\n",
       "      <th>USABLE_DATE_FRI</th>\n",
       "      <th>USABLE_DATE_SAT</th>\n",
       "      <th>USABLE_DATE_SUN</th>\n",
       "      <th>USABLE_DATE_HOLIDAY</th>\n",
       "      <th>USABLE_DATE_BEFORE_HOLIDAY</th>\n",
       "      <th>large_area_name</th>\n",
       "      <th>ken_name</th>\n",
       "      <th>small_area_name</th>\n",
       "      <th>COUPON_ID_hash</th>\n",
       "    </tr>\n",
       "  </thead>\n",
       "  <tbody>\n",
       "    <tr>\n",
       "      <th>0</th>\n",
       "      <td>グルメ</td>\n",
       "      <td>グルメ</td>\n",
       "      <td>50</td>\n",
       "      <td>3000</td>\n",
       "      <td>1500</td>\n",
       "      <td>2011-07-08 12:00:00</td>\n",
       "      <td>2011-07-09 12:00:00</td>\n",
       "      <td>1</td>\n",
       "      <td>2011-07-10</td>\n",
       "      <td>2011-12-08</td>\n",
       "      <td>151.0</td>\n",
       "      <td>1.0</td>\n",
       "      <td>1.0</td>\n",
       "      <td>1.0</td>\n",
       "      <td>1.0</td>\n",
       "      <td>0.0</td>\n",
       "      <td>0.0</td>\n",
       "      <td>1.0</td>\n",
       "      <td>1.0</td>\n",
       "      <td>0.0</td>\n",
       "      <td>関東</td>\n",
       "      <td>埼玉県</td>\n",
       "      <td>埼玉</td>\n",
       "      <td>6b263844241eea98c5a97f1335ea82af</td>\n",
       "    </tr>\n",
       "    <tr>\n",
       "      <th>1</th>\n",
       "      <td>グルメ</td>\n",
       "      <td>グルメ</td>\n",
       "      <td>51</td>\n",
       "      <td>2080</td>\n",
       "      <td>1000</td>\n",
       "      <td>2011-07-01 12:00:00</td>\n",
       "      <td>2011-07-02 12:00:00</td>\n",
       "      <td>1</td>\n",
       "      <td>2011-07-03</td>\n",
       "      <td>2011-12-04</td>\n",
       "      <td>154.0</td>\n",
       "      <td>1.0</td>\n",
       "      <td>1.0</td>\n",
       "      <td>1.0</td>\n",
       "      <td>1.0</td>\n",
       "      <td>1.0</td>\n",
       "      <td>1.0</td>\n",
       "      <td>1.0</td>\n",
       "      <td>1.0</td>\n",
       "      <td>1.0</td>\n",
       "      <td>関東</td>\n",
       "      <td>千葉県</td>\n",
       "      <td>千葉</td>\n",
       "      <td>cc031f250e8bad1e24060263b9fc0ddd</td>\n",
       "    </tr>\n",
       "    <tr>\n",
       "      <th>2</th>\n",
       "      <td>グルメ</td>\n",
       "      <td>グルメ</td>\n",
       "      <td>50</td>\n",
       "      <td>7000</td>\n",
       "      <td>3500</td>\n",
       "      <td>2011-07-12 12:00:00</td>\n",
       "      <td>2011-07-15 12:00:00</td>\n",
       "      <td>3</td>\n",
       "      <td>2011-07-16</td>\n",
       "      <td>2012-01-11</td>\n",
       "      <td>179.0</td>\n",
       "      <td>0.0</td>\n",
       "      <td>1.0</td>\n",
       "      <td>1.0</td>\n",
       "      <td>1.0</td>\n",
       "      <td>1.0</td>\n",
       "      <td>1.0</td>\n",
       "      <td>1.0</td>\n",
       "      <td>1.0</td>\n",
       "      <td>1.0</td>\n",
       "      <td>関東</td>\n",
       "      <td>千葉県</td>\n",
       "      <td>千葉</td>\n",
       "      <td>ba5e9b7453ca52ff711635a5d2e8102d</td>\n",
       "    </tr>\n",
       "    <tr>\n",
       "      <th>3</th>\n",
       "      <td>グルメ</td>\n",
       "      <td>グルメ</td>\n",
       "      <td>50</td>\n",
       "      <td>3000</td>\n",
       "      <td>1500</td>\n",
       "      <td>2011-07-09 12:00:00</td>\n",
       "      <td>2011-07-11 12:00:00</td>\n",
       "      <td>2</td>\n",
       "      <td>2011-07-12</td>\n",
       "      <td>2011-12-01</td>\n",
       "      <td>142.0</td>\n",
       "      <td>1.0</td>\n",
       "      <td>1.0</td>\n",
       "      <td>1.0</td>\n",
       "      <td>1.0</td>\n",
       "      <td>0.0</td>\n",
       "      <td>0.0</td>\n",
       "      <td>1.0</td>\n",
       "      <td>1.0</td>\n",
       "      <td>1.0</td>\n",
       "      <td>関東</td>\n",
       "      <td>千葉県</td>\n",
       "      <td>千葉</td>\n",
       "      <td>3e1ffbedca3569f9e8032d401e8cb4e6</td>\n",
       "    </tr>\n",
       "    <tr>\n",
       "      <th>4</th>\n",
       "      <td>グルメ</td>\n",
       "      <td>グルメ</td>\n",
       "      <td>50</td>\n",
       "      <td>2000</td>\n",
       "      <td>1000</td>\n",
       "      <td>2011-07-05 12:00:00</td>\n",
       "      <td>2011-07-06 12:00:00</td>\n",
       "      <td>1</td>\n",
       "      <td>2011-07-07</td>\n",
       "      <td>2011-12-30</td>\n",
       "      <td>176.0</td>\n",
       "      <td>1.0</td>\n",
       "      <td>1.0</td>\n",
       "      <td>0.0</td>\n",
       "      <td>1.0</td>\n",
       "      <td>0.0</td>\n",
       "      <td>0.0</td>\n",
       "      <td>1.0</td>\n",
       "      <td>1.0</td>\n",
       "      <td>0.0</td>\n",
       "      <td>関東</td>\n",
       "      <td>千葉県</td>\n",
       "      <td>千葉</td>\n",
       "      <td>782934b6c815b4030ea204eef7d4a734</td>\n",
       "    </tr>\n",
       "    <tr>\n",
       "      <th>...</th>\n",
       "      <td>...</td>\n",
       "      <td>...</td>\n",
       "      <td>...</td>\n",
       "      <td>...</td>\n",
       "      <td>...</td>\n",
       "      <td>...</td>\n",
       "      <td>...</td>\n",
       "      <td>...</td>\n",
       "      <td>...</td>\n",
       "      <td>...</td>\n",
       "      <td>...</td>\n",
       "      <td>...</td>\n",
       "      <td>...</td>\n",
       "      <td>...</td>\n",
       "      <td>...</td>\n",
       "      <td>...</td>\n",
       "      <td>...</td>\n",
       "      <td>...</td>\n",
       "      <td>...</td>\n",
       "      <td>...</td>\n",
       "      <td>...</td>\n",
       "      <td>...</td>\n",
       "      <td>...</td>\n",
       "      <td>...</td>\n",
       "    </tr>\n",
       "    <tr>\n",
       "      <th>19408</th>\n",
       "      <td>ネイル・アイ</td>\n",
       "      <td>ネイル・アイ</td>\n",
       "      <td>65</td>\n",
       "      <td>10000</td>\n",
       "      <td>3500</td>\n",
       "      <td>2011-07-14 12:00:00</td>\n",
       "      <td>2011-07-17 12:00:00</td>\n",
       "      <td>3</td>\n",
       "      <td>2011-07-18</td>\n",
       "      <td>2011-12-30</td>\n",
       "      <td>165.0</td>\n",
       "      <td>1.0</td>\n",
       "      <td>0.0</td>\n",
       "      <td>1.0</td>\n",
       "      <td>1.0</td>\n",
       "      <td>1.0</td>\n",
       "      <td>1.0</td>\n",
       "      <td>1.0</td>\n",
       "      <td>1.0</td>\n",
       "      <td>1.0</td>\n",
       "      <td>北信越</td>\n",
       "      <td>新潟県</td>\n",
       "      <td>新潟</td>\n",
       "      <td>fe334f1a5e0dc54eca76b9dd9559661b</td>\n",
       "    </tr>\n",
       "    <tr>\n",
       "      <th>19409</th>\n",
       "      <td>グルメ</td>\n",
       "      <td>グルメ</td>\n",
       "      <td>50</td>\n",
       "      <td>5980</td>\n",
       "      <td>2990</td>\n",
       "      <td>2011-09-30 12:00:00</td>\n",
       "      <td>2011-10-03 12:00:00</td>\n",
       "      <td>3</td>\n",
       "      <td>2011-10-04</td>\n",
       "      <td>2012-02-29</td>\n",
       "      <td>148.0</td>\n",
       "      <td>1.0</td>\n",
       "      <td>1.0</td>\n",
       "      <td>1.0</td>\n",
       "      <td>1.0</td>\n",
       "      <td>1.0</td>\n",
       "      <td>1.0</td>\n",
       "      <td>1.0</td>\n",
       "      <td>1.0</td>\n",
       "      <td>1.0</td>\n",
       "      <td>関東</td>\n",
       "      <td>東京都</td>\n",
       "      <td>新宿・高田馬場・中野・吉祥寺</td>\n",
       "      <td>8dc11b257cb1c5b98e7b7c66d9b2b779</td>\n",
       "    </tr>\n",
       "    <tr>\n",
       "      <th>19410</th>\n",
       "      <td>グルメ</td>\n",
       "      <td>グルメ</td>\n",
       "      <td>50</td>\n",
       "      <td>6300</td>\n",
       "      <td>3150</td>\n",
       "      <td>2011-09-03 12:00:00</td>\n",
       "      <td>2011-09-05 12:00:00</td>\n",
       "      <td>2</td>\n",
       "      <td>2011-09-06</td>\n",
       "      <td>2011-11-30</td>\n",
       "      <td>85.0</td>\n",
       "      <td>0.0</td>\n",
       "      <td>1.0</td>\n",
       "      <td>1.0</td>\n",
       "      <td>1.0</td>\n",
       "      <td>2.0</td>\n",
       "      <td>2.0</td>\n",
       "      <td>1.0</td>\n",
       "      <td>1.0</td>\n",
       "      <td>2.0</td>\n",
       "      <td>関東</td>\n",
       "      <td>東京都</td>\n",
       "      <td>渋谷・青山・自由が丘</td>\n",
       "      <td>b15e2d7619c3fd9c6be567c971bdf4f4</td>\n",
       "    </tr>\n",
       "    <tr>\n",
       "      <th>19411</th>\n",
       "      <td>グルメ</td>\n",
       "      <td>グルメ</td>\n",
       "      <td>50</td>\n",
       "      <td>2400</td>\n",
       "      <td>1200</td>\n",
       "      <td>2011-07-15 12:00:00</td>\n",
       "      <td>2011-07-17 12:00:00</td>\n",
       "      <td>2</td>\n",
       "      <td>2011-07-18</td>\n",
       "      <td>2011-10-31</td>\n",
       "      <td>105.0</td>\n",
       "      <td>1.0</td>\n",
       "      <td>1.0</td>\n",
       "      <td>1.0</td>\n",
       "      <td>1.0</td>\n",
       "      <td>1.0</td>\n",
       "      <td>1.0</td>\n",
       "      <td>1.0</td>\n",
       "      <td>1.0</td>\n",
       "      <td>1.0</td>\n",
       "      <td>関東</td>\n",
       "      <td>東京都</td>\n",
       "      <td>銀座・新橋・東京・上野</td>\n",
       "      <td>e1141a4b2798450f36e40090659c0b07</td>\n",
       "    </tr>\n",
       "    <tr>\n",
       "      <th>19412</th>\n",
       "      <td>グルメ</td>\n",
       "      <td>グルメ</td>\n",
       "      <td>60</td>\n",
       "      <td>6000</td>\n",
       "      <td>2400</td>\n",
       "      <td>2011-07-23 12:00:00</td>\n",
       "      <td>2011-07-26 12:00:00</td>\n",
       "      <td>3</td>\n",
       "      <td>2011-07-27</td>\n",
       "      <td>2011-11-30</td>\n",
       "      <td>126.0</td>\n",
       "      <td>1.0</td>\n",
       "      <td>1.0</td>\n",
       "      <td>1.0</td>\n",
       "      <td>1.0</td>\n",
       "      <td>0.0</td>\n",
       "      <td>0.0</td>\n",
       "      <td>1.0</td>\n",
       "      <td>1.0</td>\n",
       "      <td>0.0</td>\n",
       "      <td>関東</td>\n",
       "      <td>東京都</td>\n",
       "      <td>新宿・高田馬場・中野・吉祥寺</td>\n",
       "      <td>79303de03e3af7105cded55960d62ac3</td>\n",
       "    </tr>\n",
       "  </tbody>\n",
       "</table>\n",
       "<p>19413 rows × 24 columns</p>\n",
       "</div>"
      ],
      "text/plain": [
       "      CAPSULE_TEXT GENRE_NAME  PRICE_RATE  CATALOG_PRICE  DISCOUNT_PRICE  \\\n",
       "0              グルメ        グルメ          50           3000            1500   \n",
       "1              グルメ        グルメ          51           2080            1000   \n",
       "2              グルメ        グルメ          50           7000            3500   \n",
       "3              グルメ        グルメ          50           3000            1500   \n",
       "4              グルメ        グルメ          50           2000            1000   \n",
       "...            ...        ...         ...            ...             ...   \n",
       "19408       ネイル・アイ     ネイル・アイ          65          10000            3500   \n",
       "19409          グルメ        グルメ          50           5980            2990   \n",
       "19410          グルメ        グルメ          50           6300            3150   \n",
       "19411          グルメ        グルメ          50           2400            1200   \n",
       "19412          グルメ        グルメ          60           6000            2400   \n",
       "\n",
       "                 DISPFROM             DISPEND  DISPPERIOD  VALIDFROM  \\\n",
       "0     2011-07-08 12:00:00 2011-07-09 12:00:00           1 2011-07-10   \n",
       "1     2011-07-01 12:00:00 2011-07-02 12:00:00           1 2011-07-03   \n",
       "2     2011-07-12 12:00:00 2011-07-15 12:00:00           3 2011-07-16   \n",
       "3     2011-07-09 12:00:00 2011-07-11 12:00:00           2 2011-07-12   \n",
       "4     2011-07-05 12:00:00 2011-07-06 12:00:00           1 2011-07-07   \n",
       "...                   ...                 ...         ...        ...   \n",
       "19408 2011-07-14 12:00:00 2011-07-17 12:00:00           3 2011-07-18   \n",
       "19409 2011-09-30 12:00:00 2011-10-03 12:00:00           3 2011-10-04   \n",
       "19410 2011-09-03 12:00:00 2011-09-05 12:00:00           2 2011-09-06   \n",
       "19411 2011-07-15 12:00:00 2011-07-17 12:00:00           2 2011-07-18   \n",
       "19412 2011-07-23 12:00:00 2011-07-26 12:00:00           3 2011-07-27   \n",
       "\n",
       "        VALIDEND  VALIDPERIOD  USABLE_DATE_MON  USABLE_DATE_TUE  \\\n",
       "0     2011-12-08        151.0              1.0              1.0   \n",
       "1     2011-12-04        154.0              1.0              1.0   \n",
       "2     2012-01-11        179.0              0.0              1.0   \n",
       "3     2011-12-01        142.0              1.0              1.0   \n",
       "4     2011-12-30        176.0              1.0              1.0   \n",
       "...          ...          ...              ...              ...   \n",
       "19408 2011-12-30        165.0              1.0              0.0   \n",
       "19409 2012-02-29        148.0              1.0              1.0   \n",
       "19410 2011-11-30         85.0              0.0              1.0   \n",
       "19411 2011-10-31        105.0              1.0              1.0   \n",
       "19412 2011-11-30        126.0              1.0              1.0   \n",
       "\n",
       "       USABLE_DATE_WED  USABLE_DATE_THU  USABLE_DATE_FRI  USABLE_DATE_SAT  \\\n",
       "0                  1.0              1.0              0.0              0.0   \n",
       "1                  1.0              1.0              1.0              1.0   \n",
       "2                  1.0              1.0              1.0              1.0   \n",
       "3                  1.0              1.0              0.0              0.0   \n",
       "4                  0.0              1.0              0.0              0.0   \n",
       "...                ...              ...              ...              ...   \n",
       "19408              1.0              1.0              1.0              1.0   \n",
       "19409              1.0              1.0              1.0              1.0   \n",
       "19410              1.0              1.0              2.0              2.0   \n",
       "19411              1.0              1.0              1.0              1.0   \n",
       "19412              1.0              1.0              0.0              0.0   \n",
       "\n",
       "       USABLE_DATE_SUN  USABLE_DATE_HOLIDAY  USABLE_DATE_BEFORE_HOLIDAY  \\\n",
       "0                  1.0                  1.0                         0.0   \n",
       "1                  1.0                  1.0                         1.0   \n",
       "2                  1.0                  1.0                         1.0   \n",
       "3                  1.0                  1.0                         1.0   \n",
       "4                  1.0                  1.0                         0.0   \n",
       "...                ...                  ...                         ...   \n",
       "19408              1.0                  1.0                         1.0   \n",
       "19409              1.0                  1.0                         1.0   \n",
       "19410              1.0                  1.0                         2.0   \n",
       "19411              1.0                  1.0                         1.0   \n",
       "19412              1.0                  1.0                         0.0   \n",
       "\n",
       "      large_area_name ken_name small_area_name  \\\n",
       "0                  関東      埼玉県              埼玉   \n",
       "1                  関東      千葉県              千葉   \n",
       "2                  関東      千葉県              千葉   \n",
       "3                  関東      千葉県              千葉   \n",
       "4                  関東      千葉県              千葉   \n",
       "...               ...      ...             ...   \n",
       "19408             北信越      新潟県              新潟   \n",
       "19409              関東      東京都  新宿・高田馬場・中野・吉祥寺   \n",
       "19410              関東      東京都      渋谷・青山・自由が丘   \n",
       "19411              関東      東京都     銀座・新橋・東京・上野   \n",
       "19412              関東      東京都  新宿・高田馬場・中野・吉祥寺   \n",
       "\n",
       "                         COUPON_ID_hash  \n",
       "0      6b263844241eea98c5a97f1335ea82af  \n",
       "1      cc031f250e8bad1e24060263b9fc0ddd  \n",
       "2      ba5e9b7453ca52ff711635a5d2e8102d  \n",
       "3      3e1ffbedca3569f9e8032d401e8cb4e6  \n",
       "4      782934b6c815b4030ea204eef7d4a734  \n",
       "...                                 ...  \n",
       "19408  fe334f1a5e0dc54eca76b9dd9559661b  \n",
       "19409  8dc11b257cb1c5b98e7b7c66d9b2b779  \n",
       "19410  b15e2d7619c3fd9c6be567c971bdf4f4  \n",
       "19411  e1141a4b2798450f36e40090659c0b07  \n",
       "19412  79303de03e3af7105cded55960d62ac3  \n",
       "\n",
       "[19413 rows x 24 columns]"
      ]
     },
     "execution_count": 5,
     "metadata": {},
     "output_type": "execute_result"
    }
   ],
   "source": [
    "cl_train"
   ]
  },
  {
   "cell_type": "code",
   "execution_count": 6,
   "id": "65ea87be-d55d-4fee-87df-ac5f60959b6d",
   "metadata": {},
   "outputs": [],
   "source": [
    "dsdir = 'D:/aml2/input/'"
   ]
  },
  {
   "cell_type": "code",
   "execution_count": 7,
   "id": "a4552e4c-d177-4141-9324-42db3f23345e",
   "metadata": {},
   "outputs": [],
   "source": [
    "pref = pd.read_csv(os.path.join(dsdir,'PREF.csv'),index_col='jp') "
   ]
  },
  {
   "cell_type": "code",
   "execution_count": 8,
   "id": "3a0a6031-b307-448e-9d96-85eed1bffe9b",
   "metadata": {},
   "outputs": [],
   "source": [
    "pref_office = pd.read_csv(os.path.join(dsdir,'pref_office.csv'),index_col='jp') "
   ]
  },
  {
   "cell_type": "code",
   "execution_count": 9,
   "id": "665b1c33-8995-41f0-84c9-60d2bb1e7e66",
   "metadata": {},
   "outputs": [],
   "source": [
    "small_area_name = pd.read_csv(os.path.join(dsdir,'SMALLAREA.csv'),index_col='jp')\n",
    "big_area_name = pd.read_csv(os.path.join(dsdir,'LARGEAREA.csv'),index_col='jp') "
   ]
  },
  {
   "cell_type": "code",
   "execution_count": 10,
   "id": "7ec89d81-cc44-4912-a502-c2a89ad39b84",
   "metadata": {},
   "outputs": [],
   "source": [
    "capsule_text = pd.read_csv(os.path.join(dsdir,'CAPSULE.csv'),index_col='jp')\n",
    "genre_name = pd.read_csv(os.path.join(dsdir,'GENRE.csv'),index_col='jp')"
   ]
  },
  {
   "cell_type": "markdown",
   "id": "7ebd89c0-fbb8-48c0-b4a6-8ffc2379a1e3",
   "metadata": {},
   "source": [
    "### Translator : Translate JPN TO EN"
   ]
  },
  {
   "cell_type": "code",
   "execution_count": 11,
   "id": "32783bad-cb4b-4fe1-8f74-f4242a66473f",
   "metadata": {},
   "outputs": [],
   "source": [
    "cl_test.CAPSULE_TEXT = cl_test.CAPSULE_TEXT.replace(capsule_text.to_dict()['en']) \n",
    "cl_train.CAPSULE_TEXT = cl_train.CAPSULE_TEXT.replace(capsule_text.to_dict()['en'])"
   ]
  },
  {
   "cell_type": "code",
   "execution_count": 12,
   "id": "75aa558f-3829-45a3-85f2-fdaa2e2ecf2f",
   "metadata": {},
   "outputs": [],
   "source": [
    "cl_test.GENRE_NAME = cl_test.GENRE_NAME.replace(genre_name.to_dict()['en']) \n",
    "cl_train.GENRE_NAME = cl_train.GENRE_NAME.replace(genre_name.to_dict()['en'])"
   ]
  },
  {
   "cell_type": "code",
   "execution_count": 13,
   "id": "e5ab3b0c-d9e9-4ef0-ae31-e63dd6bc6b19",
   "metadata": {},
   "outputs": [],
   "source": [
    "cl_test.ken_name = cl_test.ken_name.replace(pref.to_dict()['en']) \n",
    "cl_train.ken_name = cl_train.ken_name.replace(pref.to_dict()['en']) \n",
    "pref_loc.PREF_NAME = pref_loc.PREF_NAME.replace(pref.to_dict()['en']) \n",
    "user_list.PREF_NAME = user_list.PREF_NAME.replace(pref.to_dict()['en'])\n",
    "ar_train.PREF_NAME = ar_train.PREF_NAME.replace(pref.to_dict()['en'])\n",
    "ar_test.PREF_NAME = ar_test.PREF_NAME.replace(pref.to_dict()['en'])"
   ]
  },
  {
   "cell_type": "code",
   "execution_count": 14,
   "id": "20eac15d-72e8-431b-b4f0-cb9b9ea6dbbb",
   "metadata": {},
   "outputs": [],
   "source": [
    "pref_loc.PREFECTUAL_OFFICE = pref_loc.PREFECTUAL_OFFICE.replace(pref_office.to_dict()['en'])"
   ]
  },
  {
   "cell_type": "code",
   "execution_count": 15,
   "id": "4fc2ceaa-91f5-47f7-9ca9-a6a00fb271e3",
   "metadata": {},
   "outputs": [],
   "source": [
    "ar_train.SMALL_AREA_NAME = ar_train.SMALL_AREA_NAME.replace(small_area_name.to_dict()['en'])\n",
    "ar_test.SMALL_AREA_NAME = ar_test.SMALL_AREA_NAME.replace(small_area_name.to_dict()['en'])\n",
    "cd_train.SMALL_AREA_NAME = cd_train.SMALL_AREA_NAME.replace(small_area_name.to_dict()['en'])\n",
    "cl_test.small_area_name = cl_test.small_area_name.replace(small_area_name.to_dict()['en']) \n",
    "cl_train.small_area_name = cl_train.small_area_name.replace(small_area_name.to_dict()['en'])"
   ]
  },
  {
   "cell_type": "code",
   "execution_count": 16,
   "id": "bc7b7ebc-c413-4c44-8b70-e9dbfece6027",
   "metadata": {},
   "outputs": [],
   "source": [
    "cl_test.large_area_name = cl_test.large_area_name.replace(big_area_name.to_dict()['en']) \n",
    "cl_train.large_area_name = cl_train.large_area_name.replace(big_area_name.to_dict()['en'])"
   ]
  },
  {
   "cell_type": "code",
   "execution_count": 17,
   "id": "720733ff-707b-4ca3-886d-e3ed1d55a349",
   "metadata": {},
   "outputs": [],
   "source": [
    "def summary_table(table):\n",
    "    df = pd.DataFrame()\n",
    "    for i in table.columns:\n",
    "        name = i\n",
    "        dtype = table[i].dtype.name\n",
    "        null = table[i].isnull().sum()\n",
    "        act = table.shape[0] - null\n",
    "        unique = len(table[i].unique())\n",
    "        data = {'name': name, 'dtype': dtype, 'null': null, 'act': act, 'unique': unique}\n",
    "        df = df.append(data, ignore_index=True)\n",
    "    return df"
   ]
  },
  {
   "cell_type": "markdown",
   "id": "f0a85200-c588-4013-bfff-adca4fa11f3b",
   "metadata": {},
   "source": [
    "### Data Preproceesing"
   ]
  },
  {
   "cell_type": "code",
   "execution_count": 18,
   "id": "150eda77-11e1-4e22-8065-4b7b3d92172b",
   "metadata": {},
   "outputs": [],
   "source": [
    "cd_train['PURCHASE_FLG'] = 1\n",
    "cv_train['VIEW'] = 1\n",
    "cd_train.rename(columns = {'I_DATE': 'purchase_date', 'SMALL_AREA_NAME': 'resid_small' }, inplace=True) # 거주지 구분을 위해 컬럼명 변경\n",
    "cv_train.rename(columns = {'I_DATE': 'view_date', 'VIEW_COUPON_ID_hash':'COUPON_ID_hash'}, inplace=True)"
   ]
  },
  {
   "cell_type": "code",
   "execution_count": 19,
   "id": "c41600de-b4ab-4a16-a945-25722693f69e",
   "metadata": {},
   "outputs": [
    {
     "name": "stdout",
     "output_type": "stream",
     "text": [
      "(168996, 6)\n",
      "(2833180, 6)\n",
      "(2913043, 9)\n"
     ]
    }
   ],
   "source": [
    "cd_train['purchase_date'] = pd.to_datetime(cd_train['purchase_date'].dt.date)\n",
    "cv_train['view_date'] = pd.to_datetime(cv_train['view_date'].dt.date)\n",
    "\n",
    "cv_train.drop(labels=['REFERRER_hash', 'SESSION_ID_hash', 'PURCHASEID_hash'], axis=1, inplace=True)\n",
    "cd_train.drop(labels=['PURCHASEID_hash'], axis=1, inplace=True)\n",
    "\n",
    "\n",
    "train = pd.merge(cd_train, cv_train, how='outer')\n",
    "\n",
    "print(cd_train.shape)\n",
    "print(cv_train.shape)\n",
    "print(train.shape)"
   ]
  },
  {
   "cell_type": "code",
   "execution_count": 20,
   "id": "d54a4ae4-9657-47b5-b7e3-2b27c2d6b536",
   "metadata": {},
   "outputs": [
    {
     "data": {
      "text/plain": [
       "Index(['SMALL_AREA_NAME', 'PREF_NAME', 'COUPON_ID_hash'], dtype='object')"
      ]
     },
     "execution_count": 20,
     "metadata": {},
     "output_type": "execute_result"
    }
   ],
   "source": [
    "ar_train.columns"
   ]
  },
  {
   "cell_type": "code",
   "execution_count": 21,
   "id": "6a5e9437-c11e-4d58-ba8c-bfc6c5e8586c",
   "metadata": {},
   "outputs": [],
   "source": [
    "train2 = pd.merge(train, user_list, how='left', on='USER_ID_hash')"
   ]
  },
  {
   "cell_type": "code",
   "execution_count": 22,
   "id": "ea51d3b9-7257-4a2e-9601-ed724f95a779",
   "metadata": {},
   "outputs": [],
   "source": [
    "train2 = pd.merge(train2, cl_train, how='left', on='COUPON_ID_hash')"
   ]
  },
  {
   "cell_type": "code",
   "execution_count": 23,
   "id": "9d3383eb-6f6a-48ca-be0e-5437875f71a5",
   "metadata": {},
   "outputs": [],
   "source": [
    "train2.rename(columns={'PREF_NAME':'user_pref', 'ken_name':'spot_pref'},inplace=True)"
   ]
  },
  {
   "cell_type": "code",
   "execution_count": 24,
   "id": "062bd26f-f7d5-444a-b0f8-460b2763fc63",
   "metadata": {},
   "outputs": [],
   "source": [
    "df = train2[['COUPON_ID_hash','USER_ID_hash','user_pref','spot_pref']]"
   ]
  },
  {
   "cell_type": "code",
   "execution_count": 25,
   "id": "875f90e4-46c8-4c1a-aa54-4768e9350be0",
   "metadata": {},
   "outputs": [],
   "source": [
    "lookup_table = ar_train.groupby('COUPON_ID_hash').apply(lambda x: list(x.PREF_NAME))\n",
    "lookup_table = pd.DataFrame(lookup_table, columns = ['coupon_pref']).reset_index()"
   ]
  },
  {
   "cell_type": "code",
   "execution_count": 26,
   "id": "23626376-9d32-413f-9b36-87f11a468b97",
   "metadata": {},
   "outputs": [],
   "source": [
    "df_loc = pd.merge(df, lookup_table, how='left', on='COUPON_ID_hash')"
   ]
  },
  {
   "cell_type": "code",
   "execution_count": 27,
   "id": "cfbfa689-23b6-4d73-bd84-a941684297af",
   "metadata": {},
   "outputs": [],
   "source": [
    "df_loc['user_pref'] = df_loc['user_pref'].fillna(\"NA\")"
   ]
  },
  {
   "cell_type": "code",
   "execution_count": 28,
   "id": "b35f4b55-ab07-469b-ba7a-f260ddadc74f",
   "metadata": {},
   "outputs": [],
   "source": [
    "df_loc['coupon_pref'] = df_loc['coupon_pref'].fillna(\"NA_pref\")"
   ]
  },
  {
   "cell_type": "code",
   "execution_count": 29,
   "id": "e88a5430-fdf3-4743-bf4e-44562a61003a",
   "metadata": {},
   "outputs": [],
   "source": [
    "def aa(x, y):\n",
    "    if x in y:\n",
    "        return 1\n",
    "    else:\n",
    "        return 0"
   ]
  },
  {
   "cell_type": "code",
   "execution_count": 30,
   "id": "f7beaa18-382c-44b4-846b-7771ff9eb3ca",
   "metadata": {},
   "outputs": [],
   "source": [
    "df_loc['PREF_in'] = df_loc.apply(lambda df2: aa(df2['user_pref'], df2['coupon_pref']), axis=1)"
   ]
  },
  {
   "cell_type": "code",
   "execution_count": 31,
   "id": "f5ce6850-d078-4935-84d6-174e94ebd4ca",
   "metadata": {},
   "outputs": [],
   "source": [
    "pref_loc.drop('PREFECTUAL_OFFICE', axis=1, inplace=True)"
   ]
  },
  {
   "cell_type": "code",
   "execution_count": 32,
   "id": "58f34e3f-4d71-478b-816c-bd4f8f141211",
   "metadata": {},
   "outputs": [],
   "source": [
    "pref_loc.rename(columns={'PREF_NAME':'user_pref'},inplace=True)\n",
    "df_loc = pd.merge(df_loc, pref_loc, how='left', on='user_pref')\n",
    "\n",
    "pref_loc.rename(columns={'user_pref':'spot_pref'},inplace=True)\n",
    "df_loc = pd.merge(df_loc, pref_loc, how='left', on='spot_pref')"
   ]
  },
  {
   "cell_type": "code",
   "execution_count": 33,
   "id": "1d535939-8209-4949-8cc5-ff7c3d86e0d7",
   "metadata": {},
   "outputs": [],
   "source": [
    "from math import cos, asin, sqrt\n",
    "\n",
    "def distance(lat1, lon1, lat2, lon2):\n",
    "    p = 0.017453292519943295     \n",
    "    a = 0.5 - cos((lat2 - lat1) * p)/2 + cos(lat1 * p) * cos(lat2 * p) * (1 - cos((lon2 - lon1) * p)) / 2\n",
    "    return 12742 * asin(sqrt(a))"
   ]
  },
  {
   "cell_type": "code",
   "execution_count": 34,
   "id": "c2e8e106-f825-4548-8e9d-71436bde2feb",
   "metadata": {},
   "outputs": [],
   "source": [
    "df_loc['distance'] = df_loc.apply(lambda df_loc : distance(df_loc['LATITUDE_x'] , df_loc['LONGITUDE_x'] ,df_loc['LATITUDE_y'], df_loc['LONGITUDE_y']), axis=1)"
   ]
  },
  {
   "cell_type": "code",
   "execution_count": 35,
   "id": "8427b1b5-4f55-4ea4-b83e-a3173601dc4c",
   "metadata": {},
   "outputs": [],
   "source": [
    "train_loc = df_loc[['COUPON_ID_hash', 'USER_ID_hash', 'distance', 'PREF_in']]"
   ]
  },
  {
   "cell_type": "code",
   "execution_count": 36,
   "id": "0065097a-74d6-4b10-b823-a1ff799fbd2f",
   "metadata": {},
   "outputs": [],
   "source": [
    "cl_list = pd.merge(cl_test, cl_train, how='outer')"
   ]
  },
  {
   "cell_type": "code",
   "execution_count": 37,
   "id": "10ba3133-5473-4cd9-8c46-e673766e19ed",
   "metadata": {},
   "outputs": [
    {
     "data": {
      "text/plain": [
       "((310, 24), (19413, 24), (19723, 24))"
      ]
     },
     "execution_count": 37,
     "metadata": {},
     "output_type": "execute_result"
    }
   ],
   "source": [
    "cl_test.shape, cl_train.shape, cl_list.shape"
   ]
  },
  {
   "cell_type": "code",
   "execution_count": 38,
   "id": "746b8410-ce15-4b0f-8fac-dacdacf74246",
   "metadata": {},
   "outputs": [],
   "source": [
    "cl_list['Case'] = cl_list['CAPSULE_TEXT'] + cl_list['GENRE_NAME']\n",
    "cl_list['Case'] = cl_list['Case'].apply(lambda x: \"HOTEL\" if x == 'Guest houseHotel and Japanese hotel' \n",
    "                          or x == 'HotelHotel and Japanese hotel'\n",
    "                          or x == 'Japanese hotelHotel and Japanese hotel'\n",
    "                          or x == 'Japanse guest houseHotel and Japanese hotel'\n",
    "                          or x == 'LodgeHotel and Japanese hotel'\n",
    "                          or x == 'Public hotelHotel and Japanese hotel'\n",
    "                          or x == 'Resort innHotel and Japanese hotel'\n",
    "                          or x == 'Vacation rentalHotel and Japanese hotel'\n",
    "                          else \"NAIL\" if x == 'Nail and eye salonNail and eye salon'\n",
    "                          else \"HAIR\" if x == 'Hair salonHair salon'\n",
    "                          else \"FOOD\" if x == 'FoodFood'\n",
    "                          else \"SPA\" if x == 'SpaSpa'\n",
    "                          else \"BEAUTY\" if x == 'BeautyBeauty'\n",
    "                          else \"CLASS\" if x == 'ClassLesson'\n",
    "                          else \"CORRESPONDENCE\" if x == 'Correspondence courseLessonClassLesson'\n",
    "                          else \"DELIVERY\" if x == 'Delivery serviceDelivery service'\n",
    "                          else \"EVENT\" if x == 'EventOther coupon'\n",
    "                          else \"GIFT\" if x == 'Gift cardGift card'\n",
    "                          else \"HEALTH\" if x == 'Health and medicalHealth and medical'\n",
    "                          else \"LEISURE\" if x == 'LeisureLeisure'\n",
    "                          else \"LESSON\" if x == 'LessonLesson'\n",
    "                          else \"OTHER\" if x == 'OtherOther coupon'\n",
    "                          else \"RELAXATION\" if x == 'RelaxationRelaxation'\n",
    "                          else \"WEB\" if x == 'Web serviceOther coupon'\n",
    "                          else 'OTHER'\n",
    "                          )"
   ]
  },
  {
   "cell_type": "code",
   "execution_count": 39,
   "id": "e78a6a1f-143e-4d82-a0fa-834f2e813d76",
   "metadata": {},
   "outputs": [],
   "source": [
    "cl_list['Price'] = cl_list['CATALOG_PRICE'] + cl_list['DISCOUNT_PRICE']"
   ]
  },
  {
   "cell_type": "code",
   "execution_count": 40,
   "id": "56de4460-be61-427b-8701-9a2fb1acff44",
   "metadata": {},
   "outputs": [],
   "source": [
    "cl_list[\"lnDPRICE\"] = np.log1p(cl_list[\"Price\"])\n",
    "cl_list[\"mDPRICE\"] = cl_list.groupby(\"Case\")[\"lnDPRICE\"].transform(np.mean)\n",
    "cl_list[\"sDPRICE\"] = cl_list.groupby(\"Case\")[\"lnDPRICE\"].transform(np.std)\n",
    "cl_list[\"zprice\"] = (cl_list[\"lnDPRICE\"] - cl_list[\"mDPRICE\"]) / cl_list[\"sDPRICE\"]"
   ]
  },
  {
   "cell_type": "code",
   "execution_count": 41,
   "id": "a3574d2e-6a87-4818-b536-ee2b36c514bc",
   "metadata": {},
   "outputs": [],
   "source": [
    "cl_list.rename(columns = {\"large_area_name\": \"spot_large\", \n",
    "                              \"ken_name\": \"spot_pref\", \n",
    "                              \"small_area_name\": \"spot_small\"}, inplace=True)"
   ]
  },
  {
   "cell_type": "code",
   "execution_count": 42,
   "id": "ca22edb2-6b8b-47a7-b633-e0edf30eaf29",
   "metadata": {},
   "outputs": [],
   "source": [
    "cl_list['USABLE_DATE_MON'].replace([0,2,1,np.nan],[0,0,1,1], inplace=True)\n",
    "cl_list['USABLE_DATE_TUE'].replace([0,2,1,np.nan],[0,0,1,1], inplace=True)\n",
    "cl_list['USABLE_DATE_WED'].replace([0,2,1,np.nan],[0,0,1,1], inplace=True)\n",
    "cl_list['USABLE_DATE_THU'].replace([0,2,1,np.nan],[0,0,1,1], inplace=True)\n",
    "cl_list['USABLE_DATE_FRI'].replace([0,2,1,np.nan],[0,0,1,1], inplace=True)\n",
    "cl_list['USABLE_DATE_SAT'].replace([0,2,1,np.nan],[0,0,1,1], inplace=True)\n",
    "cl_list['USABLE_DATE_SUN'].replace([0,2,1,np.nan],[0,0,1,1], inplace=True)\n",
    "cl_list['USABLE_DATE_HOLIDAY'].replace([0,2,1,np.nan],[0,0,1,1], inplace=True)\n",
    "cl_list['USABLE_DATE_BEFORE_HOLIDAY'].replace([0,2,1,np.nan],[0,0,1,1], inplace=True)"
   ]
  },
  {
   "cell_type": "code",
   "execution_count": 43,
   "id": "51cd165a-96f0-46ee-acbc-41eaf39fcb25",
   "metadata": {},
   "outputs": [],
   "source": [
    "cl_train = cl_list[311:]\n",
    "cl_test = cl_list[:310]"
   ]
  },
  {
   "cell_type": "code",
   "execution_count": 44,
   "id": "316b43c9-23d5-4a4c-9053-d9177212fb8e",
   "metadata": {},
   "outputs": [],
   "source": [
    "user_list.rename(columns = {'PREF_NAME': 'user_pref'}, inplace=True)"
   ]
  },
  {
   "cell_type": "code",
   "execution_count": 45,
   "id": "75336232-5e9a-4994-b6bc-9895f1ef8438",
   "metadata": {},
   "outputs": [],
   "source": [
    "user_list['SEX_ID'] = user_list['SEX_ID'].apply(lambda x: 0 if x == 'f' else 1) "
   ]
  },
  {
   "cell_type": "code",
   "execution_count": 46,
   "id": "8f372a41-3bc0-4bb2-8c71-73d8f74180f2",
   "metadata": {},
   "outputs": [],
   "source": [
    "train= pd.merge(cv_train, cd_train, how='outer')"
   ]
  },
  {
   "cell_type": "code",
   "execution_count": 47,
   "id": "10455ece-6e61-46a7-b16c-43e481fe8858",
   "metadata": {},
   "outputs": [
    {
     "data": {
      "text/plain": [
       "(2913043, 9)"
      ]
     },
     "execution_count": 47,
     "metadata": {},
     "output_type": "execute_result"
    }
   ],
   "source": [
    "train.shape"
   ]
  },
  {
   "cell_type": "code",
   "execution_count": 48,
   "id": "7dabe898-a027-49b0-b28d-25c3a64c0acb",
   "metadata": {},
   "outputs": [],
   "source": [
    "train = pd.merge(train, cl_list, how='left', on='COUPON_ID_hash')"
   ]
  },
  {
   "cell_type": "code",
   "execution_count": 49,
   "id": "a160971c-b530-483e-957e-20d35495e865",
   "metadata": {},
   "outputs": [
    {
     "data": {
      "text/plain": [
       "(2913043, 38)"
      ]
     },
     "execution_count": 49,
     "metadata": {},
     "output_type": "execute_result"
    }
   ],
   "source": [
    "train.shape"
   ]
  },
  {
   "cell_type": "code",
   "execution_count": 50,
   "id": "4a531fd4-7ad6-446c-b973-cbd44f4bc699",
   "metadata": {},
   "outputs": [],
   "source": [
    "train = pd.merge(train, user_list, how='left', on='USER_ID_hash')"
   ]
  },
  {
   "cell_type": "code",
   "execution_count": 51,
   "id": "7ff5da61-dd85-432e-ba76-8b2936466314",
   "metadata": {},
   "outputs": [
    {
     "data": {
      "text/plain": [
       "(2913043, 43)"
      ]
     },
     "execution_count": 51,
     "metadata": {},
     "output_type": "execute_result"
    }
   ],
   "source": [
    "train.shape"
   ]
  },
  {
   "cell_type": "code",
   "execution_count": 52,
   "id": "39d15c1e-3981-4a93-b79c-fefe04d278fb",
   "metadata": {},
   "outputs": [
    {
     "data": {
      "text/html": [
       "<div>\n",
       "<style scoped>\n",
       "    .dataframe tbody tr th:only-of-type {\n",
       "        vertical-align: middle;\n",
       "    }\n",
       "\n",
       "    .dataframe tbody tr th {\n",
       "        vertical-align: top;\n",
       "    }\n",
       "\n",
       "    .dataframe thead th {\n",
       "        text-align: right;\n",
       "    }\n",
       "</style>\n",
       "<table border=\"1\" class=\"dataframe\">\n",
       "  <thead>\n",
       "    <tr style=\"text-align: right;\">\n",
       "      <th></th>\n",
       "      <th></th>\n",
       "      <th>act</th>\n",
       "      <th>null</th>\n",
       "      <th>unique</th>\n",
       "    </tr>\n",
       "    <tr>\n",
       "      <th>dtype</th>\n",
       "      <th>name</th>\n",
       "      <th></th>\n",
       "      <th></th>\n",
       "      <th></th>\n",
       "    </tr>\n",
       "  </thead>\n",
       "  <tbody>\n",
       "    <tr>\n",
       "      <th rowspan=\"8\" valign=\"top\">datetime64[ns]</th>\n",
       "      <th>DISPEND</th>\n",
       "      <td>2597810.0</td>\n",
       "      <td>315233.0</td>\n",
       "      <td>376.0</td>\n",
       "    </tr>\n",
       "    <tr>\n",
       "      <th>DISPFROM</th>\n",
       "      <td>2597810.0</td>\n",
       "      <td>315233.0</td>\n",
       "      <td>381.0</td>\n",
       "    </tr>\n",
       "    <tr>\n",
       "      <th>REG_DATE</th>\n",
       "      <td>2913043.0</td>\n",
       "      <td>0.0</td>\n",
       "      <td>22802.0</td>\n",
       "    </tr>\n",
       "    <tr>\n",
       "      <th>VALIDEND</th>\n",
       "      <td>1804706.0</td>\n",
       "      <td>1108337.0</td>\n",
       "      <td>516.0</td>\n",
       "    </tr>\n",
       "    <tr>\n",
       "      <th>VALIDFROM</th>\n",
       "      <td>1804706.0</td>\n",
       "      <td>1108337.0</td>\n",
       "      <td>378.0</td>\n",
       "    </tr>\n",
       "    <tr>\n",
       "      <th>WITHDRAW_DATE</th>\n",
       "      <td>19407.0</td>\n",
       "      <td>2893636.0</td>\n",
       "      <td>920.0</td>\n",
       "    </tr>\n",
       "    <tr>\n",
       "      <th>purchase_date</th>\n",
       "      <td>202252.0</td>\n",
       "      <td>2710791.0</td>\n",
       "      <td>360.0</td>\n",
       "    </tr>\n",
       "    <tr>\n",
       "      <th>view_date</th>\n",
       "      <td>2859226.0</td>\n",
       "      <td>53817.0</td>\n",
       "      <td>360.0</td>\n",
       "    </tr>\n",
       "    <tr>\n",
       "      <th rowspan=\"22\" valign=\"top\">float64</th>\n",
       "      <th>CATALOG_PRICE</th>\n",
       "      <td>2597810.0</td>\n",
       "      <td>315233.0</td>\n",
       "      <td>2417.0</td>\n",
       "    </tr>\n",
       "    <tr>\n",
       "      <th>DISCOUNT_PRICE</th>\n",
       "      <td>2597810.0</td>\n",
       "      <td>315233.0</td>\n",
       "      <td>1116.0</td>\n",
       "    </tr>\n",
       "    <tr>\n",
       "      <th>DISPPERIOD</th>\n",
       "      <td>2597810.0</td>\n",
       "      <td>315233.0</td>\n",
       "      <td>19.0</td>\n",
       "    </tr>\n",
       "    <tr>\n",
       "      <th>ITEM_COUNT</th>\n",
       "      <td>202252.0</td>\n",
       "      <td>2710791.0</td>\n",
       "      <td>33.0</td>\n",
       "    </tr>\n",
       "    <tr>\n",
       "      <th>PAGE_SERIAL</th>\n",
       "      <td>2859226.0</td>\n",
       "      <td>53817.0</td>\n",
       "      <td>467.0</td>\n",
       "    </tr>\n",
       "    <tr>\n",
       "      <th>PRICE_RATE</th>\n",
       "      <td>2597810.0</td>\n",
       "      <td>315233.0</td>\n",
       "      <td>72.0</td>\n",
       "    </tr>\n",
       "    <tr>\n",
       "      <th>Price</th>\n",
       "      <td>2597810.0</td>\n",
       "      <td>315233.0</td>\n",
       "      <td>4087.0</td>\n",
       "    </tr>\n",
       "    <tr>\n",
       "      <th>USABLE_DATE_BEFORE_HOLIDAY</th>\n",
       "      <td>2597810.0</td>\n",
       "      <td>315233.0</td>\n",
       "      <td>3.0</td>\n",
       "    </tr>\n",
       "    <tr>\n",
       "      <th>USABLE_DATE_FRI</th>\n",
       "      <td>2597810.0</td>\n",
       "      <td>315233.0</td>\n",
       "      <td>3.0</td>\n",
       "    </tr>\n",
       "    <tr>\n",
       "      <th>USABLE_DATE_HOLIDAY</th>\n",
       "      <td>2597810.0</td>\n",
       "      <td>315233.0</td>\n",
       "      <td>3.0</td>\n",
       "    </tr>\n",
       "    <tr>\n",
       "      <th>USABLE_DATE_MON</th>\n",
       "      <td>2597810.0</td>\n",
       "      <td>315233.0</td>\n",
       "      <td>3.0</td>\n",
       "    </tr>\n",
       "    <tr>\n",
       "      <th>USABLE_DATE_SAT</th>\n",
       "      <td>2597810.0</td>\n",
       "      <td>315233.0</td>\n",
       "      <td>3.0</td>\n",
       "    </tr>\n",
       "    <tr>\n",
       "      <th>USABLE_DATE_SUN</th>\n",
       "      <td>2597810.0</td>\n",
       "      <td>315233.0</td>\n",
       "      <td>3.0</td>\n",
       "    </tr>\n",
       "    <tr>\n",
       "      <th>USABLE_DATE_THU</th>\n",
       "      <td>2597810.0</td>\n",
       "      <td>315233.0</td>\n",
       "      <td>3.0</td>\n",
       "    </tr>\n",
       "    <tr>\n",
       "      <th>USABLE_DATE_TUE</th>\n",
       "      <td>2597810.0</td>\n",
       "      <td>315233.0</td>\n",
       "      <td>3.0</td>\n",
       "    </tr>\n",
       "    <tr>\n",
       "      <th>USABLE_DATE_WED</th>\n",
       "      <td>2597810.0</td>\n",
       "      <td>315233.0</td>\n",
       "      <td>3.0</td>\n",
       "    </tr>\n",
       "    <tr>\n",
       "      <th>VALIDPERIOD</th>\n",
       "      <td>1804706.0</td>\n",
       "      <td>1108337.0</td>\n",
       "      <td>181.0</td>\n",
       "    </tr>\n",
       "    <tr>\n",
       "      <th>VIEW</th>\n",
       "      <td>2859226.0</td>\n",
       "      <td>53817.0</td>\n",
       "      <td>2.0</td>\n",
       "    </tr>\n",
       "    <tr>\n",
       "      <th>lnDPRICE</th>\n",
       "      <td>2597810.0</td>\n",
       "      <td>315233.0</td>\n",
       "      <td>4087.0</td>\n",
       "    </tr>\n",
       "    <tr>\n",
       "      <th>mDPRICE</th>\n",
       "      <td>2597810.0</td>\n",
       "      <td>315233.0</td>\n",
       "      <td>9.0</td>\n",
       "    </tr>\n",
       "    <tr>\n",
       "      <th>sDPRICE</th>\n",
       "      <td>2597810.0</td>\n",
       "      <td>315233.0</td>\n",
       "      <td>9.0</td>\n",
       "    </tr>\n",
       "    <tr>\n",
       "      <th>zprice</th>\n",
       "      <td>2597810.0</td>\n",
       "      <td>315233.0</td>\n",
       "      <td>5725.0</td>\n",
       "    </tr>\n",
       "    <tr>\n",
       "      <th rowspan=\"3\" valign=\"top\">int64</th>\n",
       "      <th>AGE</th>\n",
       "      <td>2913043.0</td>\n",
       "      <td>0.0</td>\n",
       "      <td>66.0</td>\n",
       "    </tr>\n",
       "    <tr>\n",
       "      <th>PURCHASE_FLG</th>\n",
       "      <td>2913043.0</td>\n",
       "      <td>0.0</td>\n",
       "      <td>2.0</td>\n",
       "    </tr>\n",
       "    <tr>\n",
       "      <th>SEX_ID</th>\n",
       "      <td>2913043.0</td>\n",
       "      <td>0.0</td>\n",
       "      <td>2.0</td>\n",
       "    </tr>\n",
       "    <tr>\n",
       "      <th rowspan=\"10\" valign=\"top\">object</th>\n",
       "      <th>CAPSULE_TEXT</th>\n",
       "      <td>2597810.0</td>\n",
       "      <td>315233.0</td>\n",
       "      <td>25.0</td>\n",
       "    </tr>\n",
       "    <tr>\n",
       "      <th>COUPON_ID_hash</th>\n",
       "      <td>2913043.0</td>\n",
       "      <td>0.0</td>\n",
       "      <td>32629.0</td>\n",
       "    </tr>\n",
       "    <tr>\n",
       "      <th>Case</th>\n",
       "      <td>2597810.0</td>\n",
       "      <td>315233.0</td>\n",
       "      <td>9.0</td>\n",
       "    </tr>\n",
       "    <tr>\n",
       "      <th>GENRE_NAME</th>\n",
       "      <td>2597810.0</td>\n",
       "      <td>315233.0</td>\n",
       "      <td>14.0</td>\n",
       "    </tr>\n",
       "    <tr>\n",
       "      <th>USER_ID_hash</th>\n",
       "      <td>2913043.0</td>\n",
       "      <td>0.0</td>\n",
       "      <td>22833.0</td>\n",
       "    </tr>\n",
       "    <tr>\n",
       "      <th>resid_small</th>\n",
       "      <td>202252.0</td>\n",
       "      <td>2710791.0</td>\n",
       "      <td>56.0</td>\n",
       "    </tr>\n",
       "    <tr>\n",
       "      <th>spot_large</th>\n",
       "      <td>2597810.0</td>\n",
       "      <td>315233.0</td>\n",
       "      <td>10.0</td>\n",
       "    </tr>\n",
       "    <tr>\n",
       "      <th>spot_pref</th>\n",
       "      <td>2597810.0</td>\n",
       "      <td>315233.0</td>\n",
       "      <td>48.0</td>\n",
       "    </tr>\n",
       "    <tr>\n",
       "      <th>spot_small</th>\n",
       "      <td>2597810.0</td>\n",
       "      <td>315233.0</td>\n",
       "      <td>56.0</td>\n",
       "    </tr>\n",
       "    <tr>\n",
       "      <th>user_pref</th>\n",
       "      <td>2355031.0</td>\n",
       "      <td>558012.0</td>\n",
       "      <td>48.0</td>\n",
       "    </tr>\n",
       "  </tbody>\n",
       "</table>\n",
       "</div>"
      ],
      "text/plain": [
       "                                                 act       null   unique\n",
       "dtype          name                                                     \n",
       "datetime64[ns] DISPEND                     2597810.0   315233.0    376.0\n",
       "               DISPFROM                    2597810.0   315233.0    381.0\n",
       "               REG_DATE                    2913043.0        0.0  22802.0\n",
       "               VALIDEND                    1804706.0  1108337.0    516.0\n",
       "               VALIDFROM                   1804706.0  1108337.0    378.0\n",
       "               WITHDRAW_DATE                 19407.0  2893636.0    920.0\n",
       "               purchase_date                202252.0  2710791.0    360.0\n",
       "               view_date                   2859226.0    53817.0    360.0\n",
       "float64        CATALOG_PRICE               2597810.0   315233.0   2417.0\n",
       "               DISCOUNT_PRICE              2597810.0   315233.0   1116.0\n",
       "               DISPPERIOD                  2597810.0   315233.0     19.0\n",
       "               ITEM_COUNT                   202252.0  2710791.0     33.0\n",
       "               PAGE_SERIAL                 2859226.0    53817.0    467.0\n",
       "               PRICE_RATE                  2597810.0   315233.0     72.0\n",
       "               Price                       2597810.0   315233.0   4087.0\n",
       "               USABLE_DATE_BEFORE_HOLIDAY  2597810.0   315233.0      3.0\n",
       "               USABLE_DATE_FRI             2597810.0   315233.0      3.0\n",
       "               USABLE_DATE_HOLIDAY         2597810.0   315233.0      3.0\n",
       "               USABLE_DATE_MON             2597810.0   315233.0      3.0\n",
       "               USABLE_DATE_SAT             2597810.0   315233.0      3.0\n",
       "               USABLE_DATE_SUN             2597810.0   315233.0      3.0\n",
       "               USABLE_DATE_THU             2597810.0   315233.0      3.0\n",
       "               USABLE_DATE_TUE             2597810.0   315233.0      3.0\n",
       "               USABLE_DATE_WED             2597810.0   315233.0      3.0\n",
       "               VALIDPERIOD                 1804706.0  1108337.0    181.0\n",
       "               VIEW                        2859226.0    53817.0      2.0\n",
       "               lnDPRICE                    2597810.0   315233.0   4087.0\n",
       "               mDPRICE                     2597810.0   315233.0      9.0\n",
       "               sDPRICE                     2597810.0   315233.0      9.0\n",
       "               zprice                      2597810.0   315233.0   5725.0\n",
       "int64          AGE                         2913043.0        0.0     66.0\n",
       "               PURCHASE_FLG                2913043.0        0.0      2.0\n",
       "               SEX_ID                      2913043.0        0.0      2.0\n",
       "object         CAPSULE_TEXT                2597810.0   315233.0     25.0\n",
       "               COUPON_ID_hash              2913043.0        0.0  32629.0\n",
       "               Case                        2597810.0   315233.0      9.0\n",
       "               GENRE_NAME                  2597810.0   315233.0     14.0\n",
       "               USER_ID_hash                2913043.0        0.0  22833.0\n",
       "               resid_small                  202252.0  2710791.0     56.0\n",
       "               spot_large                  2597810.0   315233.0     10.0\n",
       "               spot_pref                   2597810.0   315233.0     48.0\n",
       "               spot_small                  2597810.0   315233.0     56.0\n",
       "               user_pref                   2355031.0   558012.0     48.0"
      ]
     },
     "execution_count": 52,
     "metadata": {},
     "output_type": "execute_result"
    }
   ],
   "source": [
    "summary_table(train).pivot_table(index = ['dtype', 'name'])"
   ]
  },
  {
   "cell_type": "code",
   "execution_count": 53,
   "id": "e84c3c35-0e91-45ff-b97b-393362080a1c",
   "metadata": {},
   "outputs": [],
   "source": [
    "train = train[train['DISPFROM'].notnull()]"
   ]
  },
  {
   "cell_type": "code",
   "execution_count": 54,
   "id": "f4549d7d-4433-47d0-be5f-53ec49ce32b3",
   "metadata": {},
   "outputs": [],
   "source": [
    "train['VALIDPERIOD'] = train['VALIDPERIOD'].fillna(179)\n",
    "train['user_pref'] = train['user_pref'].fillna('NN')\n",
    "train = train.drop(labels = ['ITEM_COUNT'], axis=1)\n",
    "train = train.drop(labels = ['PAGE_SERIAL'], axis=1)"
   ]
  },
  {
   "cell_type": "code",
   "execution_count": 55,
   "id": "a3f92a58-0586-41d4-acd3-cc3c532cf53f",
   "metadata": {},
   "outputs": [
    {
     "name": "stdout",
     "output_type": "stream",
     "text": [
      "Total Purchase: 202252\n",
      "All Purchase: 2597810\n"
     ]
    },
    {
     "data": {
      "text/plain": [
       "([<matplotlib.patches.Wedge at 0x278ae7bdbb0>,\n",
       "  <matplotlib.patches.Wedge at 0x278bb7bf250>],\n",
       " [Text(0.4993617352564565, 0.9801213482838035, 'buy'),\n",
       "  Text(-0.4993616664322679, -0.9801213833490159, 'no')],\n",
       " [Text(0.2723791283217035, 0.5346116445184382, '7.2%'),\n",
       "  Text(-0.272379090781237, -0.5346116636449176, '92.8%')])"
      ]
     },
     "execution_count": 55,
     "metadata": {},
     "output_type": "execute_result"
    }
   ],
   "source": [
    "print('Total Purchase: {}'.format(train.PURCHASE_FLG.sum(), ','))\n",
    "print('All Purchase: {}'.format(len(train.PURCHASE_FLG)))\n",
    "plt.pie([train.PURCHASE_FLG.sum(), len(train.PURCHASE_FLG)], labels=[\"buy\", \"no\"],\n",
    "        autopct='%1.1f%%', \n",
    "        startangle=50)"
   ]
  },
  {
   "cell_type": "markdown",
   "id": "8ac1348f-9257-47d3-8cd9-dde78370c365",
   "metadata": {},
   "source": [
    "## EDA (Exploratory Data Analysis)"
   ]
  },
  {
   "cell_type": "code",
   "execution_count": 56,
   "id": "ff812bf9-58c0-4057-8b94-65a620ed81a0",
   "metadata": {},
   "outputs": [],
   "source": [
    "df = train.copy()"
   ]
  },
  {
   "cell_type": "code",
   "execution_count": 57,
   "id": "6a76863c-e08b-4584-88ab-65723d0ca896",
   "metadata": {},
   "outputs": [
    {
     "data": {
      "image/png": "[encoded data removed]",
      "text/plain": [
       "<Figure size 640x480 with 1 Axes>"
      ]
     },
     "metadata": {},
     "output_type": "display_data"
    },
    {
     "data": {
      "image/png": "[encoded data removed]",
      "text/plain": [
       "<Figure size 2000x1000 with 6 Axes>"
      ]
     },
     "metadata": {},
     "output_type": "display_data"
    },
    {
     "data": {
      "image/png": "[encoded data removed]",
      "text/plain": [
       "<Figure size 1000x500 with 2 Axes>"
      ]
     },
     "metadata": {},
     "output_type": "display_data"
    }
   ],
   "source": [
    "cols = ['PRICE_RATE', 'CATALOG_PRICE', 'DISCOUNT_PRICE', 'Price', 'DISPPERIOD', 'VALIDPERIOD']\n",
    "plt.figure(figsize=(20, 10))\n",
    "for idx, col in enumerate(cols):\n",
    "    plt.subplot(4, 2, idx+1)\n",
    "    sns.distplot(df[col])\n",
    "plt.tight_layout(pad=2, h_pad=1)\n",
    "plt.show()\n",
    "corr = df.filter(cols).corr()\n",
    "plt.figure(figsize = (10,5))\n",
    "mask = np.zeros_like(corr)\n",
    "mask[np.triu_indices_from(mask)] = True\n",
    "with sns.axes_style(\"white\"):\n",
    "    ax = sns.heatmap(corr, mask = mask, annot=True, fmt = \".2f\", cmap = \"YlGnBu\")\n",
    "    plt.show(sns)"
   ]
  },
  {
   "cell_type": "code",
   "execution_count": 58,
   "id": "47b64a64-c612-4e41-b359-865fa2493ef5",
   "metadata": {},
   "outputs": [],
   "source": [
    "cl_list[\"lnDPRICE\"] = np.log1p(cl_list[\"Price\"])\n",
    "cl_list[\"mDPRICE\"] = cl_list.groupby(\"Case\")[\"lnDPRICE\"].transform(np.mean)\n",
    "cl_list[\"sDPRICE\"] = cl_list.groupby(\"Case\")[\"lnDPRICE\"].transform(np.std)\n",
    "cl_list[\"zprice\"] = (cl_list[\"lnDPRICE\"] - cl_list[\"mDPRICE\"]) / cl_list[\"sDPRICE\"]\n",
    "\n",
    "cl_list = cl_list.drop(labels = ['CATALOG_PRICE', 'DISCOUNT_PRICE', 'Price'], axis=1)\n",
    "cl_list = cl_list.drop(labels = ['lnDPRICE', 'mDPRICE', 'sDPRICE'], axis=1)"
   ]
  },
  {
   "cell_type": "code",
   "execution_count": 59,
   "id": "93bdccd7-cd04-4643-9a0a-5ddc1d3b5d16",
   "metadata": {},
   "outputs": [],
   "source": [
    "CAPSULE = ['Case']\n",
    "REGION = ['spot_large', 'spot_pref', 'splot_small']\n",
    "etc = ['SEX_ID', 'AGE']"
   ]
  },
  {
   "cell_type": "code",
   "execution_count": 60,
   "id": "35df0f87-bbb6-47eb-bd50-c581f147385d",
   "metadata": {},
   "outputs": [],
   "source": [
    "df = train.copy()"
   ]
  },
  {
   "cell_type": "code",
   "execution_count": 61,
   "id": "4651e2f4-5230-480d-aa11-5b76b6de9e8b",
   "metadata": {},
   "outputs": [
    {
     "data": {
      "image/png": "[encoded data removed]",
      "text/plain": [
       "<Figure size 3000x1000 with 1 Axes>"
      ]
     },
     "metadata": {},
     "output_type": "display_data"
    }
   ],
   "source": [
    "df = df.pivot_table(index = ['Case'], values = ['PURCHASE_FLG'], aggfunc=sum).reset_index()\n",
    "df = df.sort_values(by='PURCHASE_FLG', ascending=False)\n",
    "plt.figure(figsize = (30, 10))\n",
    "sns.barplot(x='Case', y='PURCHASE_FLG', data=df)\n",
    "plt.show(sns)"
   ]
  },
  {
   "cell_type": "code",
   "execution_count": 62,
   "id": "1b3b7e7f-d15d-4648-9009-9ac7a1981bd1",
   "metadata": {},
   "outputs": [
    {
     "name": "stdout",
     "output_type": "stream",
     "text": [
      "spot_pref : 47개\n"
     ]
    }
   ],
   "source": [
    "df = train.copy()\n",
    "print('spot_pref : {}개'. format(len(df.spot_pref.unique())))"
   ]
  },
  {
   "cell_type": "code",
   "execution_count": 63,
   "id": "461bc4e1-d285-43ea-9766-66644412e693",
   "metadata": {},
   "outputs": [
    {
     "data": {
      "image/png": "[encoded data removed]",
      "text/plain": [
       "<Figure size 3000x1000 with 1 Axes>"
      ]
     },
     "metadata": {},
     "output_type": "display_data"
    }
   ],
   "source": [
    "df = train.copy()\n",
    "df = df.pivot_table(index = ['spot_large'], values = ['PURCHASE_FLG'], aggfunc=sum).reset_index()\n",
    "df = df.sort_values(by='PURCHASE_FLG', ascending=False)\n",
    "plt.figure(figsize = (30, 10))\n",
    "sns.barplot(x='spot_large', y='PURCHASE_FLG', data=df)\n",
    "plt.show(sns)"
   ]
  },
  {
   "cell_type": "code",
   "execution_count": 64,
   "id": "1dcc0e45-3f84-4b61-8700-57d1193e56c5",
   "metadata": {},
   "outputs": [
    {
     "data": {
      "image/png": "[encoded data removed]",
      "text/plain": [
       "<Figure size 3000x1000 with 1 Axes>"
      ]
     },
     "metadata": {},
     "output_type": "display_data"
    }
   ],
   "source": [
    "df = train.copy()\n",
    "df = df.pivot_table(index = ['spot_pref'], values = ['PURCHASE_FLG'], aggfunc=sum).reset_index()\n",
    "df = df.sort_values(by='PURCHASE_FLG', ascending=False)\n",
    "plt.figure(figsize = (30, 10))\n",
    "sns.barplot(x='spot_pref', y='PURCHASE_FLG', data=df)\n",
    "plt.show(sns)"
   ]
  },
  {
   "cell_type": "code",
   "execution_count": 65,
   "id": "84f25577-286a-4a75-bbf8-ccf933e5e055",
   "metadata": {},
   "outputs": [],
   "source": [
    "df = train.copy()\n",
    "df = df[df['purchase_date'].notnull()]\n",
    "df['weekday'] = df[['purchase_date']].apply(lambda x: dt.datetime.strftime(x['purchase_date'], '%a'), axis=1)"
   ]
  },
  {
   "cell_type": "code",
   "execution_count": 66,
   "id": "490749ba-ee33-4d0b-8e30-6617acc1de20",
   "metadata": {},
   "outputs": [],
   "source": [
    "df_mon = df[df['USABLE_DATE_MON'] == 1]\n",
    "df_mon = df_mon.groupby(['weekday'])['PURCHASE_FLG'].sum().reset_index()\n",
    "\n",
    "df_Tue = df[df['USABLE_DATE_TUE'] == 1]\n",
    "df_Tue = df_Tue.groupby(['weekday'])['PURCHASE_FLG'].sum().reset_index()\n",
    "\n",
    "df_Wed = df[df['USABLE_DATE_WED'] == 1]\n",
    "df_Wed = df_mon.groupby(['weekday'])['PURCHASE_FLG'].sum().reset_index()\n",
    "\n",
    "df_Thu = df[df['USABLE_DATE_THU'] == 1]\n",
    "df_Thu = df_Thu.groupby(['weekday'])['PURCHASE_FLG'].sum().reset_index()\n",
    "\n",
    "df_Fri = df[df['USABLE_DATE_FRI'] == 1]\n",
    "df_Fri = df_Fri.groupby(['weekday'])['PURCHASE_FLG'].sum().reset_index()\n",
    "\n",
    "df_Sat = df[df['USABLE_DATE_SAT'] == 1]\n",
    "df_Sat = df_Sat.groupby(['weekday'])['PURCHASE_FLG'].sum().reset_index()\n",
    "\n",
    "df_Sun = df[df['USABLE_DATE_SUN'] == 1]\n",
    "df_Sun = df_Sun.groupby(['weekday'])['PURCHASE_FLG'].sum().reset_index()"
   ]
  },
  {
   "cell_type": "code",
   "execution_count": 67,
   "id": "f86af7e9-df27-4842-b8b9-3499fea6fde0",
   "metadata": {},
   "outputs": [],
   "source": [
    "ls = [df_mon, df_Tue, df_Wed, df_Thu, df_Fri, df_Sat, df_Sun]\n",
    "title = ['df_mon', 'df_Tue', 'df_Wed', 'df_Thu', 'df_Fri', 'df_sat', 'df_Sun']"
   ]
  },
  {
   "cell_type": "code",
   "execution_count": 68,
   "id": "bf242b02-f888-4fb1-bcdc-912ecd12f0e0",
   "metadata": {},
   "outputs": [
    {
     "data": {
      "image/png": "[encoded data removed]",
      "text/plain": [
       "<Figure size 2000x500 with 6 Axes>"
      ]
     },
     "metadata": {},
     "output_type": "display_data"
    }
   ],
   "source": [
    "plt.figure(figsize=(20, 5))\n",
    "for idx, col, title in zip(np.arange(1,7), ls, title):\n",
    "    plt.subplot(2, 8, idx + 1)\n",
    "    sns.barplot(x = col.weekday, y= col.PURCHASE_FLG)\n",
    "    plt.title(title)\n",
    "plt.tight_layout(pad=2, h_pad=1)\n",
    "plt.show()"
   ]
  },
  {
   "cell_type": "code",
   "execution_count": 69,
   "id": "2e1a3e1e-6308-4a54-b069-1e14e284f946",
   "metadata": {},
   "outputs": [],
   "source": [
    "df['usable'] = df['USABLE_DATE_MON'] + df['USABLE_DATE_TUE'] + df['USABLE_DATE_WED'] + df['USABLE_DATE_THU'] \\\n",
    "            + df['USABLE_DATE_FRI'] + df['USABLE_DATE_SAT'] + df['USABLE_DATE_SUN'] + df['USABLE_DATE_HOLIDAY'] \\\n",
    "                + df['USABLE_DATE_BEFORE_HOLIDAY']"
   ]
  },
  {
   "cell_type": "code",
   "execution_count": 70,
   "id": "ae9b5c24-c735-4bb6-8980-a80b8f2cb6b6",
   "metadata": {},
   "outputs": [
    {
     "data": {
      "text/plain": [
       "<AxesSubplot:xlabel='usable', ylabel='PURCHASE_FLG'>"
      ]
     },
     "execution_count": 70,
     "metadata": {},
     "output_type": "execute_result"
    }
   ],
   "source": [
    "df_usable = df.groupby(['usable'])['PURCHASE_FLG'].sum().reset_index()\n",
    "sns.barplot(x='usable', y='PURCHASE_FLG', data=df_usable)\n",
    "plt.show(sns)"
   ]
  },
  {
   "cell_type": "markdown",
   "id": "d0b6f8fb-94e5-4a86-8b35-107a10e8d17c",
   "metadata": {},
   "source": [
    "## Converting data into Train set and Test Set"
   ]
  },
  {
   "cell_type": "code",
   "execution_count": 57,
   "id": "bb831ab3-d1a2-4df5-a675-3ad706c5ab5b",
   "metadata": {},
   "outputs": [],
   "source": [
    "train['key'] = train['COUPON_ID_hash']+ train['USER_ID_hash']"
   ]
  },
  {
   "cell_type": "code",
   "execution_count": 58,
   "id": "590682d6-18f4-4fbf-ae00-7327353e38a5",
   "metadata": {},
   "outputs": [],
   "source": [
    "train_loc['key'] = train_loc['COUPON_ID_hash'] + train_loc['USER_ID_hash'] \n",
    "train_loc.drop_duplicates(['key'], inplace=True)"
   ]
  },
  {
   "cell_type": "code",
   "execution_count": 59,
   "id": "c9ec497c-2985-4598-81e0-b039f1eb04d4",
   "metadata": {},
   "outputs": [],
   "source": [
    "train.insert(2, 'distance', train['key'].map(train_loc.set_index('key')['distance']))\n",
    "train.insert(2, 'PREF_in', train['key'].map(train_loc.set_index('key')['PREF_in']))"
   ]
  },
  {
   "cell_type": "code",
   "execution_count": 60,
   "id": "d4fad48a-2545-4f25-8507-d33ee15c697a",
   "metadata": {},
   "outputs": [],
   "source": [
    "train.drop(labels=['key', 'spot_large', 'spot_pref', 'spot_small','lnDPRICE',\n",
    "       'mDPRICE','WITHDRAW_DATE', 'user_pref','purchase_date', 'resid_small', 'CAPSULE_TEXT',\n",
    "       'GENRE_NAME','CATALOG_PRICE', 'DISCOUNT_PRICE',\n",
    "       'DISPFROM', 'DISPEND','VALIDFROM', 'VALIDEND'], axis=1, inplace=True)"
   ]
  },
  {
   "cell_type": "code",
   "execution_count": 61,
   "id": "7bb63b89-fe59-4e78-9074-db2c601c927e",
   "metadata": {},
   "outputs": [
    {
     "data": {
      "text/html": [
       "<div>\n",
       "<style scoped>\n",
       "    .dataframe tbody tr th:only-of-type {\n",
       "        vertical-align: middle;\n",
       "    }\n",
       "\n",
       "    .dataframe tbody tr th {\n",
       "        vertical-align: top;\n",
       "    }\n",
       "\n",
       "    .dataframe thead th {\n",
       "        text-align: right;\n",
       "    }\n",
       "</style>\n",
       "<table border=\"1\" class=\"dataframe\">\n",
       "  <thead>\n",
       "    <tr style=\"text-align: right;\">\n",
       "      <th></th>\n",
       "      <th>PURCHASE_FLG</th>\n",
       "      <th>view_date</th>\n",
       "      <th>PREF_in</th>\n",
       "      <th>distance</th>\n",
       "      <th>COUPON_ID_hash</th>\n",
       "      <th>USER_ID_hash</th>\n",
       "      <th>VIEW</th>\n",
       "      <th>PRICE_RATE</th>\n",
       "      <th>DISPPERIOD</th>\n",
       "      <th>VALIDPERIOD</th>\n",
       "      <th>USABLE_DATE_MON</th>\n",
       "      <th>USABLE_DATE_TUE</th>\n",
       "      <th>USABLE_DATE_WED</th>\n",
       "      <th>USABLE_DATE_THU</th>\n",
       "      <th>USABLE_DATE_FRI</th>\n",
       "      <th>USABLE_DATE_SAT</th>\n",
       "      <th>USABLE_DATE_SUN</th>\n",
       "      <th>USABLE_DATE_HOLIDAY</th>\n",
       "      <th>USABLE_DATE_BEFORE_HOLIDAY</th>\n",
       "      <th>Case</th>\n",
       "      <th>Price</th>\n",
       "      <th>sDPRICE</th>\n",
       "      <th>zprice</th>\n",
       "      <th>REG_DATE</th>\n",
       "      <th>SEX_ID</th>\n",
       "      <th>AGE</th>\n",
       "    </tr>\n",
       "  </thead>\n",
       "  <tbody>\n",
       "    <tr>\n",
       "      <th>0</th>\n",
       "      <td>0</td>\n",
       "      <td>2012-03-28</td>\n",
       "      <td>0</td>\n",
       "      <td>NaN</td>\n",
       "      <td>34c48f84026e08355dc3bd19b427f09a</td>\n",
       "      <td>d9dca3cb44bab12ba313eaa681f663eb</td>\n",
       "      <td>1.0</td>\n",
       "      <td>78.0</td>\n",
       "      <td>4.0</td>\n",
       "      <td>179.0</td>\n",
       "      <td>1.0</td>\n",
       "      <td>1.0</td>\n",
       "      <td>1.0</td>\n",
       "      <td>1.0</td>\n",
       "      <td>1.0</td>\n",
       "      <td>1.0</td>\n",
       "      <td>1.0</td>\n",
       "      <td>1.0</td>\n",
       "      <td>1.0</td>\n",
       "      <td>OTHER</td>\n",
       "      <td>8775.0</td>\n",
       "      <td>0.915395</td>\n",
       "      <td>-0.238</td>\n",
       "      <td>2012-03-28 14:14:18</td>\n",
       "      <td>0</td>\n",
       "      <td>25</td>\n",
       "    </tr>\n",
       "    <tr>\n",
       "      <th>1</th>\n",
       "      <td>0</td>\n",
       "      <td>2012-03-28</td>\n",
       "      <td>0</td>\n",
       "      <td>NaN</td>\n",
       "      <td>34c48f84026e08355dc3bd19b427f09a</td>\n",
       "      <td>d9dca3cb44bab12ba313eaa681f663eb</td>\n",
       "      <td>1.0</td>\n",
       "      <td>78.0</td>\n",
       "      <td>4.0</td>\n",
       "      <td>179.0</td>\n",
       "      <td>1.0</td>\n",
       "      <td>1.0</td>\n",
       "      <td>1.0</td>\n",
       "      <td>1.0</td>\n",
       "      <td>1.0</td>\n",
       "      <td>1.0</td>\n",
       "      <td>1.0</td>\n",
       "      <td>1.0</td>\n",
       "      <td>1.0</td>\n",
       "      <td>OTHER</td>\n",
       "      <td>8775.0</td>\n",
       "      <td>0.915395</td>\n",
       "      <td>-0.238</td>\n",
       "      <td>2012-03-28 14:14:18</td>\n",
       "      <td>0</td>\n",
       "      <td>25</td>\n",
       "    </tr>\n",
       "  </tbody>\n",
       "</table>\n",
       "</div>"
      ],
      "text/plain": [
       "   PURCHASE_FLG  view_date  PREF_in  distance  \\\n",
       "0             0 2012-03-28        0       NaN   \n",
       "1             0 2012-03-28        0       NaN   \n",
       "\n",
       "                     COUPON_ID_hash                      USER_ID_hash  VIEW  \\\n",
       "0  34c48f84026e08355dc3bd19b427f09a  d9dca3cb44bab12ba313eaa681f663eb   1.0   \n",
       "1  34c48f84026e08355dc3bd19b427f09a  d9dca3cb44bab12ba313eaa681f663eb   1.0   \n",
       "\n",
       "   PRICE_RATE  DISPPERIOD  VALIDPERIOD  USABLE_DATE_MON  USABLE_DATE_TUE  \\\n",
       "0        78.0         4.0        179.0              1.0              1.0   \n",
       "1        78.0         4.0        179.0              1.0              1.0   \n",
       "\n",
       "   USABLE_DATE_WED  USABLE_DATE_THU  USABLE_DATE_FRI  USABLE_DATE_SAT  \\\n",
       "0              1.0              1.0              1.0              1.0   \n",
       "1              1.0              1.0              1.0              1.0   \n",
       "\n",
       "   USABLE_DATE_SUN  USABLE_DATE_HOLIDAY  USABLE_DATE_BEFORE_HOLIDAY   Case  \\\n",
       "0              1.0                  1.0                         1.0  OTHER   \n",
       "1              1.0                  1.0                         1.0  OTHER   \n",
       "\n",
       "    Price   sDPRICE  zprice            REG_DATE  SEX_ID  AGE  \n",
       "0  8775.0  0.915395  -0.238 2012-03-28 14:14:18       0   25  \n",
       "1  8775.0  0.915395  -0.238 2012-03-28 14:14:18       0   25  "
      ]
     },
     "execution_count": 61,
     "metadata": {},
     "output_type": "execute_result"
    }
   ],
   "source": [
    "train[:2]"
   ]
  },
  {
   "cell_type": "code",
   "execution_count": 62,
   "id": "030cc3bf-d6e8-4bb0-884d-e57cf861919c",
   "metadata": {},
   "outputs": [
    {
     "data": {
      "text/plain": [
       "Index(['PURCHASE_FLG', 'view_date', 'PREF_in', 'distance', 'COUPON_ID_hash',\n",
       "       'USER_ID_hash', 'VIEW', 'PRICE_RATE', 'DISPPERIOD', 'VALIDPERIOD',\n",
       "       'USABLE_DATE_MON', 'USABLE_DATE_TUE', 'USABLE_DATE_WED',\n",
       "       'USABLE_DATE_THU', 'USABLE_DATE_FRI', 'USABLE_DATE_SAT',\n",
       "       'USABLE_DATE_SUN', 'USABLE_DATE_HOLIDAY', 'USABLE_DATE_BEFORE_HOLIDAY',\n",
       "       'Case', 'Price', 'sDPRICE', 'zprice', 'REG_DATE', 'SEX_ID', 'AGE'],\n",
       "      dtype='object')"
      ]
     },
     "execution_count": 62,
     "metadata": {},
     "output_type": "execute_result"
    }
   ],
   "source": [
    "train.columns"
   ]
  },
  {
   "cell_type": "code",
   "execution_count": 63,
   "id": "dbab4e78-6e42-4945-9969-17c5e99a9b2d",
   "metadata": {},
   "outputs": [],
   "source": [
    "train = train[train['Price'] >= 0]"
   ]
  },
  {
   "cell_type": "code",
   "execution_count": 64,
   "id": "bc46018f-6ce9-4800-ae10-b76a3b39cbed",
   "metadata": {},
   "outputs": [],
   "source": [
    "train['VALIDPERIOD'] = train['VALIDPERIOD'].fillna(10000)\n",
    "# train['user_pref'] = train['user_pref'].fillna('NN')\n",
    "train['VIEW'] = train['VIEW'].fillna(0)"
   ]
  },
  {
   "cell_type": "code",
   "execution_count": 65,
   "id": "9a303455-1e48-46d2-aa95-0d0c4d904a88",
   "metadata": {},
   "outputs": [],
   "source": [
    "train['distance'] = train['distance'].fillna(train['distance'].mean())"
   ]
  },
  {
   "cell_type": "code",
   "execution_count": 66,
   "id": "a09b1574-ee02-47cc-b92a-8ae307a7d311",
   "metadata": {},
   "outputs": [
    {
     "data": {
      "text/html": [
       "<div>\n",
       "<style scoped>\n",
       "    .dataframe tbody tr th:only-of-type {\n",
       "        vertical-align: middle;\n",
       "    }\n",
       "\n",
       "    .dataframe tbody tr th {\n",
       "        vertical-align: top;\n",
       "    }\n",
       "\n",
       "    .dataframe thead th {\n",
       "        text-align: right;\n",
       "    }\n",
       "</style>\n",
       "<table border=\"1\" class=\"dataframe\">\n",
       "  <thead>\n",
       "    <tr style=\"text-align: right;\">\n",
       "      <th></th>\n",
       "      <th>act</th>\n",
       "      <th>dtype</th>\n",
       "      <th>name</th>\n",
       "      <th>null</th>\n",
       "      <th>unique</th>\n",
       "    </tr>\n",
       "  </thead>\n",
       "  <tbody>\n",
       "    <tr>\n",
       "      <th>0</th>\n",
       "      <td>2597810.0</td>\n",
       "      <td>int64</td>\n",
       "      <td>PURCHASE_FLG</td>\n",
       "      <td>0.0</td>\n",
       "      <td>2.0</td>\n",
       "    </tr>\n",
       "    <tr>\n",
       "      <th>18</th>\n",
       "      <td>2597810.0</td>\n",
       "      <td>float64</td>\n",
       "      <td>USABLE_DATE_BEFORE_HOLIDAY</td>\n",
       "      <td>0.0</td>\n",
       "      <td>2.0</td>\n",
       "    </tr>\n",
       "    <tr>\n",
       "      <th>17</th>\n",
       "      <td>2597810.0</td>\n",
       "      <td>float64</td>\n",
       "      <td>USABLE_DATE_HOLIDAY</td>\n",
       "      <td>0.0</td>\n",
       "      <td>2.0</td>\n",
       "    </tr>\n",
       "    <tr>\n",
       "      <th>16</th>\n",
       "      <td>2597810.0</td>\n",
       "      <td>float64</td>\n",
       "      <td>USABLE_DATE_SUN</td>\n",
       "      <td>0.0</td>\n",
       "      <td>2.0</td>\n",
       "    </tr>\n",
       "    <tr>\n",
       "      <th>15</th>\n",
       "      <td>2597810.0</td>\n",
       "      <td>float64</td>\n",
       "      <td>USABLE_DATE_SAT</td>\n",
       "      <td>0.0</td>\n",
       "      <td>2.0</td>\n",
       "    </tr>\n",
       "    <tr>\n",
       "      <th>14</th>\n",
       "      <td>2597810.0</td>\n",
       "      <td>float64</td>\n",
       "      <td>USABLE_DATE_FRI</td>\n",
       "      <td>0.0</td>\n",
       "      <td>2.0</td>\n",
       "    </tr>\n",
       "    <tr>\n",
       "      <th>13</th>\n",
       "      <td>2597810.0</td>\n",
       "      <td>float64</td>\n",
       "      <td>USABLE_DATE_THU</td>\n",
       "      <td>0.0</td>\n",
       "      <td>2.0</td>\n",
       "    </tr>\n",
       "    <tr>\n",
       "      <th>24</th>\n",
       "      <td>2597810.0</td>\n",
       "      <td>int64</td>\n",
       "      <td>SEX_ID</td>\n",
       "      <td>0.0</td>\n",
       "      <td>2.0</td>\n",
       "    </tr>\n",
       "    <tr>\n",
       "      <th>11</th>\n",
       "      <td>2597810.0</td>\n",
       "      <td>float64</td>\n",
       "      <td>USABLE_DATE_TUE</td>\n",
       "      <td>0.0</td>\n",
       "      <td>2.0</td>\n",
       "    </tr>\n",
       "    <tr>\n",
       "      <th>10</th>\n",
       "      <td>2597810.0</td>\n",
       "      <td>float64</td>\n",
       "      <td>USABLE_DATE_MON</td>\n",
       "      <td>0.0</td>\n",
       "      <td>2.0</td>\n",
       "    </tr>\n",
       "    <tr>\n",
       "      <th>12</th>\n",
       "      <td>2597810.0</td>\n",
       "      <td>float64</td>\n",
       "      <td>USABLE_DATE_WED</td>\n",
       "      <td>0.0</td>\n",
       "      <td>2.0</td>\n",
       "    </tr>\n",
       "    <tr>\n",
       "      <th>6</th>\n",
       "      <td>2597810.0</td>\n",
       "      <td>float64</td>\n",
       "      <td>VIEW</td>\n",
       "      <td>0.0</td>\n",
       "      <td>2.0</td>\n",
       "    </tr>\n",
       "    <tr>\n",
       "      <th>2</th>\n",
       "      <td>2597810.0</td>\n",
       "      <td>int64</td>\n",
       "      <td>PREF_in</td>\n",
       "      <td>0.0</td>\n",
       "      <td>2.0</td>\n",
       "    </tr>\n",
       "    <tr>\n",
       "      <th>19</th>\n",
       "      <td>2597810.0</td>\n",
       "      <td>object</td>\n",
       "      <td>Case</td>\n",
       "      <td>0.0</td>\n",
       "      <td>8.0</td>\n",
       "    </tr>\n",
       "    <tr>\n",
       "      <th>21</th>\n",
       "      <td>2597810.0</td>\n",
       "      <td>float64</td>\n",
       "      <td>sDPRICE</td>\n",
       "      <td>0.0</td>\n",
       "      <td>8.0</td>\n",
       "    </tr>\n",
       "    <tr>\n",
       "      <th>8</th>\n",
       "      <td>2597810.0</td>\n",
       "      <td>float64</td>\n",
       "      <td>DISPPERIOD</td>\n",
       "      <td>0.0</td>\n",
       "      <td>18.0</td>\n",
       "    </tr>\n",
       "    <tr>\n",
       "      <th>25</th>\n",
       "      <td>2597810.0</td>\n",
       "      <td>int64</td>\n",
       "      <td>AGE</td>\n",
       "      <td>0.0</td>\n",
       "      <td>66.0</td>\n",
       "    </tr>\n",
       "    <tr>\n",
       "      <th>7</th>\n",
       "      <td>2597810.0</td>\n",
       "      <td>float64</td>\n",
       "      <td>PRICE_RATE</td>\n",
       "      <td>0.0</td>\n",
       "      <td>71.0</td>\n",
       "    </tr>\n",
       "    <tr>\n",
       "      <th>9</th>\n",
       "      <td>2597810.0</td>\n",
       "      <td>float64</td>\n",
       "      <td>VALIDPERIOD</td>\n",
       "      <td>0.0</td>\n",
       "      <td>180.0</td>\n",
       "    </tr>\n",
       "    <tr>\n",
       "      <th>1</th>\n",
       "      <td>2543993.0</td>\n",
       "      <td>datetime64[ns]</td>\n",
       "      <td>view_date</td>\n",
       "      <td>53817.0</td>\n",
       "      <td>360.0</td>\n",
       "    </tr>\n",
       "    <tr>\n",
       "      <th>3</th>\n",
       "      <td>2597810.0</td>\n",
       "      <td>float64</td>\n",
       "      <td>distance</td>\n",
       "      <td>0.0</td>\n",
       "      <td>1082.0</td>\n",
       "    </tr>\n",
       "    <tr>\n",
       "      <th>20</th>\n",
       "      <td>2597810.0</td>\n",
       "      <td>float64</td>\n",
       "      <td>Price</td>\n",
       "      <td>0.0</td>\n",
       "      <td>4086.0</td>\n",
       "    </tr>\n",
       "    <tr>\n",
       "      <th>22</th>\n",
       "      <td>2597810.0</td>\n",
       "      <td>float64</td>\n",
       "      <td>zprice</td>\n",
       "      <td>0.0</td>\n",
       "      <td>5724.0</td>\n",
       "    </tr>\n",
       "    <tr>\n",
       "      <th>4</th>\n",
       "      <td>2597810.0</td>\n",
       "      <td>object</td>\n",
       "      <td>COUPON_ID_hash</td>\n",
       "      <td>0.0</td>\n",
       "      <td>19452.0</td>\n",
       "    </tr>\n",
       "    <tr>\n",
       "      <th>23</th>\n",
       "      <td>2597810.0</td>\n",
       "      <td>datetime64[ns]</td>\n",
       "      <td>REG_DATE</td>\n",
       "      <td>0.0</td>\n",
       "      <td>22802.0</td>\n",
       "    </tr>\n",
       "    <tr>\n",
       "      <th>5</th>\n",
       "      <td>2597810.0</td>\n",
       "      <td>object</td>\n",
       "      <td>USER_ID_hash</td>\n",
       "      <td>0.0</td>\n",
       "      <td>22833.0</td>\n",
       "    </tr>\n",
       "  </tbody>\n",
       "</table>\n",
       "</div>"
      ],
      "text/plain": [
       "          act           dtype                        name     null   unique\n",
       "0   2597810.0           int64                PURCHASE_FLG      0.0      2.0\n",
       "18  2597810.0         float64  USABLE_DATE_BEFORE_HOLIDAY      0.0      2.0\n",
       "17  2597810.0         float64         USABLE_DATE_HOLIDAY      0.0      2.0\n",
       "16  2597810.0         float64             USABLE_DATE_SUN      0.0      2.0\n",
       "15  2597810.0         float64             USABLE_DATE_SAT      0.0      2.0\n",
       "14  2597810.0         float64             USABLE_DATE_FRI      0.0      2.0\n",
       "13  2597810.0         float64             USABLE_DATE_THU      0.0      2.0\n",
       "24  2597810.0           int64                      SEX_ID      0.0      2.0\n",
       "11  2597810.0         float64             USABLE_DATE_TUE      0.0      2.0\n",
       "10  2597810.0         float64             USABLE_DATE_MON      0.0      2.0\n",
       "12  2597810.0         float64             USABLE_DATE_WED      0.0      2.0\n",
       "6   2597810.0         float64                        VIEW      0.0      2.0\n",
       "2   2597810.0           int64                     PREF_in      0.0      2.0\n",
       "19  2597810.0          object                        Case      0.0      8.0\n",
       "21  2597810.0         float64                     sDPRICE      0.0      8.0\n",
       "8   2597810.0         float64                  DISPPERIOD      0.0     18.0\n",
       "25  2597810.0           int64                         AGE      0.0     66.0\n",
       "7   2597810.0         float64                  PRICE_RATE      0.0     71.0\n",
       "9   2597810.0         float64                 VALIDPERIOD      0.0    180.0\n",
       "1   2543993.0  datetime64[ns]                   view_date  53817.0    360.0\n",
       "3   2597810.0         float64                    distance      0.0   1082.0\n",
       "20  2597810.0         float64                       Price      0.0   4086.0\n",
       "22  2597810.0         float64                      zprice      0.0   5724.0\n",
       "4   2597810.0          object              COUPON_ID_hash      0.0  19452.0\n",
       "23  2597810.0  datetime64[ns]                    REG_DATE      0.0  22802.0\n",
       "5   2597810.0          object                USER_ID_hash      0.0  22833.0"
      ]
     },
     "execution_count": 66,
     "metadata": {},
     "output_type": "execute_result"
    }
   ],
   "source": [
    "summary_table(train).sort_values(by='unique', ascending = True)"
   ]
  },
  {
   "cell_type": "code",
   "execution_count": 67,
   "id": "bcb89990-e064-4549-845f-c97388842c9a",
   "metadata": {},
   "outputs": [],
   "source": [
    "ls_dummy = ['Case']\n"
   ]
  },
  {
   "cell_type": "code",
   "execution_count": 68,
   "id": "76edb2f9-4151-4fa5-984c-11cbdab64b73",
   "metadata": {},
   "outputs": [],
   "source": [
    "train = pd.get_dummies(train, columns = ls_dummy)\n"
   ]
  },
  {
   "cell_type": "code",
   "execution_count": 69,
   "id": "484c6a09-8b40-447a-8aef-acae3e0de0fb",
   "metadata": {},
   "outputs": [],
   "source": [
    "cl_test['A'] = 1\n",
    "user_list['A'] = 1\n",
    "test = pd.merge(cl_test, user_list, how='outer')"
   ]
  },
  {
   "cell_type": "code",
   "execution_count": 70,
   "id": "e757486f-1fd5-4c7e-acfd-994a2b81e6b4",
   "metadata": {},
   "outputs": [],
   "source": [
    "test.drop(labels=['CAPSULE_TEXT', 'GENRE_NAME','CATALOG_PRICE',\n",
    "       'DISCOUNT_PRICE', 'DISPFROM', 'DISPEND', 'VALIDFROM',\n",
    "       'VALIDEND','lnDPRICE', 'mDPRICE','REG_DATE','WITHDRAW_DATE',\n",
    "       'user_pref','spot_large', 'spot_pref', 'spot_small'], axis=1, inplace=True)"
   ]
  },
  {
   "cell_type": "code",
   "execution_count": 71,
   "id": "82ce08e8-d242-4e4c-89fe-80ad3d8c3183",
   "metadata": {},
   "outputs": [
    {
     "data": {
      "text/html": [
       "<div>\n",
       "<style scoped>\n",
       "    .dataframe tbody tr th:only-of-type {\n",
       "        vertical-align: middle;\n",
       "    }\n",
       "\n",
       "    .dataframe tbody tr th {\n",
       "        vertical-align: top;\n",
       "    }\n",
       "\n",
       "    .dataframe thead th {\n",
       "        text-align: right;\n",
       "    }\n",
       "</style>\n",
       "<table border=\"1\" class=\"dataframe\">\n",
       "  <thead>\n",
       "    <tr style=\"text-align: right;\">\n",
       "      <th></th>\n",
       "      <th>PRICE_RATE</th>\n",
       "      <th>DISPPERIOD</th>\n",
       "      <th>VALIDPERIOD</th>\n",
       "      <th>USABLE_DATE_MON</th>\n",
       "      <th>USABLE_DATE_TUE</th>\n",
       "      <th>USABLE_DATE_WED</th>\n",
       "      <th>USABLE_DATE_THU</th>\n",
       "      <th>USABLE_DATE_FRI</th>\n",
       "      <th>USABLE_DATE_SAT</th>\n",
       "      <th>USABLE_DATE_SUN</th>\n",
       "      <th>USABLE_DATE_HOLIDAY</th>\n",
       "      <th>USABLE_DATE_BEFORE_HOLIDAY</th>\n",
       "      <th>COUPON_ID_hash</th>\n",
       "      <th>Case</th>\n",
       "      <th>Price</th>\n",
       "      <th>sDPRICE</th>\n",
       "      <th>zprice</th>\n",
       "      <th>A</th>\n",
       "      <th>SEX_ID</th>\n",
       "      <th>AGE</th>\n",
       "      <th>USER_ID_hash</th>\n",
       "    </tr>\n",
       "  </thead>\n",
       "  <tbody>\n",
       "    <tr>\n",
       "      <th>0</th>\n",
       "      <td>52</td>\n",
       "      <td>4</td>\n",
       "      <td>118.0</td>\n",
       "      <td>1.0</td>\n",
       "      <td>1.0</td>\n",
       "      <td>1.0</td>\n",
       "      <td>1.0</td>\n",
       "      <td>1.0</td>\n",
       "      <td>1.0</td>\n",
       "      <td>1.0</td>\n",
       "      <td>1.0</td>\n",
       "      <td>1.0</td>\n",
       "      <td>c76ea297ebd3a5a4d3bf9f75269f66fa</td>\n",
       "      <td>FOOD</td>\n",
       "      <td>8349</td>\n",
       "      <td>0.604073</td>\n",
       "      <td>0.487562</td>\n",
       "      <td>1</td>\n",
       "      <td>0</td>\n",
       "      <td>25</td>\n",
       "      <td>d9dca3cb44bab12ba313eaa681f663eb</td>\n",
       "    </tr>\n",
       "    <tr>\n",
       "      <th>1</th>\n",
       "      <td>52</td>\n",
       "      <td>4</td>\n",
       "      <td>118.0</td>\n",
       "      <td>1.0</td>\n",
       "      <td>1.0</td>\n",
       "      <td>1.0</td>\n",
       "      <td>1.0</td>\n",
       "      <td>1.0</td>\n",
       "      <td>1.0</td>\n",
       "      <td>1.0</td>\n",
       "      <td>1.0</td>\n",
       "      <td>1.0</td>\n",
       "      <td>c76ea297ebd3a5a4d3bf9f75269f66fa</td>\n",
       "      <td>FOOD</td>\n",
       "      <td>8349</td>\n",
       "      <td>0.604073</td>\n",
       "      <td>0.487562</td>\n",
       "      <td>1</td>\n",
       "      <td>0</td>\n",
       "      <td>34</td>\n",
       "      <td>560574a339f1b25e57b0221e486907ed</td>\n",
       "    </tr>\n",
       "  </tbody>\n",
       "</table>\n",
       "</div>"
      ],
      "text/plain": [
       "   PRICE_RATE  DISPPERIOD  VALIDPERIOD  USABLE_DATE_MON  USABLE_DATE_TUE  \\\n",
       "0          52           4        118.0              1.0              1.0   \n",
       "1          52           4        118.0              1.0              1.0   \n",
       "\n",
       "   USABLE_DATE_WED  USABLE_DATE_THU  USABLE_DATE_FRI  USABLE_DATE_SAT  \\\n",
       "0              1.0              1.0              1.0              1.0   \n",
       "1              1.0              1.0              1.0              1.0   \n",
       "\n",
       "   USABLE_DATE_SUN  USABLE_DATE_HOLIDAY  USABLE_DATE_BEFORE_HOLIDAY  \\\n",
       "0              1.0                  1.0                         1.0   \n",
       "1              1.0                  1.0                         1.0   \n",
       "\n",
       "                     COUPON_ID_hash  Case  Price   sDPRICE    zprice  A  \\\n",
       "0  c76ea297ebd3a5a4d3bf9f75269f66fa  FOOD   8349  0.604073  0.487562  1   \n",
       "1  c76ea297ebd3a5a4d3bf9f75269f66fa  FOOD   8349  0.604073  0.487562  1   \n",
       "\n",
       "   SEX_ID  AGE                      USER_ID_hash  \n",
       "0       0   25  d9dca3cb44bab12ba313eaa681f663eb  \n",
       "1       0   34  560574a339f1b25e57b0221e486907ed  "
      ]
     },
     "execution_count": 71,
     "metadata": {},
     "output_type": "execute_result"
    }
   ],
   "source": [
    "test[:2]"
   ]
  },
  {
   "cell_type": "code",
   "execution_count": 72,
   "id": "2c3600d9-17d1-4f57-b9d5-6ed18bfbe5b9",
   "metadata": {},
   "outputs": [
    {
     "data": {
      "text/plain": [
       "Index(['PRICE_RATE', 'DISPPERIOD', 'VALIDPERIOD', 'USABLE_DATE_MON',\n",
       "       'USABLE_DATE_TUE', 'USABLE_DATE_WED', 'USABLE_DATE_THU',\n",
       "       'USABLE_DATE_FRI', 'USABLE_DATE_SAT', 'USABLE_DATE_SUN',\n",
       "       'USABLE_DATE_HOLIDAY', 'USABLE_DATE_BEFORE_HOLIDAY', 'COUPON_ID_hash',\n",
       "       'Case', 'Price', 'sDPRICE', 'zprice', 'A', 'SEX_ID', 'AGE',\n",
       "       'USER_ID_hash'],\n",
       "      dtype='object')"
      ]
     },
     "execution_count": 72,
     "metadata": {},
     "output_type": "execute_result"
    }
   ],
   "source": [
    "test.columns"
   ]
  },
  {
   "cell_type": "code",
   "execution_count": 73,
   "id": "ff1b44b8-092a-40dd-98df-ff113814e241",
   "metadata": {},
   "outputs": [],
   "source": [
    "test['key'] = test['COUPON_ID_hash'] + test['USER_ID_hash'] \n",
    "ar_test['key'] = ar_test['COUPON_ID_hash']  \n",
    "test.drop(labels = ['key'], axis=1, inplace=True)"
   ]
  },
  {
   "cell_type": "code",
   "execution_count": 74,
   "id": "05b52503-f780-4815-80d9-6c40319a0d5b",
   "metadata": {},
   "outputs": [],
   "source": [
    "test = pd.get_dummies(test, columns = ls_dummy)\n",
    "test.drop(labels = ['A'], axis=1, inplace=True)\n",
    "test.fillna(0,inplace=True)"
   ]
  },
  {
   "cell_type": "code",
   "execution_count": 75,
   "id": "7e73b0ed-3a94-47bd-bd9c-2830b76421a6",
   "metadata": {},
   "outputs": [
    {
     "name": "stdout",
     "output_type": "stream",
     "text": [
      "only_train: ['PURCHASE_FLG', 'view_date', 'PREF_in', 'distance', 'VIEW', 'REG_DATE', 'Case_BEAUTY', 'Case_LESSON']  \n",
      "\n",
      "only_test: []\n"
     ]
    }
   ],
   "source": [
    "compare_not_test = [i for i in train.columns if i not in test.columns]\n",
    "compare_not_train = [i for i in test.columns if i not in train.columns]\n",
    "print('only_train: {}  \\n'.format(compare_not_test))\n",
    "print('only_test: {}'.format(compare_not_train))"
   ]
  },
  {
   "cell_type": "code",
   "execution_count": 85,
   "id": "1b356d8b-e651-4307-93c1-da06c73a4f85",
   "metadata": {},
   "outputs": [],
   "source": [
    "to_be_removed_train = {'PURCHASE_FLG', 'USER_ID_hash','COUPON_ID_hash', \"VIEW\",\"REG_DATE\"}\n",
    "ls_train = [i for i in list(train.columns) if i not in to_be_removed_train]\n",
    "X_train = train.filter(ls_train)\n",
    "y_train = train.PURCHASE_FLG"
   ]
  },
  {
   "cell_type": "code",
   "execution_count": 77,
   "id": "29ff4c0e-342f-4beb-b210-22f08ebd548a",
   "metadata": {},
   "outputs": [
    {
     "data": {
      "text/html": [
       "<div>\n",
       "<style scoped>\n",
       "    .dataframe tbody tr th:only-of-type {\n",
       "        vertical-align: middle;\n",
       "    }\n",
       "\n",
       "    .dataframe tbody tr th {\n",
       "        vertical-align: top;\n",
       "    }\n",
       "\n",
       "    .dataframe thead th {\n",
       "        text-align: right;\n",
       "    }\n",
       "</style>\n",
       "<table border=\"1\" class=\"dataframe\">\n",
       "  <thead>\n",
       "    <tr style=\"text-align: right;\">\n",
       "      <th></th>\n",
       "      <th>view_date</th>\n",
       "      <th>PREF_in</th>\n",
       "      <th>distance</th>\n",
       "      <th>PRICE_RATE</th>\n",
       "      <th>DISPPERIOD</th>\n",
       "      <th>VALIDPERIOD</th>\n",
       "      <th>USABLE_DATE_MON</th>\n",
       "      <th>USABLE_DATE_TUE</th>\n",
       "      <th>USABLE_DATE_WED</th>\n",
       "      <th>USABLE_DATE_THU</th>\n",
       "      <th>USABLE_DATE_FRI</th>\n",
       "      <th>USABLE_DATE_SAT</th>\n",
       "      <th>USABLE_DATE_SUN</th>\n",
       "      <th>USABLE_DATE_HOLIDAY</th>\n",
       "      <th>USABLE_DATE_BEFORE_HOLIDAY</th>\n",
       "      <th>Price</th>\n",
       "      <th>sDPRICE</th>\n",
       "      <th>zprice</th>\n",
       "      <th>SEX_ID</th>\n",
       "      <th>AGE</th>\n",
       "      <th>Case_BEAUTY</th>\n",
       "      <th>Case_CLASS</th>\n",
       "      <th>Case_FOOD</th>\n",
       "      <th>Case_LEISURE</th>\n",
       "      <th>Case_LESSON</th>\n",
       "      <th>Case_OTHER</th>\n",
       "      <th>Case_RELAXATION</th>\n",
       "      <th>Case_SPA</th>\n",
       "    </tr>\n",
       "  </thead>\n",
       "  <tbody>\n",
       "    <tr>\n",
       "      <th>0</th>\n",
       "      <td>2012-03-28</td>\n",
       "      <td>0</td>\n",
       "      <td>211.026943</td>\n",
       "      <td>78.0</td>\n",
       "      <td>4.0</td>\n",
       "      <td>179.0</td>\n",
       "      <td>1.0</td>\n",
       "      <td>1.0</td>\n",
       "      <td>1.0</td>\n",
       "      <td>1.0</td>\n",
       "      <td>1.0</td>\n",
       "      <td>1.0</td>\n",
       "      <td>1.0</td>\n",
       "      <td>1.0</td>\n",
       "      <td>1.0</td>\n",
       "      <td>8775.0</td>\n",
       "      <td>0.915395</td>\n",
       "      <td>-0.238</td>\n",
       "      <td>0</td>\n",
       "      <td>25</td>\n",
       "      <td>0</td>\n",
       "      <td>0</td>\n",
       "      <td>0</td>\n",
       "      <td>0</td>\n",
       "      <td>0</td>\n",
       "      <td>1</td>\n",
       "      <td>0</td>\n",
       "      <td>0</td>\n",
       "    </tr>\n",
       "    <tr>\n",
       "      <th>1</th>\n",
       "      <td>2012-03-28</td>\n",
       "      <td>0</td>\n",
       "      <td>211.026943</td>\n",
       "      <td>78.0</td>\n",
       "      <td>4.0</td>\n",
       "      <td>179.0</td>\n",
       "      <td>1.0</td>\n",
       "      <td>1.0</td>\n",
       "      <td>1.0</td>\n",
       "      <td>1.0</td>\n",
       "      <td>1.0</td>\n",
       "      <td>1.0</td>\n",
       "      <td>1.0</td>\n",
       "      <td>1.0</td>\n",
       "      <td>1.0</td>\n",
       "      <td>8775.0</td>\n",
       "      <td>0.915395</td>\n",
       "      <td>-0.238</td>\n",
       "      <td>0</td>\n",
       "      <td>25</td>\n",
       "      <td>0</td>\n",
       "      <td>0</td>\n",
       "      <td>0</td>\n",
       "      <td>0</td>\n",
       "      <td>0</td>\n",
       "      <td>1</td>\n",
       "      <td>0</td>\n",
       "      <td>0</td>\n",
       "    </tr>\n",
       "  </tbody>\n",
       "</table>\n",
       "</div>"
      ],
      "text/plain": [
       "   view_date  PREF_in    distance  PRICE_RATE  DISPPERIOD  VALIDPERIOD  \\\n",
       "0 2012-03-28        0  211.026943        78.0         4.0        179.0   \n",
       "1 2012-03-28        0  211.026943        78.0         4.0        179.0   \n",
       "\n",
       "   USABLE_DATE_MON  USABLE_DATE_TUE  USABLE_DATE_WED  USABLE_DATE_THU  \\\n",
       "0              1.0              1.0              1.0              1.0   \n",
       "1              1.0              1.0              1.0              1.0   \n",
       "\n",
       "   USABLE_DATE_FRI  USABLE_DATE_SAT  USABLE_DATE_SUN  USABLE_DATE_HOLIDAY  \\\n",
       "0              1.0              1.0              1.0                  1.0   \n",
       "1              1.0              1.0              1.0                  1.0   \n",
       "\n",
       "   USABLE_DATE_BEFORE_HOLIDAY   Price   sDPRICE  zprice  SEX_ID  AGE  \\\n",
       "0                         1.0  8775.0  0.915395  -0.238       0   25   \n",
       "1                         1.0  8775.0  0.915395  -0.238       0   25   \n",
       "\n",
       "   Case_BEAUTY  Case_CLASS  Case_FOOD  Case_LEISURE  Case_LESSON  Case_OTHER  \\\n",
       "0            0           0          0             0            0           1   \n",
       "1            0           0          0             0            0           1   \n",
       "\n",
       "   Case_RELAXATION  Case_SPA  \n",
       "0                0         0  \n",
       "1                0         0  "
      ]
     },
     "execution_count": 77,
     "metadata": {},
     "output_type": "execute_result"
    }
   ],
   "source": [
    "X_train[:2]"
   ]
  },
  {
   "cell_type": "markdown",
   "id": "8a018b63-524e-4f33-907e-2a99fc087a17",
   "metadata": {},
   "source": [
    "### Modelling"
   ]
  },
  {
   "cell_type": "markdown",
   "id": "4dbe8579-8b85-49fe-be74-13d406e57dd9",
   "metadata": {},
   "source": [
    "#### Random Forest"
   ]
  },
  {
   "cell_type": "code",
   "execution_count": 167,
   "id": "bfea2f75-9a3f-4ae3-a7d9-96c96ca270ee",
   "metadata": {},
   "outputs": [],
   "source": [
    "from sklearn.ensemble import RandomForestClassifier\n",
    "import joblib\n",
    "rfc = RandomForestClassifier(random_state=0, verbose=1, n_jobs=-1, n_estimators=240, class_weight=\"balanced_subsample\")"
   ]
  },
  {
   "cell_type": "code",
   "execution_count": 168,
   "id": "d4f9bc16-0374-4de7-ba78-319af830884c",
   "metadata": {},
   "outputs": [],
   "source": [
    "mod_ls = [i for i in X_train.columns if i in test.columns]\n",
    "X_train = train.filter(mod_ls)\n",
    "y_train = train.PURCHASE_FLG"
   ]
  },
  {
   "cell_type": "code",
   "execution_count": 169,
   "id": "f5407818-0a09-43da-b58e-d768a190c9e2",
   "metadata": {},
   "outputs": [
    {
     "name": "stderr",
     "output_type": "stream",
     "text": [
      "[Parallel(n_jobs=-1)]: Using backend ThreadingBackend with 8 concurrent workers.\n",
      "[Parallel(n_jobs=-1)]: Done  34 tasks      | elapsed:  1.4min\n",
      "[Parallel(n_jobs=-1)]: Done 184 tasks      | elapsed:  7.1min\n",
      "[Parallel(n_jobs=-1)]: Done 240 out of 240 | elapsed:  9.1min finished\n"
     ]
    }
   ],
   "source": [
    "model_rfc = rfc.fit(X_train, y_train)"
   ]
  },
  {
   "cell_type": "code",
   "execution_count": 170,
   "id": "78895791-c006-4625-9061-caf74cea53e9",
   "metadata": {},
   "outputs": [
    {
     "data": {
      "text/plain": [
       "array([0, 1], dtype=int64)"
      ]
     },
     "execution_count": 170,
     "metadata": {},
     "output_type": "execute_result"
    }
   ],
   "source": [
    "model_rfc.classes_"
   ]
  },
  {
   "cell_type": "code",
   "execution_count": 171,
   "id": "bbf4b405-4f66-4352-a280-dfa99a99fc63",
   "metadata": {},
   "outputs": [
    {
     "data": {
      "text/plain": [
       "['CPP_REPO_RF.mdl']"
      ]
     },
     "execution_count": 171,
     "metadata": {},
     "output_type": "execute_result"
    }
   ],
   "source": [
    "joblib.dump(rfc,'CPP_REPO_RF.mdl')"
   ]
  },
  {
   "cell_type": "code",
   "execution_count": 172,
   "id": "4f78d965-5f7d-413e-b48b-e4aec4998469",
   "metadata": {},
   "outputs": [],
   "source": [
    "test2 = test"
   ]
  },
  {
   "cell_type": "code",
   "execution_count": 173,
   "id": "9edc600d-1dbb-4930-a0ad-07acc11e0f72",
   "metadata": {},
   "outputs": [
    {
     "name": "stderr",
     "output_type": "stream",
     "text": [
      "[Parallel(n_jobs=8)]: Using backend ThreadingBackend with 8 concurrent workers.\n",
      "[Parallel(n_jobs=8)]: Done  34 tasks      | elapsed:   12.0s\n",
      "[Parallel(n_jobs=8)]: Done 184 tasks      | elapsed:   50.5s\n",
      "[Parallel(n_jobs=8)]: Done 240 out of 240 | elapsed:  1.1min finished\n"
     ]
    }
   ],
   "source": [
    "y_hat_proba_rfc = model_rfc.predict_proba(test2.filter(mod_ls))\n",
    "df_y_hat_proba_rfc= pd.DataFrame(y_hat_proba_rfc, columns=['n','y'])"
   ]
  },
  {
   "cell_type": "code",
   "execution_count": 174,
   "id": "604d0ac2-0fb3-438c-8ff4-ec10b7794208",
   "metadata": {},
   "outputs": [],
   "source": [
    "test_rfc = test.filter(['USER_ID_hash', 'COUPON_ID_hash'])"
   ]
  },
  {
   "cell_type": "code",
   "execution_count": 175,
   "id": "7ba86983-c67c-4125-91a8-e210a021584b",
   "metadata": {},
   "outputs": [],
   "source": [
    "result_proba_rfc = pd.concat([test_rfc, pd.DataFrame(df_y_hat_proba_rfc)],1)"
   ]
  },
  {
   "cell_type": "code",
   "execution_count": 194,
   "id": "3f3cb92f-4311-48f5-81a6-726874c03d08",
   "metadata": {},
   "outputs": [],
   "source": [
    "mse_rf = result_proba_rfc.y.mean()"
   ]
  },
  {
   "cell_type": "code",
   "execution_count": 195,
   "id": "b9f61b64-a7cf-4bfe-986e-8507af65344d",
   "metadata": {},
   "outputs": [
    {
     "data": {
      "text/plain": [
       "0.08707630451872607"
      ]
     },
     "execution_count": 195,
     "metadata": {},
     "output_type": "execute_result"
    }
   ],
   "source": [
    "mse_rf"
   ]
  },
  {
   "cell_type": "code",
   "execution_count": 196,
   "id": "d09cc30c-d67c-4718-8732-ab0e33a022af",
   "metadata": {},
   "outputs": [
    {
     "data": {
      "text/plain": [
       "0.29508694399909674"
      ]
     },
     "execution_count": 196,
     "metadata": {},
     "output_type": "execute_result"
    }
   ],
   "source": [
    "import math\n",
    "rmse_rf = math.sqrt(mse_rf)\n",
    "rmse_rf"
   ]
  },
  {
   "cell_type": "code",
   "execution_count": 177,
   "id": "33c05782-0ed3-415e-81e2-191a44efc647",
   "metadata": {},
   "outputs": [],
   "source": [
    "sub = test[['USER_ID_hash','COUPON_ID_hash']]\n",
    "sub['TARGET'] = y_hat_proba_rfc[:,1]"
   ]
  },
  {
   "cell_type": "code",
   "execution_count": 178,
   "id": "cd7de9ff-d222-452f-91dd-652a3b8fa11f",
   "metadata": {},
   "outputs": [],
   "source": [
    "grouped = sub.groupby('USER_ID_hash')"
   ]
  },
  {
   "cell_type": "code",
   "execution_count": 179,
   "id": "11c24048-1b13-4f9b-9c87-54262f3727f2",
   "metadata": {},
   "outputs": [],
   "source": [
    "def get_top10(row):\n",
    "    pred = grouped.get_group(row.USER_ID_hash).sort_values(by=['TARGET'],ascending=False)\n",
    "    pred = ' '.join(map(str, pred.head(10).COUPON_ID_hash.values))\n",
    "    return pred"
   ]
  },
  {
   "cell_type": "code",
   "execution_count": 180,
   "id": "9dc3b09e-ad89-4f1c-8177-f47b9992ae97",
   "metadata": {},
   "outputs": [],
   "source": [
    "submissions = pd.DataFrame(grouped,columns=['USER_ID_hash','PURCHASED_COUPONS'])"
   ]
  },
  {
   "cell_type": "code",
   "execution_count": 181,
   "id": "7eccfe71-9d99-4798-ac4e-a5eac572b3ee",
   "metadata": {},
   "outputs": [],
   "source": [
    "submissions['PURCHASED_COUPONS'] = submissions.apply(get_top10, axis=1)"
   ]
  },
  {
   "cell_type": "code",
   "execution_count": 182,
   "id": "6da5c99a-2eda-4a97-9743-0700fc4e4f6e",
   "metadata": {},
   "outputs": [
    {
     "data": {
      "text/html": [
       "<div>\n",
       "<style scoped>\n",
       "    .dataframe tbody tr th:only-of-type {\n",
       "        vertical-align: middle;\n",
       "    }\n",
       "\n",
       "    .dataframe tbody tr th {\n",
       "        vertical-align: top;\n",
       "    }\n",
       "\n",
       "    .dataframe thead th {\n",
       "        text-align: right;\n",
       "    }\n",
       "</style>\n",
       "<table border=\"1\" class=\"dataframe\">\n",
       "  <thead>\n",
       "    <tr style=\"text-align: right;\">\n",
       "      <th></th>\n",
       "      <th>USER_ID_hash</th>\n",
       "      <th>PURCHASED_COUPONS</th>\n",
       "    </tr>\n",
       "  </thead>\n",
       "  <tbody>\n",
       "    <tr>\n",
       "      <th>0</th>\n",
       "      <td>0000b53e182165208887ba65c079fc21</td>\n",
       "      <td>c988d799bc7db9254fe865ee6cf2d4ff a6de36cd4b8a2...</td>\n",
       "    </tr>\n",
       "    <tr>\n",
       "      <th>1</th>\n",
       "      <td>00035b86e6884589ec8d28fbf2fe7757</td>\n",
       "      <td>0c015306597566b632bebfb63b7e59f3 89abee8c5b418...</td>\n",
       "    </tr>\n",
       "    <tr>\n",
       "      <th>2</th>\n",
       "      <td>0005b1068d5f2b8f2a7c978fcfe1ca06</td>\n",
       "      <td>46da51ba6dd20c514c2802f79a4e94b2 17d83b27fbae3...</td>\n",
       "    </tr>\n",
       "    <tr>\n",
       "      <th>3</th>\n",
       "      <td>000cc06982785a19e2a2fdb40b1c9d59</td>\n",
       "      <td>89abee8c5b418c5a27dff7121b56c890 9bfec8781a9c9...</td>\n",
       "    </tr>\n",
       "    <tr>\n",
       "      <th>4</th>\n",
       "      <td>0013518e41c416cd6a181d277dd8ca0b</td>\n",
       "      <td>6a1e3719167c9dd19490043ca5768d1c a6de36cd4b8a2...</td>\n",
       "    </tr>\n",
       "    <tr>\n",
       "      <th>...</th>\n",
       "      <td>...</td>\n",
       "      <td>...</td>\n",
       "    </tr>\n",
       "    <tr>\n",
       "      <th>22868</th>\n",
       "      <td>fff1a623187cefd7a594e338709b0f40</td>\n",
       "      <td>c988d799bc7db9254fe865ee6cf2d4ff b36879abb93ee...</td>\n",
       "    </tr>\n",
       "    <tr>\n",
       "      <th>22869</th>\n",
       "      <td>fff4a076cfda6ff9dbe85e1cb678791b</td>\n",
       "      <td>0c015306597566b632bebfb63b7e59f3 fa94b2db3a3ac...</td>\n",
       "    </tr>\n",
       "    <tr>\n",
       "      <th>22870</th>\n",
       "      <td>fff970d2014c3e10a77e38d540239017</td>\n",
       "      <td>46da51ba6dd20c514c2802f79a4e94b2 0c01530659756...</td>\n",
       "    </tr>\n",
       "    <tr>\n",
       "      <th>22871</th>\n",
       "      <td>fffafc024e264d5d539813444cf61199</td>\n",
       "      <td>46da51ba6dd20c514c2802f79a4e94b2 9752ad849fd13...</td>\n",
       "    </tr>\n",
       "    <tr>\n",
       "      <th>22872</th>\n",
       "      <td>ffff56dbf3c782c3532f88c6c79817ba</td>\n",
       "      <td>79de77aa8c36fdf17cb3366e2084e353 16a9c255c41db...</td>\n",
       "    </tr>\n",
       "  </tbody>\n",
       "</table>\n",
       "<p>22873 rows × 2 columns</p>\n",
       "</div>"
      ],
      "text/plain": [
       "                           USER_ID_hash  \\\n",
       "0      0000b53e182165208887ba65c079fc21   \n",
       "1      00035b86e6884589ec8d28fbf2fe7757   \n",
       "2      0005b1068d5f2b8f2a7c978fcfe1ca06   \n",
       "3      000cc06982785a19e2a2fdb40b1c9d59   \n",
       "4      0013518e41c416cd6a181d277dd8ca0b   \n",
       "...                                 ...   \n",
       "22868  fff1a623187cefd7a594e338709b0f40   \n",
       "22869  fff4a076cfda6ff9dbe85e1cb678791b   \n",
       "22870  fff970d2014c3e10a77e38d540239017   \n",
       "22871  fffafc024e264d5d539813444cf61199   \n",
       "22872  ffff56dbf3c782c3532f88c6c79817ba   \n",
       "\n",
       "                                       PURCHASED_COUPONS  \n",
       "0      c988d799bc7db9254fe865ee6cf2d4ff a6de36cd4b8a2...  \n",
       "1      0c015306597566b632bebfb63b7e59f3 89abee8c5b418...  \n",
       "2      46da51ba6dd20c514c2802f79a4e94b2 17d83b27fbae3...  \n",
       "3      89abee8c5b418c5a27dff7121b56c890 9bfec8781a9c9...  \n",
       "4      6a1e3719167c9dd19490043ca5768d1c a6de36cd4b8a2...  \n",
       "...                                                  ...  \n",
       "22868  c988d799bc7db9254fe865ee6cf2d4ff b36879abb93ee...  \n",
       "22869  0c015306597566b632bebfb63b7e59f3 fa94b2db3a3ac...  \n",
       "22870  46da51ba6dd20c514c2802f79a4e94b2 0c01530659756...  \n",
       "22871  46da51ba6dd20c514c2802f79a4e94b2 9752ad849fd13...  \n",
       "22872  79de77aa8c36fdf17cb3366e2084e353 16a9c255c41db...  \n",
       "\n",
       "[22873 rows x 2 columns]"
      ]
     },
     "execution_count": 182,
     "metadata": {},
     "output_type": "execute_result"
    }
   ],
   "source": [
    "submissions"
   ]
  },
  {
   "cell_type": "code",
   "execution_count": 108,
   "id": "dd5dbd60-37b4-4230-9bb4-d53d92c75636",
   "metadata": {},
   "outputs": [],
   "source": [
    "submissions.to_csv('D:/aml2/Random_forest_submission.csv',index = False,header=True)"
   ]
  },
  {
   "cell_type": "markdown",
   "id": "337eba98-96c2-43ff-9c51-eff80055a492",
   "metadata": {},
   "source": [
    "#### Extreme gradient Boost(XGBoost)"
   ]
  },
  {
   "cell_type": "code",
   "execution_count": 183,
   "id": "c85ab8a3-8a6f-46b8-8ea7-d3ef1eb4b6c3",
   "metadata": {},
   "outputs": [],
   "source": [
    "import xgboost"
   ]
  },
  {
   "cell_type": "code",
   "execution_count": 184,
   "id": "fd4a4298-9a8d-462f-b209-c502e0873b50",
   "metadata": {},
   "outputs": [],
   "source": [
    "mod_ls = [i for i in X_train.columns if i in test.columns]\n",
    "X_train = train.filter(mod_ls)\n",
    "y_train = train.PURCHASE_FLG"
   ]
  },
  {
   "cell_type": "code",
   "execution_count": 185,
   "id": "706da837-aeb7-4c36-ac29-163d5b467402",
   "metadata": {},
   "outputs": [],
   "source": [
    "model_xgb = xgboost.XGBClassifier(n_estimators=300, max_depth=3,\n",
    "                                 objective = 'reg:logistic',\n",
    "                                 subsample= 0.85,\n",
    "                                 colsample_bytree=0.8,\n",
    "                                 random_state=12345,\n",
    "                                 min_child_weight=1,\n",
    "                                 learning_rate=0.05)"
   ]
  },
  {
   "cell_type": "code",
   "execution_count": 186,
   "id": "9c6f1f80-aed4-429e-a24b-224cec52ec3d",
   "metadata": {},
   "outputs": [],
   "source": [
    "model_xgb = model_xgb.fit(X_train, y_train)"
   ]
  },
  {
   "cell_type": "code",
   "execution_count": 187,
   "id": "53218711-aa73-45bc-b4e4-610387eafef2",
   "metadata": {},
   "outputs": [],
   "source": [
    "y_pred_xgb = model_xgb.predict(test.filter(mod_ls))"
   ]
  },
  {
   "cell_type": "code",
   "execution_count": 188,
   "id": "41422193-99fb-4a7e-9382-3d0eb7b14ef0",
   "metadata": {},
   "outputs": [],
   "source": [
    "y_hat_proba = model_xgb.predict_proba(test.filter(mod_ls))\n",
    "df_y_hat_proba= pd.DataFrame(y_hat_proba, columns=['n','y'])"
   ]
  },
  {
   "cell_type": "code",
   "execution_count": 189,
   "id": "59ad9b5b-3da3-493c-8797-df99a76dcc85",
   "metadata": {},
   "outputs": [],
   "source": [
    "test_xgb = test.filter(['USER_ID_hash', 'COUPON_ID_hash'])"
   ]
  },
  {
   "cell_type": "code",
   "execution_count": 190,
   "id": "e76b30d3-d832-4a9b-8a80-bf688d8bb48f",
   "metadata": {},
   "outputs": [],
   "source": [
    "result_proba_df = pd.concat([test_xgb, pd.DataFrame(df_y_hat_proba)],1)"
   ]
  },
  {
   "cell_type": "code",
   "execution_count": 197,
   "id": "04e6e031-6a79-4f49-9de0-6fc637c33ab5",
   "metadata": {},
   "outputs": [],
   "source": [
    "mse_xb = result_proba_df.y.mean()"
   ]
  },
  {
   "cell_type": "code",
   "execution_count": 198,
   "id": "c5aa13a9-2087-4f34-9697-7b5e3f912c54",
   "metadata": {},
   "outputs": [
    {
     "data": {
      "text/plain": [
       "0.07181163"
      ]
     },
     "execution_count": 198,
     "metadata": {},
     "output_type": "execute_result"
    }
   ],
   "source": [
    "mse_xb"
   ]
  },
  {
   "cell_type": "code",
   "execution_count": 199,
   "id": "1e68e638-9d66-4330-bdf3-82aff06471bc",
   "metadata": {},
   "outputs": [
    {
     "data": {
      "text/plain": [
       "0.26797692311448584"
      ]
     },
     "execution_count": 199,
     "metadata": {},
     "output_type": "execute_result"
    }
   ],
   "source": [
    "import math\n",
    "rmse_xb = math.sqrt(mse_xb)\n",
    "rmse_xb"
   ]
  },
  {
   "cell_type": "code",
   "execution_count": 192,
   "id": "3ab36ac9-4097-4bbc-ad3a-a000ec61b15b",
   "metadata": {},
   "outputs": [
    {
     "data": {
      "text/html": [
       "<div>\n",
       "<style scoped>\n",
       "    .dataframe tbody tr th:only-of-type {\n",
       "        vertical-align: middle;\n",
       "    }\n",
       "\n",
       "    .dataframe tbody tr th {\n",
       "        vertical-align: top;\n",
       "    }\n",
       "\n",
       "    .dataframe thead th {\n",
       "        text-align: right;\n",
       "    }\n",
       "</style>\n",
       "<table border=\"1\" class=\"dataframe\">\n",
       "  <thead>\n",
       "    <tr style=\"text-align: right;\">\n",
       "      <th></th>\n",
       "      <th>columns</th>\n",
       "      <th>importance</th>\n",
       "    </tr>\n",
       "  </thead>\n",
       "  <tbody>\n",
       "    <tr>\n",
       "      <th>8</th>\n",
       "      <td>USABLE_DATE_SAT</td>\n",
       "      <td>19.7</td>\n",
       "    </tr>\n",
       "    <tr>\n",
       "      <th>12</th>\n",
       "      <td>Price</td>\n",
       "      <td>19.0</td>\n",
       "    </tr>\n",
       "    <tr>\n",
       "      <th>14</th>\n",
       "      <td>zprice</td>\n",
       "      <td>15.4</td>\n",
       "    </tr>\n",
       "    <tr>\n",
       "      <th>11</th>\n",
       "      <td>USABLE_DATE_BEFORE_HOLIDAY</td>\n",
       "      <td>5.2</td>\n",
       "    </tr>\n",
       "    <tr>\n",
       "      <th>19</th>\n",
       "      <td>Case_LEISURE</td>\n",
       "      <td>4.3</td>\n",
       "    </tr>\n",
       "    <tr>\n",
       "      <th>1</th>\n",
       "      <td>DISPPERIOD</td>\n",
       "      <td>4.3</td>\n",
       "    </tr>\n",
       "    <tr>\n",
       "      <th>18</th>\n",
       "      <td>Case_FOOD</td>\n",
       "      <td>4.2</td>\n",
       "    </tr>\n",
       "    <tr>\n",
       "      <th>0</th>\n",
       "      <td>PRICE_RATE</td>\n",
       "      <td>4.0</td>\n",
       "    </tr>\n",
       "    <tr>\n",
       "      <th>20</th>\n",
       "      <td>Case_OTHER</td>\n",
       "      <td>3.5</td>\n",
       "    </tr>\n",
       "    <tr>\n",
       "      <th>2</th>\n",
       "      <td>VALIDPERIOD</td>\n",
       "      <td>3.4</td>\n",
       "    </tr>\n",
       "    <tr>\n",
       "      <th>16</th>\n",
       "      <td>AGE</td>\n",
       "      <td>3.0</td>\n",
       "    </tr>\n",
       "    <tr>\n",
       "      <th>9</th>\n",
       "      <td>USABLE_DATE_SUN</td>\n",
       "      <td>2.6</td>\n",
       "    </tr>\n",
       "    <tr>\n",
       "      <th>4</th>\n",
       "      <td>USABLE_DATE_TUE</td>\n",
       "      <td>2.0</td>\n",
       "    </tr>\n",
       "    <tr>\n",
       "      <th>13</th>\n",
       "      <td>sDPRICE</td>\n",
       "      <td>1.9</td>\n",
       "    </tr>\n",
       "    <tr>\n",
       "      <th>15</th>\n",
       "      <td>SEX_ID</td>\n",
       "      <td>1.7</td>\n",
       "    </tr>\n",
       "    <tr>\n",
       "      <th>7</th>\n",
       "      <td>USABLE_DATE_FRI</td>\n",
       "      <td>1.5</td>\n",
       "    </tr>\n",
       "    <tr>\n",
       "      <th>6</th>\n",
       "      <td>USABLE_DATE_THU</td>\n",
       "      <td>1.2</td>\n",
       "    </tr>\n",
       "    <tr>\n",
       "      <th>21</th>\n",
       "      <td>Case_RELAXATION</td>\n",
       "      <td>1.1</td>\n",
       "    </tr>\n",
       "    <tr>\n",
       "      <th>10</th>\n",
       "      <td>USABLE_DATE_HOLIDAY</td>\n",
       "      <td>0.8</td>\n",
       "    </tr>\n",
       "    <tr>\n",
       "      <th>3</th>\n",
       "      <td>USABLE_DATE_MON</td>\n",
       "      <td>0.7</td>\n",
       "    </tr>\n",
       "    <tr>\n",
       "      <th>5</th>\n",
       "      <td>USABLE_DATE_WED</td>\n",
       "      <td>0.6</td>\n",
       "    </tr>\n",
       "    <tr>\n",
       "      <th>17</th>\n",
       "      <td>Case_CLASS</td>\n",
       "      <td>0.0</td>\n",
       "    </tr>\n",
       "    <tr>\n",
       "      <th>22</th>\n",
       "      <td>Case_SPA</td>\n",
       "      <td>0.0</td>\n",
       "    </tr>\n",
       "  </tbody>\n",
       "</table>\n",
       "</div>"
      ],
      "text/plain": [
       "                       columns  importance\n",
       "8              USABLE_DATE_SAT        19.7\n",
       "12                       Price        19.0\n",
       "14                      zprice        15.4\n",
       "11  USABLE_DATE_BEFORE_HOLIDAY         5.2\n",
       "19                Case_LEISURE         4.3\n",
       "1                   DISPPERIOD         4.3\n",
       "18                   Case_FOOD         4.2\n",
       "0                   PRICE_RATE         4.0\n",
       "20                  Case_OTHER         3.5\n",
       "2                  VALIDPERIOD         3.4\n",
       "16                         AGE         3.0\n",
       "9              USABLE_DATE_SUN         2.6\n",
       "4              USABLE_DATE_TUE         2.0\n",
       "13                     sDPRICE         1.9\n",
       "15                      SEX_ID         1.7\n",
       "7              USABLE_DATE_FRI         1.5\n",
       "6              USABLE_DATE_THU         1.2\n",
       "21             Case_RELAXATION         1.1\n",
       "10         USABLE_DATE_HOLIDAY         0.8\n",
       "3              USABLE_DATE_MON         0.7\n",
       "5              USABLE_DATE_WED         0.6\n",
       "17                  Case_CLASS         0.0\n",
       "22                    Case_SPA         0.0"
      ]
     },
     "execution_count": 192,
     "metadata": {},
     "output_type": "execute_result"
    }
   ],
   "source": [
    "importances = model_xgb.feature_importances_\n",
    "df_imp = pd.DataFrame()\n",
    "for i, j in zip(mod_ls, list(importances)):\n",
    "    data = {'columns': i, 'importance': np.round(j*100,1)} \n",
    "    df_imp = df_imp.append(data, ignore_index=True)\n",
    "\n",
    "df_imp.sort_values(by='importance', ascending=False)"
   ]
  },
  {
   "cell_type": "code",
   "execution_count": 119,
   "id": "c8ddc74a-eed4-406c-98f4-ceeed2c1fe9e",
   "metadata": {},
   "outputs": [],
   "source": [
    "result_proba_df2 = result_proba_df[result_proba_df['y']>0.08].sort_values(by='y', ascending=False)"
   ]
  },
  {
   "cell_type": "code",
   "execution_count": 120,
   "id": "aa0f505a-4f72-4e1e-9fd4-d9133d778a6b",
   "metadata": {},
   "outputs": [],
   "source": [
    "lookup_table = result_proba_df2.groupby('USER_ID_hash').apply(lambda x: list(x.COUPON_ID_hash))\n",
    "lookup_table = pd.DataFrame(lookup_table, columns = ['COUPON_ID_hash']).reset_index()\n",
    "lookup_table\n",
    "\n",
    "lookup_table.rename(columns={'COUPON_ID_hash':'PURCHASED_COUPONS'},inplace=True)"
   ]
  },
  {
   "cell_type": "code",
   "execution_count": 121,
   "id": "a726de03-566a-48d8-abf6-99c904bd4bd5",
   "metadata": {},
   "outputs": [
    {
     "data": {
      "text/html": [
       "<div>\n",
       "<style scoped>\n",
       "    .dataframe tbody tr th:only-of-type {\n",
       "        vertical-align: middle;\n",
       "    }\n",
       "\n",
       "    .dataframe tbody tr th {\n",
       "        vertical-align: top;\n",
       "    }\n",
       "\n",
       "    .dataframe thead th {\n",
       "        text-align: right;\n",
       "    }\n",
       "</style>\n",
       "<table border=\"1\" class=\"dataframe\">\n",
       "  <thead>\n",
       "    <tr style=\"text-align: right;\">\n",
       "      <th></th>\n",
       "      <th>USER_ID_hash</th>\n",
       "      <th>PURCHASED_COUPONS</th>\n",
       "    </tr>\n",
       "  </thead>\n",
       "  <tbody>\n",
       "    <tr>\n",
       "      <th>0</th>\n",
       "      <td>0000b53e182165208887ba65c079fc21</td>\n",
       "      <td>[0c015306597566b632bebfb63b7e59f3, 79de77aa8c3...</td>\n",
       "    </tr>\n",
       "    <tr>\n",
       "      <th>1</th>\n",
       "      <td>00035b86e6884589ec8d28fbf2fe7757</td>\n",
       "      <td>[0c015306597566b632bebfb63b7e59f3, 79de77aa8c3...</td>\n",
       "    </tr>\n",
       "    <tr>\n",
       "      <th>2</th>\n",
       "      <td>0005b1068d5f2b8f2a7c978fcfe1ca06</td>\n",
       "      <td>[0c015306597566b632bebfb63b7e59f3, 79de77aa8c3...</td>\n",
       "    </tr>\n",
       "    <tr>\n",
       "      <th>3</th>\n",
       "      <td>000cc06982785a19e2a2fdb40b1c9d59</td>\n",
       "      <td>[0c015306597566b632bebfb63b7e59f3, 79de77aa8c3...</td>\n",
       "    </tr>\n",
       "    <tr>\n",
       "      <th>4</th>\n",
       "      <td>0013518e41c416cd6a181d277dd8ca0b</td>\n",
       "      <td>[0c015306597566b632bebfb63b7e59f3, 79de77aa8c3...</td>\n",
       "    </tr>\n",
       "    <tr>\n",
       "      <th>...</th>\n",
       "      <td>...</td>\n",
       "      <td>...</td>\n",
       "    </tr>\n",
       "    <tr>\n",
       "      <th>22868</th>\n",
       "      <td>fff1a623187cefd7a594e338709b0f40</td>\n",
       "      <td>[0c015306597566b632bebfb63b7e59f3, 79de77aa8c3...</td>\n",
       "    </tr>\n",
       "    <tr>\n",
       "      <th>22869</th>\n",
       "      <td>fff4a076cfda6ff9dbe85e1cb678791b</td>\n",
       "      <td>[0c015306597566b632bebfb63b7e59f3, 79de77aa8c3...</td>\n",
       "    </tr>\n",
       "    <tr>\n",
       "      <th>22870</th>\n",
       "      <td>fff970d2014c3e10a77e38d540239017</td>\n",
       "      <td>[0c015306597566b632bebfb63b7e59f3, 79de77aa8c3...</td>\n",
       "    </tr>\n",
       "    <tr>\n",
       "      <th>22871</th>\n",
       "      <td>fffafc024e264d5d539813444cf61199</td>\n",
       "      <td>[0c015306597566b632bebfb63b7e59f3, 79de77aa8c3...</td>\n",
       "    </tr>\n",
       "    <tr>\n",
       "      <th>22872</th>\n",
       "      <td>ffff56dbf3c782c3532f88c6c79817ba</td>\n",
       "      <td>[0c015306597566b632bebfb63b7e59f3, 79de77aa8c3...</td>\n",
       "    </tr>\n",
       "  </tbody>\n",
       "</table>\n",
       "<p>22873 rows × 2 columns</p>\n",
       "</div>"
      ],
      "text/plain": [
       "                           USER_ID_hash  \\\n",
       "0      0000b53e182165208887ba65c079fc21   \n",
       "1      00035b86e6884589ec8d28fbf2fe7757   \n",
       "2      0005b1068d5f2b8f2a7c978fcfe1ca06   \n",
       "3      000cc06982785a19e2a2fdb40b1c9d59   \n",
       "4      0013518e41c416cd6a181d277dd8ca0b   \n",
       "...                                 ...   \n",
       "22868  fff1a623187cefd7a594e338709b0f40   \n",
       "22869  fff4a076cfda6ff9dbe85e1cb678791b   \n",
       "22870  fff970d2014c3e10a77e38d540239017   \n",
       "22871  fffafc024e264d5d539813444cf61199   \n",
       "22872  ffff56dbf3c782c3532f88c6c79817ba   \n",
       "\n",
       "                                       PURCHASED_COUPONS  \n",
       "0      [0c015306597566b632bebfb63b7e59f3, 79de77aa8c3...  \n",
       "1      [0c015306597566b632bebfb63b7e59f3, 79de77aa8c3...  \n",
       "2      [0c015306597566b632bebfb63b7e59f3, 79de77aa8c3...  \n",
       "3      [0c015306597566b632bebfb63b7e59f3, 79de77aa8c3...  \n",
       "4      [0c015306597566b632bebfb63b7e59f3, 79de77aa8c3...  \n",
       "...                                                  ...  \n",
       "22868  [0c015306597566b632bebfb63b7e59f3, 79de77aa8c3...  \n",
       "22869  [0c015306597566b632bebfb63b7e59f3, 79de77aa8c3...  \n",
       "22870  [0c015306597566b632bebfb63b7e59f3, 79de77aa8c3...  \n",
       "22871  [0c015306597566b632bebfb63b7e59f3, 79de77aa8c3...  \n",
       "22872  [0c015306597566b632bebfb63b7e59f3, 79de77aa8c3...  \n",
       "\n",
       "[22873 rows x 2 columns]"
      ]
     },
     "execution_count": 121,
     "metadata": {},
     "output_type": "execute_result"
    }
   ],
   "source": [
    "lookup_table"
   ]
  },
  {
   "cell_type": "code",
   "execution_count": 122,
   "id": "3ce79e21-0b00-429c-9d51-d9619f313d6f",
   "metadata": {},
   "outputs": [],
   "source": [
    "submission = pd.DataFrame(lookup_table,columns=['USER_ID_hash','PURCHASED_COUPONS'])"
   ]
  },
  {
   "cell_type": "code",
   "execution_count": 123,
   "id": "c4372581-95e8-4160-94d4-ab218a45cc3d",
   "metadata": {},
   "outputs": [],
   "source": [
    "submission.insert(2, 'COUPON', submission['USER_ID_hash'].map(lookup_table.set_index('USER_ID_hash')['PURCHASED_COUPONS']))"
   ]
  },
  {
   "cell_type": "code",
   "execution_count": 124,
   "id": "337ab39a-3360-48b3-b06d-26235ad508ce",
   "metadata": {},
   "outputs": [
    {
     "data": {
      "text/html": [
       "<div>\n",
       "<style scoped>\n",
       "    .dataframe tbody tr th:only-of-type {\n",
       "        vertical-align: middle;\n",
       "    }\n",
       "\n",
       "    .dataframe tbody tr th {\n",
       "        vertical-align: top;\n",
       "    }\n",
       "\n",
       "    .dataframe thead th {\n",
       "        text-align: right;\n",
       "    }\n",
       "</style>\n",
       "<table border=\"1\" class=\"dataframe\">\n",
       "  <thead>\n",
       "    <tr style=\"text-align: right;\">\n",
       "      <th></th>\n",
       "      <th>USER_ID_hash</th>\n",
       "      <th>PURCHASED_COUPONS</th>\n",
       "      <th>COUPON</th>\n",
       "    </tr>\n",
       "  </thead>\n",
       "  <tbody>\n",
       "    <tr>\n",
       "      <th>0</th>\n",
       "      <td>0000b53e182165208887ba65c079fc21</td>\n",
       "      <td>[0c015306597566b632bebfb63b7e59f3, 79de77aa8c3...</td>\n",
       "      <td>[0c015306597566b632bebfb63b7e59f3, 79de77aa8c3...</td>\n",
       "    </tr>\n",
       "    <tr>\n",
       "      <th>1</th>\n",
       "      <td>00035b86e6884589ec8d28fbf2fe7757</td>\n",
       "      <td>[0c015306597566b632bebfb63b7e59f3, 79de77aa8c3...</td>\n",
       "      <td>[0c015306597566b632bebfb63b7e59f3, 79de77aa8c3...</td>\n",
       "    </tr>\n",
       "    <tr>\n",
       "      <th>2</th>\n",
       "      <td>0005b1068d5f2b8f2a7c978fcfe1ca06</td>\n",
       "      <td>[0c015306597566b632bebfb63b7e59f3, 79de77aa8c3...</td>\n",
       "      <td>[0c015306597566b632bebfb63b7e59f3, 79de77aa8c3...</td>\n",
       "    </tr>\n",
       "    <tr>\n",
       "      <th>3</th>\n",
       "      <td>000cc06982785a19e2a2fdb40b1c9d59</td>\n",
       "      <td>[0c015306597566b632bebfb63b7e59f3, 79de77aa8c3...</td>\n",
       "      <td>[0c015306597566b632bebfb63b7e59f3, 79de77aa8c3...</td>\n",
       "    </tr>\n",
       "    <tr>\n",
       "      <th>4</th>\n",
       "      <td>0013518e41c416cd6a181d277dd8ca0b</td>\n",
       "      <td>[0c015306597566b632bebfb63b7e59f3, 79de77aa8c3...</td>\n",
       "      <td>[0c015306597566b632bebfb63b7e59f3, 79de77aa8c3...</td>\n",
       "    </tr>\n",
       "    <tr>\n",
       "      <th>...</th>\n",
       "      <td>...</td>\n",
       "      <td>...</td>\n",
       "      <td>...</td>\n",
       "    </tr>\n",
       "    <tr>\n",
       "      <th>22868</th>\n",
       "      <td>fff1a623187cefd7a594e338709b0f40</td>\n",
       "      <td>[0c015306597566b632bebfb63b7e59f3, 79de77aa8c3...</td>\n",
       "      <td>[0c015306597566b632bebfb63b7e59f3, 79de77aa8c3...</td>\n",
       "    </tr>\n",
       "    <tr>\n",
       "      <th>22869</th>\n",
       "      <td>fff4a076cfda6ff9dbe85e1cb678791b</td>\n",
       "      <td>[0c015306597566b632bebfb63b7e59f3, 79de77aa8c3...</td>\n",
       "      <td>[0c015306597566b632bebfb63b7e59f3, 79de77aa8c3...</td>\n",
       "    </tr>\n",
       "    <tr>\n",
       "      <th>22870</th>\n",
       "      <td>fff970d2014c3e10a77e38d540239017</td>\n",
       "      <td>[0c015306597566b632bebfb63b7e59f3, 79de77aa8c3...</td>\n",
       "      <td>[0c015306597566b632bebfb63b7e59f3, 79de77aa8c3...</td>\n",
       "    </tr>\n",
       "    <tr>\n",
       "      <th>22871</th>\n",
       "      <td>fffafc024e264d5d539813444cf61199</td>\n",
       "      <td>[0c015306597566b632bebfb63b7e59f3, 79de77aa8c3...</td>\n",
       "      <td>[0c015306597566b632bebfb63b7e59f3, 79de77aa8c3...</td>\n",
       "    </tr>\n",
       "    <tr>\n",
       "      <th>22872</th>\n",
       "      <td>ffff56dbf3c782c3532f88c6c79817ba</td>\n",
       "      <td>[0c015306597566b632bebfb63b7e59f3, 79de77aa8c3...</td>\n",
       "      <td>[0c015306597566b632bebfb63b7e59f3, 79de77aa8c3...</td>\n",
       "    </tr>\n",
       "  </tbody>\n",
       "</table>\n",
       "<p>22873 rows × 3 columns</p>\n",
       "</div>"
      ],
      "text/plain": [
       "                           USER_ID_hash  \\\n",
       "0      0000b53e182165208887ba65c079fc21   \n",
       "1      00035b86e6884589ec8d28fbf2fe7757   \n",
       "2      0005b1068d5f2b8f2a7c978fcfe1ca06   \n",
       "3      000cc06982785a19e2a2fdb40b1c9d59   \n",
       "4      0013518e41c416cd6a181d277dd8ca0b   \n",
       "...                                 ...   \n",
       "22868  fff1a623187cefd7a594e338709b0f40   \n",
       "22869  fff4a076cfda6ff9dbe85e1cb678791b   \n",
       "22870  fff970d2014c3e10a77e38d540239017   \n",
       "22871  fffafc024e264d5d539813444cf61199   \n",
       "22872  ffff56dbf3c782c3532f88c6c79817ba   \n",
       "\n",
       "                                       PURCHASED_COUPONS  \\\n",
       "0      [0c015306597566b632bebfb63b7e59f3, 79de77aa8c3...   \n",
       "1      [0c015306597566b632bebfb63b7e59f3, 79de77aa8c3...   \n",
       "2      [0c015306597566b632bebfb63b7e59f3, 79de77aa8c3...   \n",
       "3      [0c015306597566b632bebfb63b7e59f3, 79de77aa8c3...   \n",
       "4      [0c015306597566b632bebfb63b7e59f3, 79de77aa8c3...   \n",
       "...                                                  ...   \n",
       "22868  [0c015306597566b632bebfb63b7e59f3, 79de77aa8c3...   \n",
       "22869  [0c015306597566b632bebfb63b7e59f3, 79de77aa8c3...   \n",
       "22870  [0c015306597566b632bebfb63b7e59f3, 79de77aa8c3...   \n",
       "22871  [0c015306597566b632bebfb63b7e59f3, 79de77aa8c3...   \n",
       "22872  [0c015306597566b632bebfb63b7e59f3, 79de77aa8c3...   \n",
       "\n",
       "                                                  COUPON  \n",
       "0      [0c015306597566b632bebfb63b7e59f3, 79de77aa8c3...  \n",
       "1      [0c015306597566b632bebfb63b7e59f3, 79de77aa8c3...  \n",
       "2      [0c015306597566b632bebfb63b7e59f3, 79de77aa8c3...  \n",
       "3      [0c015306597566b632bebfb63b7e59f3, 79de77aa8c3...  \n",
       "4      [0c015306597566b632bebfb63b7e59f3, 79de77aa8c3...  \n",
       "...                                                  ...  \n",
       "22868  [0c015306597566b632bebfb63b7e59f3, 79de77aa8c3...  \n",
       "22869  [0c015306597566b632bebfb63b7e59f3, 79de77aa8c3...  \n",
       "22870  [0c015306597566b632bebfb63b7e59f3, 79de77aa8c3...  \n",
       "22871  [0c015306597566b632bebfb63b7e59f3, 79de77aa8c3...  \n",
       "22872  [0c015306597566b632bebfb63b7e59f3, 79de77aa8c3...  \n",
       "\n",
       "[22873 rows x 3 columns]"
      ]
     },
     "execution_count": 124,
     "metadata": {},
     "output_type": "execute_result"
    }
   ],
   "source": [
    "submission"
   ]
  },
  {
   "cell_type": "code",
   "execution_count": 125,
   "id": "9a59a924-e01c-442e-b0c9-9915db2294a7",
   "metadata": {},
   "outputs": [],
   "source": [
    "submission.drop('PURCHASED_COUPONS', axis=1, inplace=True)\n",
    "submission.rename(columns={'COUPON':'PURCHASED_COUPONS'}, inplace=True)\n",
    "submission['PURCHASED_COUPONS'] = submission['PURCHASED_COUPONS'].astype('str')\n",
    "submission['PURCHASED_COUPONS'] = submission['PURCHASED_COUPONS'].apply(lambda x: x.replace('[',''))\n",
    "submission['PURCHASED_COUPONS'] = submission['PURCHASED_COUPONS'].apply(lambda x: x.replace(']',''))"
   ]
  },
  {
   "cell_type": "code",
   "execution_count": 126,
   "id": "793ac44b-e249-4bbd-819c-d82962b0f563",
   "metadata": {},
   "outputs": [
    {
     "data": {
      "text/html": [
       "<div>\n",
       "<style scoped>\n",
       "    .dataframe tbody tr th:only-of-type {\n",
       "        vertical-align: middle;\n",
       "    }\n",
       "\n",
       "    .dataframe tbody tr th {\n",
       "        vertical-align: top;\n",
       "    }\n",
       "\n",
       "    .dataframe thead th {\n",
       "        text-align: right;\n",
       "    }\n",
       "</style>\n",
       "<table border=\"1\" class=\"dataframe\">\n",
       "  <thead>\n",
       "    <tr style=\"text-align: right;\">\n",
       "      <th></th>\n",
       "      <th>USER_ID_hash</th>\n",
       "      <th>PURCHASED_COUPONS</th>\n",
       "    </tr>\n",
       "  </thead>\n",
       "  <tbody>\n",
       "    <tr>\n",
       "      <th>0</th>\n",
       "      <td>0000b53e182165208887ba65c079fc21</td>\n",
       "      <td>'0c015306597566b632bebfb63b7e59f3', '79de77aa8...</td>\n",
       "    </tr>\n",
       "    <tr>\n",
       "      <th>1</th>\n",
       "      <td>00035b86e6884589ec8d28fbf2fe7757</td>\n",
       "      <td>'0c015306597566b632bebfb63b7e59f3', '79de77aa8...</td>\n",
       "    </tr>\n",
       "    <tr>\n",
       "      <th>2</th>\n",
       "      <td>0005b1068d5f2b8f2a7c978fcfe1ca06</td>\n",
       "      <td>'0c015306597566b632bebfb63b7e59f3', '79de77aa8...</td>\n",
       "    </tr>\n",
       "    <tr>\n",
       "      <th>3</th>\n",
       "      <td>000cc06982785a19e2a2fdb40b1c9d59</td>\n",
       "      <td>'0c015306597566b632bebfb63b7e59f3', '79de77aa8...</td>\n",
       "    </tr>\n",
       "    <tr>\n",
       "      <th>4</th>\n",
       "      <td>0013518e41c416cd6a181d277dd8ca0b</td>\n",
       "      <td>'0c015306597566b632bebfb63b7e59f3', '79de77aa8...</td>\n",
       "    </tr>\n",
       "    <tr>\n",
       "      <th>...</th>\n",
       "      <td>...</td>\n",
       "      <td>...</td>\n",
       "    </tr>\n",
       "    <tr>\n",
       "      <th>22868</th>\n",
       "      <td>fff1a623187cefd7a594e338709b0f40</td>\n",
       "      <td>'0c015306597566b632bebfb63b7e59f3', '79de77aa8...</td>\n",
       "    </tr>\n",
       "    <tr>\n",
       "      <th>22869</th>\n",
       "      <td>fff4a076cfda6ff9dbe85e1cb678791b</td>\n",
       "      <td>'0c015306597566b632bebfb63b7e59f3', '79de77aa8...</td>\n",
       "    </tr>\n",
       "    <tr>\n",
       "      <th>22870</th>\n",
       "      <td>fff970d2014c3e10a77e38d540239017</td>\n",
       "      <td>'0c015306597566b632bebfb63b7e59f3', '79de77aa8...</td>\n",
       "    </tr>\n",
       "    <tr>\n",
       "      <th>22871</th>\n",
       "      <td>fffafc024e264d5d539813444cf61199</td>\n",
       "      <td>'0c015306597566b632bebfb63b7e59f3', '79de77aa8...</td>\n",
       "    </tr>\n",
       "    <tr>\n",
       "      <th>22872</th>\n",
       "      <td>ffff56dbf3c782c3532f88c6c79817ba</td>\n",
       "      <td>'0c015306597566b632bebfb63b7e59f3', '79de77aa8...</td>\n",
       "    </tr>\n",
       "  </tbody>\n",
       "</table>\n",
       "<p>22873 rows × 2 columns</p>\n",
       "</div>"
      ],
      "text/plain": [
       "                           USER_ID_hash  \\\n",
       "0      0000b53e182165208887ba65c079fc21   \n",
       "1      00035b86e6884589ec8d28fbf2fe7757   \n",
       "2      0005b1068d5f2b8f2a7c978fcfe1ca06   \n",
       "3      000cc06982785a19e2a2fdb40b1c9d59   \n",
       "4      0013518e41c416cd6a181d277dd8ca0b   \n",
       "...                                 ...   \n",
       "22868  fff1a623187cefd7a594e338709b0f40   \n",
       "22869  fff4a076cfda6ff9dbe85e1cb678791b   \n",
       "22870  fff970d2014c3e10a77e38d540239017   \n",
       "22871  fffafc024e264d5d539813444cf61199   \n",
       "22872  ffff56dbf3c782c3532f88c6c79817ba   \n",
       "\n",
       "                                       PURCHASED_COUPONS  \n",
       "0      '0c015306597566b632bebfb63b7e59f3', '79de77aa8...  \n",
       "1      '0c015306597566b632bebfb63b7e59f3', '79de77aa8...  \n",
       "2      '0c015306597566b632bebfb63b7e59f3', '79de77aa8...  \n",
       "3      '0c015306597566b632bebfb63b7e59f3', '79de77aa8...  \n",
       "4      '0c015306597566b632bebfb63b7e59f3', '79de77aa8...  \n",
       "...                                                  ...  \n",
       "22868  '0c015306597566b632bebfb63b7e59f3', '79de77aa8...  \n",
       "22869  '0c015306597566b632bebfb63b7e59f3', '79de77aa8...  \n",
       "22870  '0c015306597566b632bebfb63b7e59f3', '79de77aa8...  \n",
       "22871  '0c015306597566b632bebfb63b7e59f3', '79de77aa8...  \n",
       "22872  '0c015306597566b632bebfb63b7e59f3', '79de77aa8...  \n",
       "\n",
       "[22873 rows x 2 columns]"
      ]
     },
     "execution_count": 126,
     "metadata": {},
     "output_type": "execute_result"
    }
   ],
   "source": [
    "submission"
   ]
  },
  {
   "cell_type": "code",
   "execution_count": 127,
   "id": "29f5d2e0-d65d-4cac-bd1f-ec92a5598c92",
   "metadata": {},
   "outputs": [],
   "source": [
    "submission.to_csv('D:/aml2/XG_BOOST_submission.csv',index = False,header=True)"
   ]
  },
  {
   "cell_type": "markdown",
   "id": "3f176e2e-134f-4881-8436-3ac7734c1e21",
   "metadata": {},
   "source": [
    "### CHI_SQUARE_TEST"
   ]
  },
  {
   "cell_type": "code",
   "execution_count": 152,
   "id": "7cbffea4-ff9d-4a28-ba42-a71ff8c83fb9",
   "metadata": {},
   "outputs": [],
   "source": [
    "cd_train = pd.read_csv('coupon_detail_train.csv',parse_dates=['I_DATE'])"
   ]
  },
  {
   "cell_type": "code",
   "execution_count": 153,
   "id": "ce86374c-2537-40f4-8294-b28f9d55aaae",
   "metadata": {},
   "outputs": [
    {
     "name": "stdout",
     "output_type": "stream",
     "text": [
      "contingency_table :-\n",
      " "
     ]
    },
    {
     "name": "stderr",
     "output_type": "stream",
     "text": [
      "IOPub data rate exceeded.\n",
      "The Jupyter server will temporarily stop sending output\n",
      "to the client in order to avoid crashing it.\n",
      "To change this limit, set the config variable\n",
      "`--ServerApp.iopub_data_rate_limit`.\n",
      "\n",
      "Current values:\n",
      "ServerApp.iopub_data_rate_limit=1000000.0 (bytes/sec)\n",
      "ServerApp.rate_limit_window=3.0 (secs)\n",
      "\n"
     ]
    }
   ],
   "source": [
    "contingency_table=pd.crosstab(cd_train[\"USER_ID_hash\"],cd_train[\"COUPON_ID_hash\"])\n",
    "print('contingency_table :-\\n',contingency_table)"
   ]
  },
  {
   "cell_type": "code",
   "execution_count": 154,
   "id": "497644da-e449-435b-bce4-fd6769be9e28",
   "metadata": {},
   "outputs": [
    {
     "name": "stdout",
     "output_type": "stream",
     "text": [
      "Observed Values :-\n",
      " [[0 0 0 ... 0 0 0]\n",
      " [0 0 0 ... 0 0 0]\n",
      " [0 0 0 ... 0 0 0]\n",
      " ...\n",
      " [0 0 0 ... 0 0 0]\n",
      " [0 0 0 ... 0 0 0]\n",
      " [0 0 0 ... 0 0 0]]\n"
     ]
    }
   ],
   "source": [
    "Observed_Values = contingency_table.values \n",
    "print(\"Observed Values :-\\n\",Observed_Values)"
   ]
  },
  {
   "cell_type": "code",
   "execution_count": 155,
   "id": "de62948f-e18b-485e-adaf-35a666c0d94a",
   "metadata": {},
   "outputs": [
    {
     "name": "stdout",
     "output_type": "stream",
     "text": [
      "Expected Values :-\n",
      " [[5.91729982e-06 4.61549386e-04 2.95864991e-04 ... 3.55037989e-05\n",
      "  5.91729982e-06 1.18345996e-05]\n",
      " [5.91729982e-06 4.61549386e-04 2.95864991e-04 ... 3.55037989e-05\n",
      "  5.91729982e-06 1.18345996e-05]\n",
      " [1.18345996e-05 9.23098772e-04 5.91729982e-04 ... 7.10075978e-05\n",
      "  1.18345996e-05 2.36691993e-05]\n",
      " ...\n",
      " [2.36691993e-05 1.84619754e-03 1.18345996e-03 ... 1.42015196e-04\n",
      "  2.36691993e-05 4.73383985e-05]\n",
      " [1.18345996e-05 9.23098772e-04 5.91729982e-04 ... 7.10075978e-05\n",
      "  1.18345996e-05 2.36691993e-05]\n",
      " [1.77518995e-05 1.38464816e-03 8.87594973e-04 ... 1.06511397e-04\n",
      "  1.77518995e-05 3.55037989e-05]]\n"
     ]
    }
   ],
   "source": [
    "from scipy import stats\n",
    "b=stats.chi2_contingency(contingency_table)\n",
    "Expected_Values = b[3]\n",
    "print(\"Expected Values :-\\n\",Expected_Values)"
   ]
  },
  {
   "cell_type": "code",
   "execution_count": 156,
   "id": "715466f4-ab39-40ab-8051-7506e72fe932",
   "metadata": {},
   "outputs": [
    {
     "name": "stdout",
     "output_type": "stream",
     "text": [
      "Degree of Freedom:-         ITEM_COUNT              I_DATE SMALL_AREA_NAME  \\\n",
      "0                1 2012-03-28 15:06:06              兵庫   \n",
      "1                1 2011-07-04 23:52:54     銀座・新橋・東京・上野   \n",
      "2                1 2011-07-16 00:52:49       恵比寿・目黒・品川   \n",
      "3                1 2011-07-16 00:54:53       恵比寿・目黒・品川   \n",
      "4                1 2011-07-16 00:55:52       恵比寿・目黒・品川   \n",
      "...            ...                 ...             ...   \n",
      "168991           1 2012-02-07 12:14:50       池袋・神楽坂・赤羽   \n",
      "168992           1 2012-02-28 15:43:21     銀座・新橋・東京・上野   \n",
      "168993           1 2012-03-19 12:11:16     銀座・新橋・東京・上野   \n",
      "168994           2 2012-04-12 12:27:34  新宿・高田馬場・中野・吉祥寺   \n",
      "168995           1 2012-05-09 12:12:26  新宿・高田馬場・中野・吉祥寺   \n",
      "\n",
      "                         PURCHASEID_hash                      USER_ID_hash  \\\n",
      "0       c820a8882374a4e472f0984a8825893f  d9dca3cb44bab12ba313eaa681f663eb   \n",
      "1       1b4eb2435421ede98c8931c42e8220ec  560574a339f1b25e57b0221e486907ed   \n",
      "2       36b5f9ba46c44b65587d0b16f2e4c77f  560574a339f1b25e57b0221e486907ed   \n",
      "3       2f30f46937cc9004774e576914b2aa1a  560574a339f1b25e57b0221e486907ed   \n",
      "4       4d000c64a55ac573d0ae1a8f03677f50  560574a339f1b25e57b0221e486907ed   \n",
      "...                                  ...                               ...   \n",
      "168991  84b0c66349ae3c807f1d4601bfc0e8f6  280f0cedda5c4b171ee6245889659571   \n",
      "168992  f7b2b854457ae6ece44be04c32520064  280f0cedda5c4b171ee6245889659571   \n",
      "168993  e12f28eb208f5466dede7a7cb2fc566b  280f0cedda5c4b171ee6245889659571   \n",
      "168994  bcade77b186543a4820b3a6e3c06ad2f  280f0cedda5c4b171ee6245889659571   \n",
      "168995  fec51967a2f8135aa929cf2b5cc8722c  280f0cedda5c4b171ee6245889659571   \n",
      "\n",
      "                          COUPON_ID_hash  \n",
      "0       34c48f84026e08355dc3bd19b427f09a  \n",
      "1       767673b7a777854a92b73b0934ddfae7  \n",
      "2       4f3b5b91d9831192557c056022fdc1f2  \n",
      "3       4f3b5b91d9831192557c056022fdc1f2  \n",
      "4       4f3b5b91d9831192557c056022fdc1f2  \n",
      "...                                  ...  \n",
      "168991  6eac7a7e347c563e5e00086f5eb47903  \n",
      "168992  a406e389e35e1140e4bc9b472d8258df  \n",
      "168993  36addcc4b958135895c859d8783e3cd2  \n",
      "168994  cb0244705306aafccc47bfe62ece39d3  \n",
      "168995  31a605db6db5ad3fa3b2d4cf69ae3272  \n",
      "\n",
      "[168996 rows x 6 columns]\n"
     ]
    }
   ],
   "source": [
    "no_of_rows=len(contingency_table.iloc[0:2,0])\n",
    "no_of_columns=len(contingency_table.iloc[0,0:2])\n",
    "df11=(no_of_rows-1)*(no_of_columns-1)\n",
    "print(\"Degree of Freedom:-\",cd_train)\n",
    "alpha = 0.05"
   ]
  },
  {
   "cell_type": "code",
   "execution_count": 157,
   "id": "10231606-c9b7-4efc-925c-8b4f6c743aea",
   "metadata": {},
   "outputs": [
    {
     "name": "stdout",
     "output_type": "stream",
     "text": [
      "chi-square statistic:- 26168.0361452477\n"
     ]
    }
   ],
   "source": [
    "from scipy.stats import chi2\n",
    "chi_square=sum([(o-e)**2./e for o,e in zip(Observed_Values,Expected_Values)])\n",
    "chi_square_statistic=chi_square[0]+chi_square[1]\n",
    "print(\"chi-square statistic:-\",chi_square_statistic)"
   ]
  },
  {
   "cell_type": "code",
   "execution_count": 158,
   "id": "ee0691ef-bd07-40a2-9b28-5bfb274b8930",
   "metadata": {},
   "outputs": [
    {
     "name": "stdout",
     "output_type": "stream",
     "text": [
      "critical_value: 3.841458820694124\n"
     ]
    }
   ],
   "source": [
    "critical_value=chi2.ppf(q=1-alpha,df=df11)\n",
    "print('critical_value:',critical_value)"
   ]
  },
  {
   "cell_type": "code",
   "execution_count": 159,
   "id": "02277b3e-b9ca-41f2-b95b-8b13bdfa4287",
   "metadata": {},
   "outputs": [
    {
     "name": "stdout",
     "output_type": "stream",
     "text": [
      "p-value: 0.0\n"
     ]
    }
   ],
   "source": [
    "p_value=1-chi2.cdf(x=chi_square_statistic,df=df11)\n",
    "print('p-value:',p_value)"
   ]
  },
  {
   "cell_type": "code",
   "execution_count": 160,
   "id": "427260be-b5b1-4876-923c-d98bef4b6cf6",
   "metadata": {},
   "outputs": [
    {
     "name": "stdout",
     "output_type": "stream",
     "text": [
      "Significance level:  0.05\n",
      "Degree of Freedom:  1\n",
      "chi-square statistic: 26168.0361452477\n",
      "critical_value: 3.841458820694124\n",
      "p-value: 0.0\n"
     ]
    }
   ],
   "source": [
    "print('Significance level: ',alpha)\n",
    "print('Degree of Freedom: ',df11)\n",
    "print('chi-square statistic:',chi_square_statistic)\n",
    "print('critical_value:',critical_value)\n",
    "print('p-value:',p_value)"
   ]
  },
  {
   "cell_type": "code",
   "execution_count": 161,
   "id": "f654dac4-cc7d-4377-87fa-db606d4c8c59",
   "metadata": {},
   "outputs": [
    {
     "name": "stdout",
     "output_type": "stream",
     "text": [
      "Reject H0,There is a relationship between 2 categorical variables\n",
      "Reject H0,There is a relationship between 2 categorical variables\n"
     ]
    }
   ],
   "source": [
    "if chi_square_statistic>=critical_value:\n",
    "    print(\"Reject H0,There is a relationship between 2 categorical variables\")\n",
    "else:\n",
    "    print(\"Retain H0,There is no relationship between 2 categorical variables\")\n",
    "    \n",
    "if p_value<=alpha:\n",
    "    print(\"Reject H0,There is a relationship between 2 categorical variables\")\n",
    "else:\n",
    "    print(\"Retain H0,There is no relationship between 2 categorical variables\")"
   ]
  },
  {
   "cell_type": "markdown",
   "id": "4d851bba-a9cc-45a6-b0e7-d2dcf296155a",
   "metadata": {},
   "source": [
    "### ANN(Artificial Neural Network)"
   ]
  },
  {
   "cell_type": "code",
   "execution_count": 127,
   "id": "aefd5a74-61b1-4ca0-9e16-4a948bad6d3e",
   "metadata": {},
   "outputs": [
    {
     "name": "stdout",
     "output_type": "stream",
     "text": [
      "Model: \"sequential_8\"\n",
      "_________________________________________________________________\n",
      "Layer (type)                 Output Shape              Param #   \n",
      "=================================================================\n",
      "dense_21 (Dense)             (None, 12)                288       \n",
      "_________________________________________________________________\n",
      "dense_22 (Dense)             (None, 8)                 104       \n",
      "_________________________________________________________________\n",
      "dense_23 (Dense)             (None, 1)                 9         \n",
      "=================================================================\n",
      "Total params: 401\n",
      "Trainable params: 401\n",
      "Non-trainable params: 0\n",
      "_________________________________________________________________\n"
     ]
    }
   ],
   "source": [
    "import numpy as np\n",
    "from sklearn.model_selection import cross_val_score\n",
    "from sklearn.model_selection import KFold\n",
    "from sklearn.pipeline import Pipeline\n",
    "from sklearn.preprocessing import MinMaxScaler\n",
    "from tensorflow.python.keras.models import Sequential\n",
    "from tensorflow.python.keras.layers import Dense\n",
    "from tensorflow.python.keras.wrappers.scikit_learn import KerasRegressor\n",
    "\n",
    "model = Sequential()\n",
    "model.add(Dense(12, input_dim=23, kernel_initializer='normal', activation='relu'))\n",
    "model.add(Dense(8, activation='relu'))\n",
    "model.add(Dense(1, activation='linear'))\n",
    "model.summary()"
   ]
  },
  {
   "cell_type": "code",
   "execution_count": 128,
   "id": "d98232cf-2cef-4d33-8893-c573cd958c69",
   "metadata": {},
   "outputs": [],
   "source": [
    "mod_ls = [i for i in X_train.columns if i in test.columns]\n",
    "X_train = train.filter(mod_ls)\n",
    "y_train = train.PURCHASE_FLG"
   ]
  },
  {
   "cell_type": "code",
   "execution_count": 129,
   "id": "86c654c3-1418-4ffa-a638-7b4d471ff04d",
   "metadata": {},
   "outputs": [],
   "source": [
    "model.compile(loss='mse', optimizer='adam', metrics=['mse','mae','mape'])"
   ]
  },
  {
   "cell_type": "code",
   "execution_count": 130,
   "id": "ecd7222d-eb78-4aaa-90d9-cdde332bd91a",
   "metadata": {},
   "outputs": [
    {
     "name": "stdout",
     "output_type": "stream",
     "text": [
      "Epoch 1/20\n",
      "41565/41565 [==============================] - 35s 853us/step - loss: 102.4036 - mse: 102.4036 - mae: 0.3275 - mape: 266333984.0000 - val_loss: 0.1382 - val_mse: 0.1382 - val_mae: 0.1902 - val_mape: 45136920.0000\n",
      "Epoch 2/20\n",
      "41565/41565 [==============================] - 37s 884us/step - loss: 0.0537 - mse: 0.0537 - mae: 0.1072 - mape: 53614096.0000 - val_loss: 0.1362 - val_mse: 0.1362 - val_mae: 0.1898 - val_mape: 46351820.0000\n",
      "Epoch 3/20\n",
      "41565/41565 [==============================] - 42s 1ms/step - loss: 0.0534 - mse: 0.0534 - mae: 0.1067 - mape: 53335500.0000 - val_loss: 0.1359 - val_mse: 0.1359 - val_mae: 0.1946 - val_mape: 51369932.0000\n",
      "Epoch 4/20\n",
      "41565/41565 [==============================] - 40s 953us/step - loss: 0.0534 - mse: 0.0534 - mae: 0.1067 - mape: 53333956.0000 - val_loss: 0.1357 - val_mse: 0.1357 - val_mae: 0.1916 - val_mape: 48540532.0000\n",
      "Epoch 5/20\n",
      "41565/41565 [==============================] - 38s 922us/step - loss: 0.0534 - mse: 0.0534 - mae: 0.1066 - mape: 53306432.0000 - val_loss: 0.1386 - val_mse: 0.1386 - val_mae: 0.1872 - val_mape: 41912388.0000\n",
      "Epoch 6/20\n",
      "41565/41565 [==============================] - 38s 904us/step - loss: 0.0533 - mse: 0.0533 - mae: 0.1066 - mape: 53297780.0000 - val_loss: 0.1371 - val_mse: 0.1371 - val_mae: 0.1901 - val_mape: 45969972.0000\n",
      "Epoch 7/20\n",
      "41565/41565 [==============================] - 38s 902us/step - loss: 0.0534 - mse: 0.0534 - mae: 0.1066 - mape: 53313084.0000 - val_loss: 0.1379 - val_mse: 0.1379 - val_mae: 0.1863 - val_mape: 41732756.0000\n",
      "Epoch 8/20\n",
      "41565/41565 [==============================] - 38s 925us/step - loss: 0.0533 - mse: 0.0533 - mae: 0.1066 - mape: 53273268.0000 - val_loss: 0.1384 - val_mse: 0.1384 - val_mae: 0.1891 - val_mape: 44058472.0000\n",
      "Epoch 9/20\n",
      "41565/41565 [==============================] - 38s 918us/step - loss: 0.0534 - mse: 0.0534 - mae: 0.1066 - mape: 53320660.0000 - val_loss: 0.1365 - val_mse: 0.1365 - val_mae: 0.1909 - val_mape: 47267196.0000\n",
      "Epoch 10/20\n",
      "41565/41565 [==============================] - 40s 966us/step - loss: 0.0536 - mse: 0.0536 - mae: 0.1071 - mape: 53589468.0000 - val_loss: 0.1395 - val_mse: 0.1395 - val_mae: 0.1984 - val_mape: 53227248.0000\n",
      "Epoch 11/20\n",
      "41565/41565 [==============================] - 38s 917us/step - loss: 0.0543 - mse: 0.0543 - mae: 0.1085 - mape: 54241396.0000 - val_loss: 0.1414 - val_mse: 0.1414 - val_mae: 0.1916 - val_mape: 44709772.0000\n",
      "Epoch 12/20\n",
      "41565/41565 [==============================] - 40s 972us/step - loss: 0.0543 - mse: 0.0543 - mae: 0.1085 - mape: 54240796.0000 - val_loss: 0.1427 - val_mse: 0.1427 - val_mae: 0.1888 - val_mape: 40810892.0000\n",
      "Epoch 13/20\n",
      "41565/41565 [==============================] - 39s 948us/step - loss: 0.0542 - mse: 0.0542 - mae: 0.1084 - mape: 54185084.0000 - val_loss: 0.1399 - val_mse: 0.1399 - val_mae: 0.1869 - val_mape: 41004632.0000\n",
      "Epoch 14/20\n",
      "41565/41565 [==============================] - 41s 975us/step - loss: 0.0538 - mse: 0.0538 - mae: 0.1075 - mape: 53747236.0000 - val_loss: 0.1372 - val_mse: 0.1372 - val_mae: 0.1930 - val_mape: 49279340.0000\n",
      "Epoch 15/20\n",
      "41565/41565 [==============================] - 39s 946us/step - loss: 0.0538 - mse: 0.0538 - mae: 0.1075 - mape: 53730156.0000 - val_loss: 0.1403 - val_mse: 0.1403 - val_mae: 0.1854 - val_mape: 39059392.00000. - ETA\n",
      "Epoch 16/20\n",
      "41565/41565 [==============================] - 42s 1ms/step - loss: 0.0538 - mse: 0.0538 - mae: 0.1075 - mape: 53721772.0000 - val_loss: 0.1372 - val_mse: 0.1372 - val_mae: 0.1951 - val_mape: 51340636.0000\n",
      "Epoch 17/20\n",
      "41565/41565 [==============================] - 38s 925us/step - loss: 0.0538 - mse: 0.0538 - mae: 0.1075 - mape: 53724700.0000 - val_loss: 0.1373 - val_mse: 0.1373 - val_mae: 0.1935 - val_mape: 49710504.0000\n",
      "Epoch 18/20\n",
      "41565/41565 [==============================] - 40s 958us/step - loss: 0.0538 - mse: 0.0538 - mae: 0.1075 - mape: 53722004.0000 - val_loss: 0.1397 - val_mse: 0.1397 - val_mae: 0.1893 - val_mape: 43341600.0000\n",
      "Epoch 19/20\n",
      "41565/41565 [==============================] - 38s 905us/step - loss: 0.0538 - mse: 0.0538 - mae: 0.1074 - mape: 53719948.0000 - val_loss: 0.1375 - val_mse: 0.1375 - val_mae: 0.1948 - val_mape: 50669400.0000\n",
      "Epoch 20/20\n",
      "41565/41565 [==============================] - 41s 982us/step - loss: 0.0538 - mse: 0.0538 - mae: 0.1075 - mape: 53729432.0000 - val_loss: 0.1380 - val_mse: 0.1380 - val_mae: 0.1939 - val_mape: 49167000.0000\n"
     ]
    }
   ],
   "source": [
    "history = model.fit(X_train, y_train, epochs=20, batch_size=50,  verbose=1, validation_split=0.2)"
   ]
  },
  {
   "cell_type": "code",
   "execution_count": 131,
   "id": "35e407af-bf18-4c85-adb5-4a8d28e552fe",
   "metadata": {},
   "outputs": [],
   "source": [
    "y_pred_ann = model.predict(test.filter(mod_ls))"
   ]
  },
  {
   "cell_type": "code",
   "execution_count": 134,
   "id": "48a07f49-bb5f-4a05-8aa2-81c43fd1fb22",
   "metadata": {},
   "outputs": [],
   "source": [
    "y_pred_ann_proba = model.predict_proba(test.filter(mod_ls))"
   ]
  },
  {
   "cell_type": "code",
   "execution_count": 139,
   "id": "b2127b2c-3b33-4629-ba30-a665777d130c",
   "metadata": {},
   "outputs": [],
   "source": [
    "df_y_hat_proba_ann= pd.DataFrame(y_pred_ann_proba, columns=['y'])"
   ]
  },
  {
   "cell_type": "code",
   "execution_count": 140,
   "id": "bd22e03e-ff32-4c29-bd0d-8a361ebcbf51",
   "metadata": {},
   "outputs": [],
   "source": [
    "test_ann = test.filter(['USER_ID_hash', 'COUPON_ID_hash'])"
   ]
  },
  {
   "cell_type": "code",
   "execution_count": 141,
   "id": "75496149-8b95-4eab-ad30-743824293871",
   "metadata": {},
   "outputs": [],
   "source": [
    "result_proba_ann = pd.concat([test_ann, pd.DataFrame(df_y_hat_proba_ann)],1)"
   ]
  },
  {
   "cell_type": "code",
   "execution_count": 165,
   "id": "85f17447-788f-4338-ad6a-c53fc184f537",
   "metadata": {},
   "outputs": [],
   "source": [
    "mse = result_proba_ann.y.mean()"
   ]
  },
  {
   "cell_type": "code",
   "execution_count": 193,
   "id": "945cda23-dc74-40c0-8b31-d29addc51e7f",
   "metadata": {},
   "outputs": [
    {
     "data": {
      "text/plain": [
       "0.055211406"
      ]
     },
     "execution_count": 193,
     "metadata": {},
     "output_type": "execute_result"
    }
   ],
   "source": [
    "mse"
   ]
  },
  {
   "cell_type": "code",
   "execution_count": 166,
   "id": "3db29431-4e6b-4a3b-a081-430656b1a9a3",
   "metadata": {},
   "outputs": [
    {
     "data": {
      "text/plain": [
       "0.23497107524358013"
      ]
     },
     "execution_count": 166,
     "metadata": {},
     "output_type": "execute_result"
    }
   ],
   "source": [
    "import math\n",
    "rmse_ann = math.sqrt(mse)\n",
    "rmse_ann"
   ]
  },
  {
   "cell_type": "code",
   "execution_count": 143,
   "id": "e718df6d-417e-436f-ab21-3f3456e1d410",
   "metadata": {},
   "outputs": [],
   "source": [
    "result_proba_ann2 = result_proba_ann[result_proba_ann['y']>0.08].sort_values(by='y', ascending=False)"
   ]
  },
  {
   "cell_type": "code",
   "execution_count": 144,
   "id": "782fb34b-355d-4097-9176-aaaebc8a1b19",
   "metadata": {},
   "outputs": [],
   "source": [
    "lookup_table3 = result_proba_ann2.groupby('USER_ID_hash').apply(lambda x: list(x.COUPON_ID_hash))\n",
    "lookup_table3 = pd.DataFrame(lookup_table3, columns = ['COUPON_ID_hash']).reset_index()\n",
    "lookup_table3\n",
    "\n",
    "lookup_table3.rename(columns={'COUPON_ID_hash':'PURCHASED_COUPONS'},inplace=True)"
   ]
  },
  {
   "cell_type": "code",
   "execution_count": 145,
   "id": "d56f86df-30f0-47bf-aee7-e200700c0fce",
   "metadata": {},
   "outputs": [
    {
     "data": {
      "text/html": [
       "<div>\n",
       "<style scoped>\n",
       "    .dataframe tbody tr th:only-of-type {\n",
       "        vertical-align: middle;\n",
       "    }\n",
       "\n",
       "    .dataframe tbody tr th {\n",
       "        vertical-align: top;\n",
       "    }\n",
       "\n",
       "    .dataframe thead th {\n",
       "        text-align: right;\n",
       "    }\n",
       "</style>\n",
       "<table border=\"1\" class=\"dataframe\">\n",
       "  <thead>\n",
       "    <tr style=\"text-align: right;\">\n",
       "      <th></th>\n",
       "      <th>USER_ID_hash</th>\n",
       "      <th>PURCHASED_COUPONS</th>\n",
       "    </tr>\n",
       "  </thead>\n",
       "  <tbody>\n",
       "    <tr>\n",
       "      <th>0</th>\n",
       "      <td>0000b53e182165208887ba65c079fc21</td>\n",
       "      <td>[79de77aa8c36fdf17cb3366e2084e353, 520cb8509c6...</td>\n",
       "    </tr>\n",
       "    <tr>\n",
       "      <th>1</th>\n",
       "      <td>00035b86e6884589ec8d28fbf2fe7757</td>\n",
       "      <td>[79de77aa8c36fdf17cb3366e2084e353, 520cb8509c6...</td>\n",
       "    </tr>\n",
       "    <tr>\n",
       "      <th>2</th>\n",
       "      <td>0005b1068d5f2b8f2a7c978fcfe1ca06</td>\n",
       "      <td>[79de77aa8c36fdf17cb3366e2084e353, 520cb8509c6...</td>\n",
       "    </tr>\n",
       "    <tr>\n",
       "      <th>3</th>\n",
       "      <td>000cc06982785a19e2a2fdb40b1c9d59</td>\n",
       "      <td>[79de77aa8c36fdf17cb3366e2084e353, 520cb8509c6...</td>\n",
       "    </tr>\n",
       "    <tr>\n",
       "      <th>4</th>\n",
       "      <td>0013518e41c416cd6a181d277dd8ca0b</td>\n",
       "      <td>[79de77aa8c36fdf17cb3366e2084e353, 520cb8509c6...</td>\n",
       "    </tr>\n",
       "    <tr>\n",
       "      <th>...</th>\n",
       "      <td>...</td>\n",
       "      <td>...</td>\n",
       "    </tr>\n",
       "    <tr>\n",
       "      <th>22868</th>\n",
       "      <td>fff1a623187cefd7a594e338709b0f40</td>\n",
       "      <td>[79de77aa8c36fdf17cb3366e2084e353, 520cb8509c6...</td>\n",
       "    </tr>\n",
       "    <tr>\n",
       "      <th>22869</th>\n",
       "      <td>fff4a076cfda6ff9dbe85e1cb678791b</td>\n",
       "      <td>[79de77aa8c36fdf17cb3366e2084e353, 520cb8509c6...</td>\n",
       "    </tr>\n",
       "    <tr>\n",
       "      <th>22870</th>\n",
       "      <td>fff970d2014c3e10a77e38d540239017</td>\n",
       "      <td>[79de77aa8c36fdf17cb3366e2084e353, 520cb8509c6...</td>\n",
       "    </tr>\n",
       "    <tr>\n",
       "      <th>22871</th>\n",
       "      <td>fffafc024e264d5d539813444cf61199</td>\n",
       "      <td>[79de77aa8c36fdf17cb3366e2084e353, 520cb8509c6...</td>\n",
       "    </tr>\n",
       "    <tr>\n",
       "      <th>22872</th>\n",
       "      <td>ffff56dbf3c782c3532f88c6c79817ba</td>\n",
       "      <td>[79de77aa8c36fdf17cb3366e2084e353, 520cb8509c6...</td>\n",
       "    </tr>\n",
       "  </tbody>\n",
       "</table>\n",
       "<p>22873 rows × 2 columns</p>\n",
       "</div>"
      ],
      "text/plain": [
       "                           USER_ID_hash  \\\n",
       "0      0000b53e182165208887ba65c079fc21   \n",
       "1      00035b86e6884589ec8d28fbf2fe7757   \n",
       "2      0005b1068d5f2b8f2a7c978fcfe1ca06   \n",
       "3      000cc06982785a19e2a2fdb40b1c9d59   \n",
       "4      0013518e41c416cd6a181d277dd8ca0b   \n",
       "...                                 ...   \n",
       "22868  fff1a623187cefd7a594e338709b0f40   \n",
       "22869  fff4a076cfda6ff9dbe85e1cb678791b   \n",
       "22870  fff970d2014c3e10a77e38d540239017   \n",
       "22871  fffafc024e264d5d539813444cf61199   \n",
       "22872  ffff56dbf3c782c3532f88c6c79817ba   \n",
       "\n",
       "                                       PURCHASED_COUPONS  \n",
       "0      [79de77aa8c36fdf17cb3366e2084e353, 520cb8509c6...  \n",
       "1      [79de77aa8c36fdf17cb3366e2084e353, 520cb8509c6...  \n",
       "2      [79de77aa8c36fdf17cb3366e2084e353, 520cb8509c6...  \n",
       "3      [79de77aa8c36fdf17cb3366e2084e353, 520cb8509c6...  \n",
       "4      [79de77aa8c36fdf17cb3366e2084e353, 520cb8509c6...  \n",
       "...                                                  ...  \n",
       "22868  [79de77aa8c36fdf17cb3366e2084e353, 520cb8509c6...  \n",
       "22869  [79de77aa8c36fdf17cb3366e2084e353, 520cb8509c6...  \n",
       "22870  [79de77aa8c36fdf17cb3366e2084e353, 520cb8509c6...  \n",
       "22871  [79de77aa8c36fdf17cb3366e2084e353, 520cb8509c6...  \n",
       "22872  [79de77aa8c36fdf17cb3366e2084e353, 520cb8509c6...  \n",
       "\n",
       "[22873 rows x 2 columns]"
      ]
     },
     "execution_count": 145,
     "metadata": {},
     "output_type": "execute_result"
    }
   ],
   "source": [
    "lookup_table3"
   ]
  },
  {
   "cell_type": "code",
   "execution_count": 146,
   "id": "edf2b624-3b85-4f1e-9496-dddcd4f21dad",
   "metadata": {},
   "outputs": [],
   "source": [
    "submission_ann = pd.DataFrame(lookup_table3,columns=['USER_ID_hash','PURCHASED_COUPONS'])"
   ]
  },
  {
   "cell_type": "code",
   "execution_count": 147,
   "id": "d5c47830-f514-4fdb-ac22-4d2daa1e53fd",
   "metadata": {},
   "outputs": [],
   "source": [
    "submission_ann.insert(2, 'COUPON', submission_ann['USER_ID_hash'].map(lookup_table3.set_index('USER_ID_hash')['PURCHASED_COUPONS']))"
   ]
  },
  {
   "cell_type": "code",
   "execution_count": 148,
   "id": "dff25fc7-973d-4e6a-9f6f-ca29a0fa1472",
   "metadata": {},
   "outputs": [
    {
     "data": {
      "text/html": [
       "<div>\n",
       "<style scoped>\n",
       "    .dataframe tbody tr th:only-of-type {\n",
       "        vertical-align: middle;\n",
       "    }\n",
       "\n",
       "    .dataframe tbody tr th {\n",
       "        vertical-align: top;\n",
       "    }\n",
       "\n",
       "    .dataframe thead th {\n",
       "        text-align: right;\n",
       "    }\n",
       "</style>\n",
       "<table border=\"1\" class=\"dataframe\">\n",
       "  <thead>\n",
       "    <tr style=\"text-align: right;\">\n",
       "      <th></th>\n",
       "      <th>USER_ID_hash</th>\n",
       "      <th>PURCHASED_COUPONS</th>\n",
       "      <th>COUPON</th>\n",
       "    </tr>\n",
       "  </thead>\n",
       "  <tbody>\n",
       "    <tr>\n",
       "      <th>0</th>\n",
       "      <td>0000b53e182165208887ba65c079fc21</td>\n",
       "      <td>[79de77aa8c36fdf17cb3366e2084e353, 520cb8509c6...</td>\n",
       "      <td>[79de77aa8c36fdf17cb3366e2084e353, 520cb8509c6...</td>\n",
       "    </tr>\n",
       "    <tr>\n",
       "      <th>1</th>\n",
       "      <td>00035b86e6884589ec8d28fbf2fe7757</td>\n",
       "      <td>[79de77aa8c36fdf17cb3366e2084e353, 520cb8509c6...</td>\n",
       "      <td>[79de77aa8c36fdf17cb3366e2084e353, 520cb8509c6...</td>\n",
       "    </tr>\n",
       "    <tr>\n",
       "      <th>2</th>\n",
       "      <td>0005b1068d5f2b8f2a7c978fcfe1ca06</td>\n",
       "      <td>[79de77aa8c36fdf17cb3366e2084e353, 520cb8509c6...</td>\n",
       "      <td>[79de77aa8c36fdf17cb3366e2084e353, 520cb8509c6...</td>\n",
       "    </tr>\n",
       "    <tr>\n",
       "      <th>3</th>\n",
       "      <td>000cc06982785a19e2a2fdb40b1c9d59</td>\n",
       "      <td>[79de77aa8c36fdf17cb3366e2084e353, 520cb8509c6...</td>\n",
       "      <td>[79de77aa8c36fdf17cb3366e2084e353, 520cb8509c6...</td>\n",
       "    </tr>\n",
       "    <tr>\n",
       "      <th>4</th>\n",
       "      <td>0013518e41c416cd6a181d277dd8ca0b</td>\n",
       "      <td>[79de77aa8c36fdf17cb3366e2084e353, 520cb8509c6...</td>\n",
       "      <td>[79de77aa8c36fdf17cb3366e2084e353, 520cb8509c6...</td>\n",
       "    </tr>\n",
       "    <tr>\n",
       "      <th>...</th>\n",
       "      <td>...</td>\n",
       "      <td>...</td>\n",
       "      <td>...</td>\n",
       "    </tr>\n",
       "    <tr>\n",
       "      <th>22868</th>\n",
       "      <td>fff1a623187cefd7a594e338709b0f40</td>\n",
       "      <td>[79de77aa8c36fdf17cb3366e2084e353, 520cb8509c6...</td>\n",
       "      <td>[79de77aa8c36fdf17cb3366e2084e353, 520cb8509c6...</td>\n",
       "    </tr>\n",
       "    <tr>\n",
       "      <th>22869</th>\n",
       "      <td>fff4a076cfda6ff9dbe85e1cb678791b</td>\n",
       "      <td>[79de77aa8c36fdf17cb3366e2084e353, 520cb8509c6...</td>\n",
       "      <td>[79de77aa8c36fdf17cb3366e2084e353, 520cb8509c6...</td>\n",
       "    </tr>\n",
       "    <tr>\n",
       "      <th>22870</th>\n",
       "      <td>fff970d2014c3e10a77e38d540239017</td>\n",
       "      <td>[79de77aa8c36fdf17cb3366e2084e353, 520cb8509c6...</td>\n",
       "      <td>[79de77aa8c36fdf17cb3366e2084e353, 520cb8509c6...</td>\n",
       "    </tr>\n",
       "    <tr>\n",
       "      <th>22871</th>\n",
       "      <td>fffafc024e264d5d539813444cf61199</td>\n",
       "      <td>[79de77aa8c36fdf17cb3366e2084e353, 520cb8509c6...</td>\n",
       "      <td>[79de77aa8c36fdf17cb3366e2084e353, 520cb8509c6...</td>\n",
       "    </tr>\n",
       "    <tr>\n",
       "      <th>22872</th>\n",
       "      <td>ffff56dbf3c782c3532f88c6c79817ba</td>\n",
       "      <td>[79de77aa8c36fdf17cb3366e2084e353, 520cb8509c6...</td>\n",
       "      <td>[79de77aa8c36fdf17cb3366e2084e353, 520cb8509c6...</td>\n",
       "    </tr>\n",
       "  </tbody>\n",
       "</table>\n",
       "<p>22873 rows × 3 columns</p>\n",
       "</div>"
      ],
      "text/plain": [
       "                           USER_ID_hash  \\\n",
       "0      0000b53e182165208887ba65c079fc21   \n",
       "1      00035b86e6884589ec8d28fbf2fe7757   \n",
       "2      0005b1068d5f2b8f2a7c978fcfe1ca06   \n",
       "3      000cc06982785a19e2a2fdb40b1c9d59   \n",
       "4      0013518e41c416cd6a181d277dd8ca0b   \n",
       "...                                 ...   \n",
       "22868  fff1a623187cefd7a594e338709b0f40   \n",
       "22869  fff4a076cfda6ff9dbe85e1cb678791b   \n",
       "22870  fff970d2014c3e10a77e38d540239017   \n",
       "22871  fffafc024e264d5d539813444cf61199   \n",
       "22872  ffff56dbf3c782c3532f88c6c79817ba   \n",
       "\n",
       "                                       PURCHASED_COUPONS  \\\n",
       "0      [79de77aa8c36fdf17cb3366e2084e353, 520cb8509c6...   \n",
       "1      [79de77aa8c36fdf17cb3366e2084e353, 520cb8509c6...   \n",
       "2      [79de77aa8c36fdf17cb3366e2084e353, 520cb8509c6...   \n",
       "3      [79de77aa8c36fdf17cb3366e2084e353, 520cb8509c6...   \n",
       "4      [79de77aa8c36fdf17cb3366e2084e353, 520cb8509c6...   \n",
       "...                                                  ...   \n",
       "22868  [79de77aa8c36fdf17cb3366e2084e353, 520cb8509c6...   \n",
       "22869  [79de77aa8c36fdf17cb3366e2084e353, 520cb8509c6...   \n",
       "22870  [79de77aa8c36fdf17cb3366e2084e353, 520cb8509c6...   \n",
       "22871  [79de77aa8c36fdf17cb3366e2084e353, 520cb8509c6...   \n",
       "22872  [79de77aa8c36fdf17cb3366e2084e353, 520cb8509c6...   \n",
       "\n",
       "                                                  COUPON  \n",
       "0      [79de77aa8c36fdf17cb3366e2084e353, 520cb8509c6...  \n",
       "1      [79de77aa8c36fdf17cb3366e2084e353, 520cb8509c6...  \n",
       "2      [79de77aa8c36fdf17cb3366e2084e353, 520cb8509c6...  \n",
       "3      [79de77aa8c36fdf17cb3366e2084e353, 520cb8509c6...  \n",
       "4      [79de77aa8c36fdf17cb3366e2084e353, 520cb8509c6...  \n",
       "...                                                  ...  \n",
       "22868  [79de77aa8c36fdf17cb3366e2084e353, 520cb8509c6...  \n",
       "22869  [79de77aa8c36fdf17cb3366e2084e353, 520cb8509c6...  \n",
       "22870  [79de77aa8c36fdf17cb3366e2084e353, 520cb8509c6...  \n",
       "22871  [79de77aa8c36fdf17cb3366e2084e353, 520cb8509c6...  \n",
       "22872  [79de77aa8c36fdf17cb3366e2084e353, 520cb8509c6...  \n",
       "\n",
       "[22873 rows x 3 columns]"
      ]
     },
     "execution_count": 148,
     "metadata": {},
     "output_type": "execute_result"
    }
   ],
   "source": [
    "submission_ann"
   ]
  },
  {
   "cell_type": "code",
   "execution_count": 149,
   "id": "b5699915-8069-469e-8836-ec978bc14f9c",
   "metadata": {},
   "outputs": [],
   "source": [
    "submission_ann.drop('PURCHASED_COUPONS', axis=1, inplace=True)\n",
    "submission_ann.rename(columns={'COUPON':'PURCHASED_COUPONS'}, inplace=True)\n",
    "submission_ann['PURCHASED_COUPONS'] = submission_ann['PURCHASED_COUPONS'].astype('str')\n",
    "submission_ann['PURCHASED_COUPONS'] = submission_ann['PURCHASED_COUPONS'].apply(lambda x: x.replace('[',''))\n",
    "submission_ann['PURCHASED_COUPONS'] = submission_ann['PURCHASED_COUPONS'].apply(lambda x: x.replace(']',''))"
   ]
  },
  {
   "cell_type": "code",
   "execution_count": 150,
   "id": "a85bc9a3-2e6b-43d4-af36-c0ee33ec685f",
   "metadata": {},
   "outputs": [
    {
     "data": {
      "text/html": [
       "<div>\n",
       "<style scoped>\n",
       "    .dataframe tbody tr th:only-of-type {\n",
       "        vertical-align: middle;\n",
       "    }\n",
       "\n",
       "    .dataframe tbody tr th {\n",
       "        vertical-align: top;\n",
       "    }\n",
       "\n",
       "    .dataframe thead th {\n",
       "        text-align: right;\n",
       "    }\n",
       "</style>\n",
       "<table border=\"1\" class=\"dataframe\">\n",
       "  <thead>\n",
       "    <tr style=\"text-align: right;\">\n",
       "      <th></th>\n",
       "      <th>USER_ID_hash</th>\n",
       "      <th>PURCHASED_COUPONS</th>\n",
       "    </tr>\n",
       "  </thead>\n",
       "  <tbody>\n",
       "    <tr>\n",
       "      <th>0</th>\n",
       "      <td>0000b53e182165208887ba65c079fc21</td>\n",
       "      <td>'79de77aa8c36fdf17cb3366e2084e353', '520cb8509...</td>\n",
       "    </tr>\n",
       "    <tr>\n",
       "      <th>1</th>\n",
       "      <td>00035b86e6884589ec8d28fbf2fe7757</td>\n",
       "      <td>'79de77aa8c36fdf17cb3366e2084e353', '520cb8509...</td>\n",
       "    </tr>\n",
       "    <tr>\n",
       "      <th>2</th>\n",
       "      <td>0005b1068d5f2b8f2a7c978fcfe1ca06</td>\n",
       "      <td>'79de77aa8c36fdf17cb3366e2084e353', '520cb8509...</td>\n",
       "    </tr>\n",
       "    <tr>\n",
       "      <th>3</th>\n",
       "      <td>000cc06982785a19e2a2fdb40b1c9d59</td>\n",
       "      <td>'79de77aa8c36fdf17cb3366e2084e353', '520cb8509...</td>\n",
       "    </tr>\n",
       "    <tr>\n",
       "      <th>4</th>\n",
       "      <td>0013518e41c416cd6a181d277dd8ca0b</td>\n",
       "      <td>'79de77aa8c36fdf17cb3366e2084e353', '520cb8509...</td>\n",
       "    </tr>\n",
       "    <tr>\n",
       "      <th>...</th>\n",
       "      <td>...</td>\n",
       "      <td>...</td>\n",
       "    </tr>\n",
       "    <tr>\n",
       "      <th>22868</th>\n",
       "      <td>fff1a623187cefd7a594e338709b0f40</td>\n",
       "      <td>'79de77aa8c36fdf17cb3366e2084e353', '520cb8509...</td>\n",
       "    </tr>\n",
       "    <tr>\n",
       "      <th>22869</th>\n",
       "      <td>fff4a076cfda6ff9dbe85e1cb678791b</td>\n",
       "      <td>'79de77aa8c36fdf17cb3366e2084e353', '520cb8509...</td>\n",
       "    </tr>\n",
       "    <tr>\n",
       "      <th>22870</th>\n",
       "      <td>fff970d2014c3e10a77e38d540239017</td>\n",
       "      <td>'79de77aa8c36fdf17cb3366e2084e353', '520cb8509...</td>\n",
       "    </tr>\n",
       "    <tr>\n",
       "      <th>22871</th>\n",
       "      <td>fffafc024e264d5d539813444cf61199</td>\n",
       "      <td>'79de77aa8c36fdf17cb3366e2084e353', '520cb8509...</td>\n",
       "    </tr>\n",
       "    <tr>\n",
       "      <th>22872</th>\n",
       "      <td>ffff56dbf3c782c3532f88c6c79817ba</td>\n",
       "      <td>'79de77aa8c36fdf17cb3366e2084e353', '520cb8509...</td>\n",
       "    </tr>\n",
       "  </tbody>\n",
       "</table>\n",
       "<p>22873 rows × 2 columns</p>\n",
       "</div>"
      ],
      "text/plain": [
       "                           USER_ID_hash  \\\n",
       "0      0000b53e182165208887ba65c079fc21   \n",
       "1      00035b86e6884589ec8d28fbf2fe7757   \n",
       "2      0005b1068d5f2b8f2a7c978fcfe1ca06   \n",
       "3      000cc06982785a19e2a2fdb40b1c9d59   \n",
       "4      0013518e41c416cd6a181d277dd8ca0b   \n",
       "...                                 ...   \n",
       "22868  fff1a623187cefd7a594e338709b0f40   \n",
       "22869  fff4a076cfda6ff9dbe85e1cb678791b   \n",
       "22870  fff970d2014c3e10a77e38d540239017   \n",
       "22871  fffafc024e264d5d539813444cf61199   \n",
       "22872  ffff56dbf3c782c3532f88c6c79817ba   \n",
       "\n",
       "                                       PURCHASED_COUPONS  \n",
       "0      '79de77aa8c36fdf17cb3366e2084e353', '520cb8509...  \n",
       "1      '79de77aa8c36fdf17cb3366e2084e353', '520cb8509...  \n",
       "2      '79de77aa8c36fdf17cb3366e2084e353', '520cb8509...  \n",
       "3      '79de77aa8c36fdf17cb3366e2084e353', '520cb8509...  \n",
       "4      '79de77aa8c36fdf17cb3366e2084e353', '520cb8509...  \n",
       "...                                                  ...  \n",
       "22868  '79de77aa8c36fdf17cb3366e2084e353', '520cb8509...  \n",
       "22869  '79de77aa8c36fdf17cb3366e2084e353', '520cb8509...  \n",
       "22870  '79de77aa8c36fdf17cb3366e2084e353', '520cb8509...  \n",
       "22871  '79de77aa8c36fdf17cb3366e2084e353', '520cb8509...  \n",
       "22872  '79de77aa8c36fdf17cb3366e2084e353', '520cb8509...  \n",
       "\n",
       "[22873 rows x 2 columns]"
      ]
     },
     "execution_count": 150,
     "metadata": {},
     "output_type": "execute_result"
    }
   ],
   "source": [
    "submission_ann"
   ]
  },
  {
   "cell_type": "code",
   "execution_count": 151,
   "id": "52bbd565-9b28-4a9e-80f2-2923d8f935bd",
   "metadata": {},
   "outputs": [],
   "source": [
    "submission_ann.to_csv('D:/aml2/ANN_submission.csv',index = False,header=True)"
   ]
  }
 ],
 "metadata": {
  "kernelspec": {
   "display_name": "newdeep",
   "language": "python",
   "name": "other-env"
  },
  "language_info": {
   "codemirror_mode": {
    "name": "ipython",
    "version": 3
   },
   "file_extension": ".py",
   "mimetype": "text/x-python",
   "name": "python",
   "nbconvert_exporter": "python",
   "pygments_lexer": "ipython3",
   "version": "3.8.11"
  }
 },
 "nbformat": 4,
 "nbformat_minor": 5
}
